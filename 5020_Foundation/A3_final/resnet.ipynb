{
 "cells": [
  {
   "cell_type": "code",
   "execution_count": 1,
   "id": "5ba30a8c",
   "metadata": {
    "_cell_guid": "b1076dfc-b9ad-4769-8c92-a6c4dae69d19",
    "_uuid": "8f2839f25d086af736a60e9eeb907d3b93b6e0e5",
    "execution": {
     "iopub.execute_input": "2023-11-28T11:14:56.621865Z",
     "iopub.status.busy": "2023-11-28T11:14:56.620861Z",
     "iopub.status.idle": "2023-11-28T11:15:27.173590Z",
     "shell.execute_reply": "2023-11-28T11:15:27.172330Z"
    },
    "papermill": {
     "duration": 30.563123,
     "end_time": "2023-11-28T11:15:27.176071",
     "exception": false,
     "start_time": "2023-11-28T11:14:56.612948",
     "status": "completed"
    },
    "tags": []
   },
   "outputs": [
    {
     "name": "stdout",
     "output_type": "stream",
     "text": [
      "Requirement already satisfied: scikit-learn in /opt/conda/lib/python3.10/site-packages (1.2.2)\r\n",
      "Requirement already satisfied: numpy>=1.17.3 in /opt/conda/lib/python3.10/site-packages (from scikit-learn) (1.24.3)\r\n",
      "Requirement already satisfied: scipy>=1.3.2 in /opt/conda/lib/python3.10/site-packages (from scikit-learn) (1.11.3)\r\n",
      "Requirement already satisfied: joblib>=1.1.1 in /opt/conda/lib/python3.10/site-packages (from scikit-learn) (1.3.2)\r\n",
      "Requirement already satisfied: threadpoolctl>=2.0.0 in /opt/conda/lib/python3.10/site-packages (from scikit-learn) (3.2.0)\r\n"
     ]
    }
   ],
   "source": [
    "import warnings\n",
    "warnings.filterwarnings('ignore')\n",
    "\n",
    "import os\n",
    "import pandas as pd\n",
    "import numpy as np\n",
    "import matplotlib.pyplot as plt\n",
    "%matplotlib inline\n",
    "import seaborn as sns\n",
    "import joblib\n",
    "import torch\n",
    "\n",
    "from sklearn.metrics import classification_report , confusion_matrix , accuracy_score , auc\n",
    "from sklearn.model_selection import train_test_split\n",
    "import cv2\n",
    "#from google.colab.patches import cv2_imshow\n",
    "from PIL import Image \n",
    "import tensorflow as tf\n",
    "from tensorflow import keras\n",
    "from keras import Sequential\n",
    "from keras.layers import Input, Dense,Conv2D , MaxPooling2D, Flatten,BatchNormalization,Dropout\n",
    "from tensorflow.keras.preprocessing import image_dataset_from_directory\n",
    "import tensorflow_hub as hub \n",
    "!pip install scikit-learn\n",
    "from sklearn.metrics import balanced_accuracy_score\n",
    "from tensorflow.keras.optimizers import Adam\n",
    "\n"
   ]
  },
  {
   "cell_type": "code",
   "execution_count": 2,
   "id": "c0518394",
   "metadata": {
    "execution": {
     "iopub.execute_input": "2023-11-28T11:15:27.191162Z",
     "iopub.status.busy": "2023-11-28T11:15:27.190067Z",
     "iopub.status.idle": "2023-11-28T11:15:58.954562Z",
     "shell.execute_reply": "2023-11-28T11:15:58.953581Z"
    },
    "papermill": {
     "duration": 31.779611,
     "end_time": "2023-11-28T11:15:58.962202",
     "exception": false,
     "start_time": "2023-11-28T11:15:27.182591",
     "status": "completed"
    },
    "tags": []
   },
   "outputs": [
    {
     "name": "stdout",
     "output_type": "stream",
     "text": [
      "(10763, 256, 256, 3)\n",
      "(10763,)\n"
     ]
    }
   ],
   "source": [
    "x = joblib.load(\"/kaggle/input/preprocessing-done/x_data.joblib\")\n",
    "y = joblib.load(\"/kaggle/input/preprocessing-done/y_data.joblib\")\n",
    "img_ids = joblib.load(\"/kaggle/input/preprocessing-done/img_ids.joblib\")\n",
    "print(x.shape)\n",
    "print(y.shape)"
   ]
  },
  {
   "cell_type": "code",
   "execution_count": 3,
   "id": "6bea9d66",
   "metadata": {
    "execution": {
     "iopub.execute_input": "2023-11-28T11:15:58.975702Z",
     "iopub.status.busy": "2023-11-28T11:15:58.975158Z",
     "iopub.status.idle": "2023-11-28T11:15:59.814199Z",
     "shell.execute_reply": "2023-11-28T11:15:59.812988Z"
    },
    "papermill": {
     "duration": 0.848026,
     "end_time": "2023-11-28T11:15:59.816357",
     "exception": false,
     "start_time": "2023-11-28T11:15:58.968331",
     "status": "completed"
    },
    "tags": []
   },
   "outputs": [
    {
     "name": "stdout",
     "output_type": "stream",
     "text": [
      "(6375, 256, 256, 3)\n",
      "(1125, 256, 256, 3)\n",
      "(6375,)\n",
      "(1125,)\n"
     ]
    }
   ],
   "source": [
    "x1=x[:7500]\n",
    "y1=y[:7500]\n",
    "img_ids1=img_ids[:7500]\n",
    "x_train, x_test, y_train, y_test, img_ids_train, img_ids_test = train_test_split(x1, y1, img_ids1, test_size=0.15, shuffle=True, random_state=42)\n",
    "print(x_train.shape)\n",
    "print(x_test.shape)\n",
    "print(y_train.shape)\n",
    "print(y_test.shape)"
   ]
  },
  {
   "cell_type": "code",
   "execution_count": 4,
   "id": "7db87548",
   "metadata": {
    "execution": {
     "iopub.execute_input": "2023-11-28T11:15:59.829955Z",
     "iopub.status.busy": "2023-11-28T11:15:59.829665Z",
     "iopub.status.idle": "2023-11-28T11:27:27.078444Z",
     "shell.execute_reply": "2023-11-28T11:27:27.077590Z"
    },
    "papermill": {
     "duration": 687.258053,
     "end_time": "2023-11-28T11:27:27.080694",
     "exception": false,
     "start_time": "2023-11-28T11:15:59.822641",
     "status": "completed"
    },
    "tags": []
   },
   "outputs": [
    {
     "name": "stdout",
     "output_type": "stream",
     "text": [
      "Class Weights: {0: 0.5254698318496495, 1: 1.0830784913353537, 2: 0.8123088685015187, 3: 0.9231103388357816, 4: 1.163745892661534, 5: 1e-10}\n",
      "Epoch 1/7\n",
      "99/99 [==============================] - 132s 895ms/step - loss: 1.5032 - accuracy: 0.4243 - val_loss: 2.1333 - val_accuracy: 0.4267 - lr: 1.0000e-04\n",
      "Epoch 2/7\n",
      "99/99 [==============================] - 89s 893ms/step - loss: 1.2311 - accuracy: 0.5490 - val_loss: 2.2852 - val_accuracy: 0.4400 - lr: 1.0000e-04\n",
      "Epoch 3/7\n",
      "99/99 [==============================] - 89s 898ms/step - loss: 1.1130 - accuracy: 0.6143 - val_loss: 1.8207 - val_accuracy: 0.5547 - lr: 1.0000e-04\n",
      "Epoch 4/7\n",
      "99/99 [==============================] - 90s 905ms/step - loss: 1.0351 - accuracy: 0.6500 - val_loss: 1.8694 - val_accuracy: 0.5307 - lr: 1.0000e-04\n",
      "Epoch 5/7\n",
      "99/99 [==============================] - 89s 896ms/step - loss: 0.9717 - accuracy: 0.6794 - val_loss: 1.8277 - val_accuracy: 0.5271 - lr: 1.0000e-04\n",
      "Epoch 6/7\n",
      "99/99 [==============================] - 90s 904ms/step - loss: 0.9047 - accuracy: 0.7191 - val_loss: 2.1043 - val_accuracy: 0.5244 - lr: 9.0000e-05\n",
      "Epoch 7/7\n",
      "99/99 [==============================] - 88s 883ms/step - loss: 0.8465 - accuracy: 0.7386 - val_loss: 1.6808 - val_accuracy: 0.5804 - lr: 8.1000e-05\n"
     ]
    }
   ],
   "source": [
    "import tensorflow as tf\n",
    "import tensorflow_hub as hub\n",
    "\n",
    "seed_value = 42\n",
    "np.random.seed(seed_value)\n",
    "tf.random.set_seed(seed_value)\n",
    "\n",
    "\n",
    "# Load the pre-trained ResNet-v2 model from TensorFlow Hub\n",
    "base_model = tf.keras.Sequential([\n",
    "    hub.KerasLayer(\"https://www.kaggle.com/models/google/resnet-v2/frameworks/TensorFlow2/variations/50-classification/versions/2\",\n",
    "                   trainable=True, arguments=dict(batch_norm_momentum=0.997))\n",
    "])\n",
    "\n",
    "# Build the model with a specific input shape\n",
    "base_model.build([None, 256, 256, 3])  # Batch input shape.\n",
    "\n",
    "# Omit the last layer from the base_model\n",
    "base_model = tf.keras.Model(inputs=base_model.input, outputs=base_model.layers[-1].output)\n",
    "\n",
    "# Optionally, make some layers trainable\n",
    "for layer in base_model.layers[-20:]:\n",
    "    layer.trainable = True\n",
    "\n",
    "# Define your custom top layers for classification\n",
    "model = tf.keras.Sequential([\n",
    "    base_model,\n",
    "    tf.keras.layers.Dropout(0.05),  # Dropout layer for regularization\n",
    "    tf.keras.layers.Dense(6, activation='softmax')  # Output layer with 6 units and softmax activation\n",
    "])\n",
    "\n",
    "# Compile the model\n",
    "model.compile(\n",
    "    loss='sparse_categorical_crossentropy',\n",
    "    optimizer=Adam(learning_rate=0.0001),\n",
    "    metrics=['accuracy']  # Add Balanced Accuracy as a metric\n",
    ")\n",
    "\n",
    "# Convert labels to one-hot encoding\n",
    "y_train_one_hot = tf.keras.utils.to_categorical(y_train, num_classes=6)\n",
    "y_test_one_hot = tf.keras.utils.to_categorical(y_test, num_classes=6)\n",
    "\n",
    "# Manually calculate class weights based on class distribution\n",
    "num_classes = 6\n",
    "class_weights = {0: 1, 1: 1, 2: 1, 3: 1, 4: 1, 5: 1}  # Set epsilon value for class 5\n",
    "\n",
    "# Set a small non-zero value for classes with no samples\n",
    "epsilon = 1e-10\n",
    "total_samples = len(y_train)\n",
    "\n",
    "for c in range(num_classes):\n",
    "    class_count = len(y_train[y_train == c])\n",
    "    if class_count == 0:\n",
    "        class_weights[c] = epsilon  \n",
    "    else:\n",
    "        class_weights[c] = total_samples / ((num_classes * class_count) + epsilon)\n",
    "\n",
    "# Implement a learning rate schedule\n",
    "def learning_rate_scheduler(epoch, lr):\n",
    "    if epoch < 5:\n",
    "        return lr\n",
    "    else:\n",
    "        return lr * 0.9\n",
    "\n",
    "# Print class weights\n",
    "print(\"Class Weights:\", class_weights)\n",
    "\n",
    "# Compile the model with manually calculated class weights and custom learning rate\n",
    "model.compile(loss='sparse_categorical_crossentropy', optimizer=tf.keras.optimizers.Adam(learning_rate=0.0001), metrics=['accuracy'])\n",
    "\n",
    "# Augmenting training data\n",
    "datagen = tf.keras.preprocessing.image.ImageDataGenerator(\n",
    "    rotation_range=20,\n",
    "    width_shift_range=0.2,\n",
    "    height_shift_range=0.2,\n",
    "    horizontal_flip=True,\n",
    "    vertical_flip=True,\n",
    "    preprocessing_function=None  \n",
    ")\n",
    "\n",
    "datagen.fit(x_train)\n",
    "\n",
    "# Fine-tune the model with dropout layers\n",
    "history = model.fit(datagen.flow(x_train, y_train, batch_size=64), validation_data=(x_test, y_test),\n",
    "                    steps_per_epoch=len(x_train) // 64, epochs=7, class_weight=class_weights,\n",
    "                    callbacks=[tf.keras.callbacks.LearningRateScheduler(learning_rate_scheduler),\n",
    "                               tf.keras.callbacks.EarlyStopping(patience=5, restore_best_weights=True)])\n"
   ]
  },
  {
   "cell_type": "code",
   "execution_count": 5,
   "id": "829de111",
   "metadata": {
    "execution": {
     "iopub.execute_input": "2023-11-28T11:27:27.207210Z",
     "iopub.status.busy": "2023-11-28T11:27:27.206483Z",
     "iopub.status.idle": "2023-11-28T11:27:32.119689Z",
     "shell.execute_reply": "2023-11-28T11:27:32.118477Z"
    },
    "papermill": {
     "duration": 4.97871,
     "end_time": "2023-11-28T11:27:32.121996",
     "exception": false,
     "start_time": "2023-11-28T11:27:27.143286",
     "status": "completed"
    },
    "tags": []
   },
   "outputs": [
    {
     "name": "stdout",
     "output_type": "stream",
     "text": [
      "36/36 [==============================] - 2s 65ms/step - loss: 1.6808 - accuracy: 0.5804\n",
      "Validation Loss: 1.6808, Accuracy: 0.5804\n"
     ]
    }
   ],
   "source": [
    "# Evaluate the model\n",
    "loss, accuracy = model.evaluate(x_test, y_test)\n",
    "print(f'Validation Loss: {loss:.4f}, Accuracy: {accuracy:.4f}')\n"
   ]
  },
  {
   "cell_type": "code",
   "execution_count": 6,
   "id": "8baca7ac",
   "metadata": {
    "execution": {
     "iopub.execute_input": "2023-11-28T11:27:32.258469Z",
     "iopub.status.busy": "2023-11-28T11:27:32.258078Z",
     "iopub.status.idle": "2023-11-28T11:27:32.813153Z",
     "shell.execute_reply": "2023-11-28T11:27:32.812164Z"
    },
    "papermill": {
     "duration": 0.626341,
     "end_time": "2023-11-28T11:27:32.815265",
     "exception": false,
     "start_time": "2023-11-28T11:27:32.188924",
     "status": "completed"
    },
    "tags": []
   },
   "outputs": [
    {
     "data": {
      "image/png": "[encoded data removed]",
      "text/plain": [
       "<Figure size 1200x400 with 1 Axes>"
      ]
     },
     "metadata": {},
     "output_type": "display_data"
    }
   ],
   "source": [
    "# Extract metrics from the training history\n",
    "history_metrics = history.history\n",
    "\n",
    "# Convert metrics to a DataFrame\n",
    "metrics_df = pd.DataFrame(history_metrics)\n",
    "\n",
    "# Plot the metrics using seaborn with different colors\n",
    "plt.figure(figsize=(12, 4))\n",
    "sns.lineplot(data=metrics_df['accuracy'], marker='o', label='Training Accuracy', color='blue')\n",
    "sns.lineplot(data=metrics_df['val_accuracy'], marker='o', label='Validation Accuracy', color='orange')\n",
    "sns.lineplot(data=metrics_df['loss'], marker='o', label='Training Loss', color='green')\n",
    "sns.lineplot(data=metrics_df['val_loss'], marker='o', label='Validation Loss', color='red')\n",
    "plt.title('Training Metrics')\n",
    "plt.xlabel('Epoch')\n",
    "plt.ylabel('Value')\n",
    "plt.legend()\n",
    "plt.grid(True)\n",
    "plt.show()\n"
   ]
  },
  {
   "cell_type": "code",
   "execution_count": 7,
   "id": "de3fe94a",
   "metadata": {
    "execution": {
     "iopub.execute_input": "2023-11-28T11:27:32.950262Z",
     "iopub.status.busy": "2023-11-28T11:27:32.949381Z",
     "iopub.status.idle": "2023-11-28T11:27:32.953751Z",
     "shell.execute_reply": "2023-11-28T11:27:32.952876Z"
    },
    "papermill": {
     "duration": 0.073597,
     "end_time": "2023-11-28T11:27:32.955739",
     "exception": false,
     "start_time": "2023-11-28T11:27:32.882142",
     "status": "completed"
    },
    "tags": []
   },
   "outputs": [],
   "source": [
    "# Save the entire model to a HDF5 file\n",
    "#model.save(\"/kaggle/working/resnet-v2-50.h5\")\n",
    "\n",
    "#from tensorflow.keras.models import save_model\n",
    "#save_model(model, \"/kaggle/working/resnet-v2-50.h5\")"
   ]
  },
  {
   "cell_type": "code",
   "execution_count": 8,
   "id": "5bd32d71",
   "metadata": {
    "execution": {
     "iopub.execute_input": "2023-11-28T11:27:33.093112Z",
     "iopub.status.busy": "2023-11-28T11:27:33.092388Z",
     "iopub.status.idle": "2023-11-28T11:27:56.681654Z",
     "shell.execute_reply": "2023-11-28T11:27:56.680829Z"
    },
    "papermill": {
     "duration": 23.660177,
     "end_time": "2023-11-28T11:27:56.684071",
     "exception": false,
     "start_time": "2023-11-28T11:27:33.023894",
     "status": "completed"
    },
    "tags": []
   },
   "outputs": [],
   "source": [
    "from tensorflow.keras.models import load_model\n",
    "CNN_model = load_model('/kaggle/input/model12/CNN_model.h5')\n",
    "VGG_model = load_model('/kaggle/input/model21/vgg_model.h5')"
   ]
  },
  {
   "cell_type": "code",
   "execution_count": 9,
   "id": "cac47144",
   "metadata": {
    "execution": {
     "iopub.execute_input": "2023-11-28T11:27:56.832867Z",
     "iopub.status.busy": "2023-11-28T11:27:56.832018Z",
     "iopub.status.idle": "2023-11-28T11:28:15.164170Z",
     "shell.execute_reply": "2023-11-28T11:28:15.163172Z"
    },
    "papermill": {
     "duration": 18.413408,
     "end_time": "2023-11-28T11:28:15.166455",
     "exception": false,
     "start_time": "2023-11-28T11:27:56.753047",
     "status": "completed"
    },
    "tags": []
   },
   "outputs": [
    {
     "name": "stdout",
     "output_type": "stream",
     "text": [
      "36/36 [==============================] - 1s 16ms/step\n",
      "36/36 [==============================] - 6s 96ms/step\n",
      "36/36 [==============================] - 3s 62ms/step\n"
     ]
    }
   ],
   "source": [
    "predictions1= CNN_model.predict(x_test)\n",
    "predictions2= VGG_model.predict(x_test)\n",
    "predictions3= model.predict(x_test)\n",
    "#y_pred = np.argmax(predictions, axis=1)"
   ]
  },
  {
   "cell_type": "code",
   "execution_count": 10,
   "id": "df512eac",
   "metadata": {
    "execution": {
     "iopub.execute_input": "2023-11-28T11:28:15.312137Z",
     "iopub.status.busy": "2023-11-28T11:28:15.311735Z",
     "iopub.status.idle": "2023-11-28T11:28:15.328322Z",
     "shell.execute_reply": "2023-11-28T11:28:15.327549Z"
    },
    "papermill": {
     "duration": 0.091211,
     "end_time": "2023-11-28T11:28:15.330123",
     "exception": false,
     "start_time": "2023-11-28T11:28:15.238912",
     "status": "completed"
    },
    "tags": []
   },
   "outputs": [],
   "source": [
    "weight1 = 0.1\n",
    "weight2 = 0.3\n",
    "weight3 = 0.6\n",
    "\n",
    "# 根据权重对预测结果进行加权组合\n",
    "ensemble_predictions = np.argmax(weight1 * predictions1 + weight2 * predictions2 + weight3 * predictions3, axis=1)"
   ]
  },
  {
   "cell_type": "code",
   "execution_count": 11,
   "id": "615fac95",
   "metadata": {
    "execution": {
     "iopub.execute_input": "2023-11-28T11:28:15.474777Z",
     "iopub.status.busy": "2023-11-28T11:28:15.474403Z",
     "iopub.status.idle": "2023-11-28T11:28:15.482031Z",
     "shell.execute_reply": "2023-11-28T11:28:15.481168Z"
    },
    "papermill": {
     "duration": 0.082312,
     "end_time": "2023-11-28T11:28:15.483971",
     "exception": false,
     "start_time": "2023-11-28T11:28:15.401659",
     "status": "completed"
    },
    "tags": []
   },
   "outputs": [
    {
     "data": {
      "text/plain": [
       "0.6017777777777777"
      ]
     },
     "execution_count": 11,
     "metadata": {},
     "output_type": "execute_result"
    }
   ],
   "source": [
    "from sklearn.metrics import accuracy_score\n",
    "accuracy = accuracy_score(y_test, ensemble_predictions)\n",
    "accuracy"
   ]
  },
  {
   "cell_type": "code",
   "execution_count": 12,
   "id": "e62971e0",
   "metadata": {
    "execution": {
     "iopub.execute_input": "2023-11-28T11:28:15.629049Z",
     "iopub.status.busy": "2023-11-28T11:28:15.628214Z",
     "iopub.status.idle": "2023-11-28T11:28:15.635218Z",
     "shell.execute_reply": "2023-11-28T11:28:15.634364Z"
    },
    "papermill": {
     "duration": 0.081632,
     "end_time": "2023-11-28T11:28:15.637141",
     "exception": false,
     "start_time": "2023-11-28T11:28:15.555509",
     "status": "completed"
    },
    "tags": []
   },
   "outputs": [],
   "source": [
    "from collections import Counter\n",
    "from sklearn.metrics import accuracy_score\n",
    "def find_majority_label(image_ids, labels):\n",
    "    id_label_map = {}  # 创建一个空的字典来存储image_id和对应的label\n",
    "\n",
    "    # 遍历image_ids和labels列表\n",
    "    for image_id, label in zip(image_ids, labels):\n",
    "        if image_id in id_label_map:\n",
    "            id_label_map[image_id].append(label)\n",
    "        else:\n",
    "            id_label_map[image_id] = [label]\n",
    "\n",
    "    majority_labels = {}  # 创建一个空的字典来存储每个唯一image_id的多数投票label\n",
    "\n",
    "    # 对字典中的每个唯一image_id的label列表进行多数投票\n",
    "    for image_id, label_list in id_label_map.items():\n",
    "        label_counts = Counter(label_list)\n",
    "        majority_label = label_counts.most_common(1)[0][0]\n",
    "        majority_labels[image_id] = majority_label\n",
    "\n",
    "    return majority_labels"
   ]
  },
  {
   "cell_type": "code",
   "execution_count": 13,
   "id": "752109b6",
   "metadata": {
    "execution": {
     "iopub.execute_input": "2023-11-28T11:28:15.781344Z",
     "iopub.status.busy": "2023-11-28T11:28:15.780480Z",
     "iopub.status.idle": "2023-11-28T11:28:15.795896Z",
     "shell.execute_reply": "2023-11-28T11:28:15.795045Z"
    },
    "papermill": {
     "duration": 0.08952,
     "end_time": "2023-11-28T11:28:15.797865",
     "exception": false,
     "start_time": "2023-11-28T11:28:15.708345",
     "status": "completed"
    },
    "tags": []
   },
   "outputs": [
    {
     "data": {
      "text/plain": [
       "0.6005154639175257"
      ]
     },
     "execution_count": 13,
     "metadata": {},
     "output_type": "execute_result"
    }
   ],
   "source": [
    "y_votingpred=find_majority_label(img_ids_test, ensemble_predictions)\n",
    "# 对图像 ID 进行去重\n",
    "unique_img_ids = np.unique(img_ids_test)\n",
    "\n",
    "# 根据去重后的图像 ID，获取对应的真实标签和预测标签\n",
    "y_test_matched = []\n",
    "y_test_matched = np.array([y_test[np.where(img_ids_test == img_id)[0][0]] for img_id in unique_img_ids])\n",
    "y_votingpred_matched = np.array([y_votingpred[img_id] for img_id in unique_img_ids])\n",
    "\n",
    "# 计算准确度\n",
    "accuracy = accuracy_score(y_test_matched, y_votingpred_matched)\n",
    "accuracy"
   ]
  },
  {
   "cell_type": "code",
   "execution_count": 14,
   "id": "4c7a667d",
   "metadata": {
    "execution": {
     "iopub.execute_input": "2023-11-28T11:28:15.942061Z",
     "iopub.status.busy": "2023-11-28T11:28:15.941706Z",
     "iopub.status.idle": "2023-11-28T11:28:15.950274Z",
     "shell.execute_reply": "2023-11-28T11:28:15.949316Z"
    },
    "papermill": {
     "duration": 0.082308,
     "end_time": "2023-11-28T11:28:15.952181",
     "exception": false,
     "start_time": "2023-11-28T11:28:15.869873",
     "status": "completed"
    },
    "tags": []
   },
   "outputs": [
    {
     "name": "stdout",
     "output_type": "stream",
     "text": [
      "balanced_acc: 0.6513949500965582\n"
     ]
    }
   ],
   "source": [
    "from sklearn.metrics import balanced_accuracy_score\n",
    "\n",
    "# 计算平衡准确率\n",
    "balanced_acc = balanced_accuracy_score(y_test_matched, y_votingpred_matched)\n",
    "\n",
    "print(\"balanced_acc:\", balanced_acc)"
   ]
  },
  {
   "cell_type": "code",
   "execution_count": null,
   "id": "68360a46",
   "metadata": {
    "papermill": {
     "duration": 0.070974,
     "end_time": "2023-11-28T11:28:16.094379",
     "exception": false,
     "start_time": "2023-11-28T11:28:16.023405",
     "status": "completed"
    },
    "tags": []
   },
   "outputs": [],
   "source": []
  },
  {
   "cell_type": "code",
   "execution_count": null,
   "id": "cacd575e",
   "metadata": {
    "papermill": {
     "duration": 0.070752,
     "end_time": "2023-11-28T11:28:16.237961",
     "exception": false,
     "start_time": "2023-11-28T11:28:16.167209",
     "status": "completed"
    },
    "tags": []
   },
   "outputs": [],
   "source": []
  },
  {
   "cell_type": "markdown",
   "id": "bc07f276",
   "metadata": {
    "papermill": {
     "duration": 0.070735,
     "end_time": "2023-11-28T11:28:16.379749",
     "exception": false,
     "start_time": "2023-11-28T11:28:16.309014",
     "status": "completed"
    },
    "tags": []
   },
   "source": [
    "# 单独的resnet"
   ]
  },
  {
   "cell_type": "code",
   "execution_count": 15,
   "id": "fcbd08d9",
   "metadata": {
    "execution": {
     "iopub.execute_input": "2023-11-28T11:28:16.523135Z",
     "iopub.status.busy": "2023-11-28T11:28:16.522506Z",
     "iopub.status.idle": "2023-11-28T11:28:16.530300Z",
     "shell.execute_reply": "2023-11-28T11:28:16.529484Z"
    },
    "papermill": {
     "duration": 0.081358,
     "end_time": "2023-11-28T11:28:16.532187",
     "exception": false,
     "start_time": "2023-11-28T11:28:16.450829",
     "status": "completed"
    },
    "tags": []
   },
   "outputs": [
    {
     "data": {
      "text/plain": [
       "'from collections import Counter\\nfrom sklearn.metrics import accuracy_score\\ndef find_majority_label(image_ids, labels):\\n    id_label_map = {}  # 创建一个空的字典来存储image_id和对应的label\\n\\n    # 遍历image_ids和labels列表\\n    for image_id, label in zip(image_ids, labels):\\n        if image_id in id_label_map:\\n            id_label_map[image_id].append(label)\\n        else:\\n            id_label_map[image_id] = [label]\\n\\n    majority_labels = {}  # 创建一个空的字典来存储每个唯一image_id的多数投票label\\n\\n    # 对字典中的每个唯一image_id的label列表进行多数投票\\n    for image_id, label_list in id_label_map.items():\\n        label_counts = Counter(label_list)\\n        majority_label = label_counts.most_common(1)[0][0]\\n        majority_labels[image_id] = majority_label\\n\\n    return majority_labels\\n\\ny_votingpred=find_majority_label(img_ids_test, y_pred)\\n# 对图像 ID 进行去重\\nunique_img_ids = np.unique(img_ids_test)\\n\\n# 根据去重后的图像 ID，获取对应的真实标签和预测标签\\ny_test_matched = []\\ny_test_matched = np.array([y_test[np.where(img_ids_test == img_id)[0][0]] for img_id in unique_img_ids])\\ny_votingpred_matched = np.array([y_votingpred[img_id] for img_id in unique_img_ids])\\n\\n# 计算准确度\\naccuracy = accuracy_score(y_test_matched, y_votingpred_matched)\\naccuracy\\n0.6237113402061856'"
      ]
     },
     "execution_count": 15,
     "metadata": {},
     "output_type": "execute_result"
    }
   ],
   "source": [
    "'''from collections import Counter\n",
    "from sklearn.metrics import accuracy_score\n",
    "def find_majority_label(image_ids, labels):\n",
    "    id_label_map = {}  # 创建一个空的字典来存储image_id和对应的label\n",
    "\n",
    "    # 遍历image_ids和labels列表\n",
    "    for image_id, label in zip(image_ids, labels):\n",
    "        if image_id in id_label_map:\n",
    "            id_label_map[image_id].append(label)\n",
    "        else:\n",
    "            id_label_map[image_id] = [label]\n",
    "\n",
    "    majority_labels = {}  # 创建一个空的字典来存储每个唯一image_id的多数投票label\n",
    "\n",
    "    # 对字典中的每个唯一image_id的label列表进行多数投票\n",
    "    for image_id, label_list in id_label_map.items():\n",
    "        label_counts = Counter(label_list)\n",
    "        majority_label = label_counts.most_common(1)[0][0]\n",
    "        majority_labels[image_id] = majority_label\n",
    "\n",
    "    return majority_labels\n",
    "\n",
    "y_votingpred=find_majority_label(img_ids_test, y_pred)\n",
    "# 对图像 ID 进行去重\n",
    "unique_img_ids = np.unique(img_ids_test)\n",
    "\n",
    "# 根据去重后的图像 ID，获取对应的真实标签和预测标签\n",
    "y_test_matched = []\n",
    "y_test_matched = np.array([y_test[np.where(img_ids_test == img_id)[0][0]] for img_id in unique_img_ids])\n",
    "y_votingpred_matched = np.array([y_votingpred[img_id] for img_id in unique_img_ids])\n",
    "\n",
    "# 计算准确度\n",
    "accuracy = accuracy_score(y_test_matched, y_votingpred_matched)\n",
    "accuracy\n",
    "0.6237113402061856'''"
   ]
  },
  {
   "cell_type": "code",
   "execution_count": 16,
   "id": "22dfec7e",
   "metadata": {
    "execution": {
     "iopub.execute_input": "2023-11-28T11:28:16.675833Z",
     "iopub.status.busy": "2023-11-28T11:28:16.675124Z",
     "iopub.status.idle": "2023-11-28T11:28:16.681164Z",
     "shell.execute_reply": "2023-11-28T11:28:16.680296Z"
    },
    "papermill": {
     "duration": 0.080382,
     "end_time": "2023-11-28T11:28:16.683116",
     "exception": false,
     "start_time": "2023-11-28T11:28:16.602734",
     "status": "completed"
    },
    "tags": []
   },
   "outputs": [
    {
     "data": {
      "text/plain": [
       "'from sklearn.metrics import balanced_accuracy_score\\n\\n# 计算平衡准确率\\nbalanced_acc = balanced_accuracy_score(y_test_matched, y_votingpred_matched)\\n\\nprint(\"balanced_acc:\", balanced_acc)\\nbalanced_acc: 0.62202165791326\\n'"
      ]
     },
     "execution_count": 16,
     "metadata": {},
     "output_type": "execute_result"
    }
   ],
   "source": [
    "'''from sklearn.metrics import balanced_accuracy_score\n",
    "\n",
    "# 计算平衡准确率\n",
    "balanced_acc = balanced_accuracy_score(y_test_matched, y_votingpred_matched)\n",
    "\n",
    "print(\"balanced_acc:\", balanced_acc)\n",
    "balanced_acc: 0.62202165791326\n",
    "'''"
   ]
  },
  {
   "cell_type": "code",
   "execution_count": null,
   "id": "55627703",
   "metadata": {
    "papermill": {
     "duration": 0.071273,
     "end_time": "2023-11-28T11:28:16.825872",
     "exception": false,
     "start_time": "2023-11-28T11:28:16.754599",
     "status": "completed"
    },
    "tags": []
   },
   "outputs": [],
   "source": []
  }
 ],
 "metadata": {
  "kaggle": {
   "accelerator": "gpu",
   "dataSources": [
    {
     "databundleVersionId": 6924515,
     "sourceId": 45867,
     "sourceType": "competition"
    },
    {
     "sourceId": 152286657,
     "sourceType": "kernelVersion"
    },
    {
     "sourceId": 152646407,
     "sourceType": "kernelVersion"
    },
    {
     "sourceId": 152198900,
     "sourceType": "kernelVersion"
    },
    {
     "modelInstanceId": 2390,
     "sourceId": 3213,
     "sourceType": "modelInstanceVersion"
    }
   ],
   "dockerImageVersionId": 30588,
   "isGpuEnabled": true,
   "isInternetEnabled": true,
   "language": "python",
   "sourceType": "notebook"
  },
  "kernelspec": {
   "display_name": "Python 3",
   "language": "python",
   "name": "python3"
  },
  "language_info": {
   "codemirror_mode": {
    "name": "ipython",
    "version": 3
   },
   "file_extension": ".py",
   "mimetype": "text/x-python",
   "name": "python",
   "nbconvert_exporter": "python",
   "pygments_lexer": "ipython3",
   "version": "3.10.12"
  },
  "papermill": {
   "default_parameters": {},
   "duration": 806.911968,
   "end_time": "2023-11-28T11:28:20.119688",
   "environment_variables": {},
   "exception": null,
   "input_path": "__notebook__.ipynb",
   "output_path": "__notebook__.ipynb",
   "parameters": {},
   "start_time": "2023-11-28T11:14:53.207720",
   "version": "2.4.0"
  }
 },
 "nbformat": 4,
 "nbformat_minor": 5
}
