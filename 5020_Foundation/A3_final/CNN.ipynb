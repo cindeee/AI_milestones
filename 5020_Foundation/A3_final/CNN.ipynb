{
 "cells": [
  {
   "cell_type": "code",
   "execution_count": 1,
   "id": "c65df3db",
   "metadata": {
    "_cell_guid": "b1076dfc-b9ad-4769-8c92-a6c4dae69d19",
    "_uuid": "8f2839f25d086af736a60e9eeb907d3b93b6e0e5",
    "execution": {
     "iopub.execute_input": "2023-11-25T02:33:02.594221Z",
     "iopub.status.busy": "2023-11-25T02:33:02.593900Z",
     "iopub.status.idle": "2023-11-25T02:33:03.421818Z",
     "shell.execute_reply": "2023-11-25T02:33:03.421051Z"
    },
    "papermill": {
     "duration": 0.835729,
     "end_time": "2023-11-25T02:33:03.424074",
     "exception": false,
     "start_time": "2023-11-25T02:33:02.588345",
     "status": "completed"
    },
    "tags": []
   },
   "outputs": [],
   "source": [
    "# This Python 3 environment comes with many helpful analytics libraries installed\n",
    "# It is defined by the kaggle/python Docker image: https://github.com/kaggle/docker-python\n",
    "# For example, here's several helpful packages to load\n",
    "\n",
    "import numpy as np # linear algebra\n",
    "import pandas as pd # data processing, CSV file I/O (e.g. pd.read_csv)\n",
    "\n",
    "# Input data files are available in the read-only \"../input/\" directory\n",
    "# For example, running this (by clicking run or pressing Shift+Enter) will list all files under the input directory\n",
    "\n",
    "#import os\n",
    "#for dirname, _, filenames in os.walk('/kaggle/input'):\n",
    "    #for filename in filenames:\n",
    "       # print(os.path.join(dirname, filename))\n",
    "\n",
    "# You can write up to 20GB to the current directory (/kaggle/working/) that gets preserved as output when you create a version using \"Save & Run All\" \n",
    "# You can also write temporary files to /kaggle/temp/, but they won't be saved outside of the current session"
   ]
  },
  {
   "cell_type": "code",
   "execution_count": 2,
   "id": "3ac12a0a",
   "metadata": {
    "execution": {
     "iopub.execute_input": "2023-11-25T02:33:03.432845Z",
     "iopub.status.busy": "2023-11-25T02:33:03.432072Z",
     "iopub.status.idle": "2023-11-25T02:33:32.885690Z",
     "shell.execute_reply": "2023-11-25T02:33:32.884596Z"
    },
    "papermill": {
     "duration": 29.460361,
     "end_time": "2023-11-25T02:33:32.888233",
     "exception": false,
     "start_time": "2023-11-25T02:33:03.427872",
     "status": "completed"
    },
    "tags": []
   },
   "outputs": [
    {
     "name": "stdout",
     "output_type": "stream",
     "text": [
      "(10763, 256, 256, 3)\n",
      "(10763,)\n"
     ]
    }
   ],
   "source": [
    "import joblib\n",
    "x = joblib.load(\"/kaggle/input/preprocessing-done/x_data.joblib\")\n",
    "y = joblib.load(\"/kaggle/input/preprocessing-done/y_data.joblib\")\n",
    "img_ids = joblib.load(\"/kaggle/input/preprocessing-done/img_ids.joblib\")\n",
    "print(x.shape)\n",
    "print(y.shape)"
   ]
  },
  {
   "cell_type": "code",
   "execution_count": 3,
   "id": "05744002",
   "metadata": {
    "execution": {
     "iopub.execute_input": "2023-11-25T02:33:32.897647Z",
     "iopub.status.busy": "2023-11-25T02:33:32.897336Z",
     "iopub.status.idle": "2023-11-25T02:33:34.833558Z",
     "shell.execute_reply": "2023-11-25T02:33:34.832283Z"
    },
    "papermill": {
     "duration": 1.943355,
     "end_time": "2023-11-25T02:33:34.835747",
     "exception": false,
     "start_time": "2023-11-25T02:33:32.892392",
     "status": "completed"
    },
    "tags": []
   },
   "outputs": [
    {
     "name": "stderr",
     "output_type": "stream",
     "text": [
      "/opt/conda/lib/python3.10/site-packages/scipy/__init__.py:146: UserWarning: A NumPy version >=1.16.5 and <1.23.0 is required for this version of SciPy (detected version 1.24.3\n",
      "  warnings.warn(f\"A NumPy version >={np_minversion} and <{np_maxversion}\"\n"
     ]
    },
    {
     "name": "stdout",
     "output_type": "stream",
     "text": [
      "(6800, 256, 256, 3)\n",
      "(1200, 256, 256, 3)\n",
      "(6800,)\n",
      "(1200,)\n"
     ]
    }
   ],
   "source": [
    "import numpy as np\n",
    "from sklearn.model_selection import train_test_split\n",
    "x1=x[:8000]\n",
    "y1=y[:8000]\n",
    "img_ids1=img_ids[:8000]\n",
    "x_train, x_test, y_train, y_test, img_ids_train, img_ids_test = train_test_split(x1, y1, img_ids1, test_size=0.15, shuffle=True, random_state=42)\n",
    "print(x_train.shape)\n",
    "print(x_test.shape)\n",
    "print(y_train.shape)\n",
    "print(y_test.shape)"
   ]
  },
  {
   "cell_type": "code",
   "execution_count": 4,
   "id": "a293dd22",
   "metadata": {
    "execution": {
     "iopub.execute_input": "2023-11-25T02:33:34.845112Z",
     "iopub.status.busy": "2023-11-25T02:33:34.844817Z",
     "iopub.status.idle": "2023-11-25T02:33:51.227493Z",
     "shell.execute_reply": "2023-11-25T02:33:51.226227Z"
    },
    "papermill": {
     "duration": 16.390679,
     "end_time": "2023-11-25T02:33:51.230487",
     "exception": false,
     "start_time": "2023-11-25T02:33:34.839808",
     "status": "completed"
    },
    "tags": []
   },
   "outputs": [
    {
     "name": "stdout",
     "output_type": "stream",
     "text": [
      "True\n"
     ]
    }
   ],
   "source": [
    "import tensorflow as tf\n",
    "print(tf.test.is_gpu_available())"
   ]
  },
  {
   "cell_type": "markdown",
   "id": "e09ff75d",
   "metadata": {
    "papermill": {
     "duration": 0.004581,
     "end_time": "2023-11-25T02:33:51.240172",
     "exception": false,
     "start_time": "2023-11-25T02:33:51.235591",
     "status": "completed"
    },
    "tags": []
   },
   "source": [
    "a two-layer network (CNN) with one convolutional layer (four feature maps, kernel width 120, stride 1) with ReLU activation, one fully connected layer, softmax activation, and L1-regularization with weight 0.0001 was applied.  "
   ]
  },
  {
   "cell_type": "markdown",
   "id": "0b7251b3",
   "metadata": {
    "papermill": {
     "duration": 0.005107,
     "end_time": "2023-11-25T02:33:51.250070",
     "exception": false,
     "start_time": "2023-11-25T02:33:51.244963",
     "status": "completed"
    },
    "tags": []
   },
   "source": [
    "# CNN"
   ]
  },
  {
   "cell_type": "code",
   "execution_count": 5,
   "id": "23bd283d",
   "metadata": {
    "execution": {
     "iopub.execute_input": "2023-11-25T02:33:51.261747Z",
     "iopub.status.busy": "2023-11-25T02:33:51.261040Z",
     "iopub.status.idle": "2023-11-25T02:35:05.481743Z",
     "shell.execute_reply": "2023-11-25T02:35:05.480871Z"
    },
    "papermill": {
     "duration": 74.230414,
     "end_time": "2023-11-25T02:35:05.484896",
     "exception": false,
     "start_time": "2023-11-25T02:33:51.254482",
     "status": "completed"
    },
    "tags": []
   },
   "outputs": [
    {
     "name": "stdout",
     "output_type": "stream",
     "text": [
      "Epoch 1/3\n",
      "107/107 [==============================] - 28s 138ms/step - loss: 2.2788 - accuracy: 0.2743 - val_loss: 1.5323 - val_accuracy: 0.3442\n",
      "Epoch 2/3\n",
      "107/107 [==============================] - 10s 90ms/step - loss: 1.5120 - accuracy: 0.3374 - val_loss: 1.5097 - val_accuracy: 0.2925\n",
      "Epoch 3/3\n",
      "107/107 [==============================] - 10s 93ms/step - loss: 1.4089 - accuracy: 0.4157 - val_loss: 1.5324 - val_accuracy: 0.3308\n"
     ]
    },
    {
     "name": "stderr",
     "output_type": "stream",
     "text": [
      "/tmp/ipykernel_26/408422091.py:24: UserWarning: You are saving your model as an HDF5 file via `model.save()`. This file format is considered legacy. We recommend using instead the native Keras format, e.g. `model.save('my_model.keras')`.\n",
      "  save_model(CNN_model, \"/kaggle/working/CNN_model.h5\")\n"
     ]
    },
    {
     "name": "stdout",
     "output_type": "stream",
     "text": [
      "38/38 [==============================] - 1s 20ms/step\n"
     ]
    }
   ],
   "source": [
    "from tensorflow.keras.models import Sequential\n",
    "from tensorflow.keras.layers import Conv2D, MaxPooling2D, Flatten, Dense\n",
    "from tensorflow.keras.utils import to_categorical\n",
    "import tensorflow as tf\n",
    "from tensorflow.keras.models import save_model\n",
    "devices = ['/GPU:0', '/GPU:1']\n",
    "num_classes = 6\n",
    "strategy = tf.distribute.MirroredStrategy(devices=devices)\n",
    "# Build the CNN model\n",
    "with strategy.scope(): \n",
    "    CNN_model= Sequential([\n",
    "        Conv2D(32, (3,3), activation='relu', input_shape=(256, 256, 3)),\n",
    "        MaxPooling2D((2,2)),\n",
    "        Conv2D(64, (3,3), activation='relu'),\n",
    "        MaxPooling2D((2,2)),\n",
    "        Flatten(),\n",
    "        Dense(64, activation='relu'),\n",
    "        Dense(num_classes, activation='softmax')\n",
    "    ])\n",
    "\n",
    "    # Compile the model\n",
    "    CNN_model.compile(optimizer='adam', loss='sparse_categorical_crossentropy', metrics=['accuracy'])\n",
    "    CNN_model.fit(x_train, y_train, epochs=3, batch_size=64, validation_data=(x_test,y_test))  # 训练模型\n",
    "    save_model(CNN_model, \"/kaggle/working/CNN_model.h5\")\n",
    "    predictions=CNN_model.predict(x_test)\n",
    "    y_pred = np.argmax(predictions, axis=1)"
   ]
  },
  {
   "cell_type": "code",
   "execution_count": 6,
   "id": "fa3f9115",
   "metadata": {
    "execution": {
     "iopub.execute_input": "2023-11-25T02:35:05.570303Z",
     "iopub.status.busy": "2023-11-25T02:35:05.569941Z",
     "iopub.status.idle": "2023-11-25T02:35:05.579506Z",
     "shell.execute_reply": "2023-11-25T02:35:05.578596Z"
    },
    "papermill": {
     "duration": 0.052606,
     "end_time": "2023-11-25T02:35:05.581465",
     "exception": false,
     "start_time": "2023-11-25T02:35:05.528859",
     "status": "completed"
    },
    "tags": []
   },
   "outputs": [
    {
     "data": {
      "text/plain": [
       "0.3308333333333333"
      ]
     },
     "execution_count": 6,
     "metadata": {},
     "output_type": "execute_result"
    }
   ],
   "source": [
    "from sklearn.metrics import accuracy_score\n",
    "accuracy = accuracy_score(y_test, y_pred)\n",
    "accuracy"
   ]
  },
  {
   "cell_type": "code",
   "execution_count": 7,
   "id": "884a5eda",
   "metadata": {
    "execution": {
     "iopub.execute_input": "2023-11-25T02:35:05.648080Z",
     "iopub.status.busy": "2023-11-25T02:35:05.647782Z",
     "iopub.status.idle": "2023-11-25T02:35:05.667006Z",
     "shell.execute_reply": "2023-11-25T02:35:05.666085Z"
    },
    "papermill": {
     "duration": 0.053918,
     "end_time": "2023-11-25T02:35:05.669123",
     "exception": false,
     "start_time": "2023-11-25T02:35:05.615205",
     "status": "completed"
    },
    "tags": []
   },
   "outputs": [
    {
     "data": {
      "text/plain": [
       "0.3723404255319149"
      ]
     },
     "execution_count": 7,
     "metadata": {},
     "output_type": "execute_result"
    }
   ],
   "source": [
    "from collections import Counter\n",
    "\n",
    "def find_majority_label(image_ids, labels):\n",
    "    id_label_map = {}  # 创建一个空的字典来存储image_id和对应的label\n",
    "\n",
    "    # 遍历image_ids和labels列表\n",
    "    for image_id, label in zip(image_ids, labels):\n",
    "        if image_id in id_label_map:\n",
    "            id_label_map[image_id].append(label)\n",
    "        else:\n",
    "            id_label_map[image_id] = [label]\n",
    "\n",
    "    majority_labels = {}  # 创建一个空的字典来存储每个唯一image_id的多数投票label\n",
    "\n",
    "    # 对字典中的每个唯一image_id的label列表进行多数投票\n",
    "    for image_id, label_list in id_label_map.items():\n",
    "        label_counts = Counter(label_list)\n",
    "        majority_label = label_counts.most_common(1)[0][0]\n",
    "        majority_labels[image_id] = majority_label\n",
    "\n",
    "    return majority_labels\n",
    "\n",
    "y_votingpred=find_majority_label(img_ids_test, y_pred)\n",
    "# 对图像 ID 进行去重\n",
    "unique_img_ids = np.unique(img_ids_test)\n",
    "\n",
    "# 根据去重后的图像 ID，获取对应的真实标签和预测标签\n",
    "y_test_matched = []\n",
    "y_test_matched = np.array([y_test[np.where(img_ids_test == img_id)[0][0]] for img_id in unique_img_ids])\n",
    "y_votingpred_matched = np.array([y_votingpred[img_id] for img_id in unique_img_ids])\n",
    "\n",
    "# 计算准确度\n",
    "accuracy = accuracy_score(y_test_matched, y_votingpred_matched)\n",
    "accuracy "
   ]
  },
  {
   "cell_type": "code",
   "execution_count": null,
   "id": "5dc9b146",
   "metadata": {
    "papermill": {
     "duration": 0.032896,
     "end_time": "2023-11-25T02:35:05.737004",
     "exception": false,
     "start_time": "2023-11-25T02:35:05.704108",
     "status": "completed"
    },
    "tags": []
   },
   "outputs": [],
   "source": []
  }
 ],
 "metadata": {
  "kaggle": {
   "accelerator": "nvidiaTeslaT4",
   "dataSources": [
    {
     "databundleVersionId": 6924515,
     "sourceId": 45867,
     "sourceType": "competition"
    },
    {
     "sourceId": 152086022,
     "sourceType": "kernelVersion"
    }
   ],
   "dockerImageVersionId": 30588,
   "isGpuEnabled": true,
   "isInternetEnabled": true,
   "language": "python",
   "sourceType": "notebook"
  },
  "kernelspec": {
   "display_name": "Python 3",
   "language": "python",
   "name": "python3"
  },
  "language_info": {
   "codemirror_mode": {
    "name": "ipython",
    "version": 3
   },
   "file_extension": ".py",
   "mimetype": "text/x-python",
   "name": "python",
   "nbconvert_exporter": "python",
   "pygments_lexer": "ipython3",
   "version": "3.10.12"
  },
  "papermill": {
   "default_parameters": {},
   "duration": 130.735592,
   "end_time": "2023-11-25T02:35:09.706182",
   "environment_variables": {},
   "exception": null,
   "input_path": "__notebook__.ipynb",
   "output_path": "__notebook__.ipynb",
   "parameters": {},
   "start_time": "2023-11-25T02:32:58.970590",
   "version": "2.4.0"
  }
 },
 "nbformat": 4,
 "nbformat_minor": 5
}
