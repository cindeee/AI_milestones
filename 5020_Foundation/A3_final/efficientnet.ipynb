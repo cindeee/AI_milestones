{
 "cells": [
  {
   "cell_type": "code",
   "execution_count": 1,
   "id": "4e594a4c",
   "metadata": {
    "_cell_guid": "b1076dfc-b9ad-4769-8c92-a6c4dae69d19",
    "_uuid": "8f2839f25d086af736a60e9eeb907d3b93b6e0e5",
    "execution": {
     "iopub.execute_input": "2023-11-28T10:44:46.896883Z",
     "iopub.status.busy": "2023-11-28T10:44:46.896524Z",
     "iopub.status.idle": "2023-11-28T10:45:06.324783Z",
     "shell.execute_reply": "2023-11-28T10:45:06.323999Z"
    },
    "papermill": {
     "duration": 19.437612,
     "end_time": "2023-11-28T10:45:06.327002",
     "exception": false,
     "start_time": "2023-11-28T10:44:46.889390",
     "status": "completed"
    },
    "tags": []
   },
   "outputs": [],
   "source": [
    "import warnings\n",
    "warnings.filterwarnings('ignore')\n",
    "\n",
    "import os\n",
    "import pandas as pd\n",
    "import numpy as np\n",
    "import matplotlib.pyplot as plt\n",
    "%matplotlib inline\n",
    "import seaborn as sns\n",
    "import joblib\n",
    "import torch\n",
    "\n",
    "\n",
    "from sklearn.metrics import classification_report , confusion_matrix , accuracy_score , auc\n",
    "from sklearn.model_selection import train_test_split\n",
    "import cv2\n",
    "#from google.colab.patches import cv2_imshow\n",
    "from PIL import Image \n",
    "import tensorflow as tf\n",
    "from tensorflow import keras\n",
    "from keras import Sequential\n",
    "from keras.layers import Input, Dense,Conv2D , MaxPooling2D, Flatten,BatchNormalization,Dropout\n",
    "from tensorflow.keras.preprocessing import image_dataset_from_directory\n",
    "import tensorflow_hub as hub \n",
    "from sklearn.metrics import balanced_accuracy_score\n"
   ]
  },
  {
   "cell_type": "markdown",
   "id": "07425da9",
   "metadata": {
    "papermill": {
     "duration": 0.004589,
     "end_time": "2023-11-28T10:45:06.336565",
     "exception": false,
     "start_time": "2023-11-28T10:45:06.331976",
     "status": "completed"
    },
    "tags": []
   },
   "source": [
    "## 1. train test split"
   ]
  },
  {
   "cell_type": "code",
   "execution_count": 2,
   "id": "6f46f312",
   "metadata": {
    "execution": {
     "iopub.execute_input": "2023-11-28T10:45:06.347703Z",
     "iopub.status.busy": "2023-11-28T10:45:06.347128Z",
     "iopub.status.idle": "2023-11-28T10:45:38.491593Z",
     "shell.execute_reply": "2023-11-28T10:45:38.490697Z"
    },
    "papermill": {
     "duration": 32.156579,
     "end_time": "2023-11-28T10:45:38.497972",
     "exception": false,
     "start_time": "2023-11-28T10:45:06.341393",
     "status": "completed"
    },
    "tags": []
   },
   "outputs": [
    {
     "name": "stdout",
     "output_type": "stream",
     "text": [
      "(10763, 256, 256, 3)\n",
      "(10763,)\n"
     ]
    }
   ],
   "source": [
    "import joblib\n",
    "x = joblib.load(\"/kaggle/input/preprocessing-done/x_data.joblib\")\n",
    "y = joblib.load(\"/kaggle/input/preprocessing-done/y_data.joblib\")\n",
    "img_ids = joblib.load(\"/kaggle/input/preprocessing-done/img_ids.joblib\")\n",
    "print(x.shape)\n",
    "print(y.shape)\n"
   ]
  },
  {
   "cell_type": "code",
   "execution_count": 3,
   "id": "27c3b5b8",
   "metadata": {
    "execution": {
     "iopub.execute_input": "2023-11-28T10:45:38.509255Z",
     "iopub.status.busy": "2023-11-28T10:45:38.508910Z",
     "iopub.status.idle": "2023-11-28T10:45:39.380566Z",
     "shell.execute_reply": "2023-11-28T10:45:39.377725Z"
    },
    "papermill": {
     "duration": 0.880841,
     "end_time": "2023-11-28T10:45:39.383584",
     "exception": false,
     "start_time": "2023-11-28T10:45:38.502743",
     "status": "completed"
    },
    "tags": []
   },
   "outputs": [
    {
     "name": "stdout",
     "output_type": "stream",
     "text": [
      "(6375, 256, 256, 3)\n",
      "(1125, 256, 256, 3)\n",
      "(6375,)\n",
      "(1125,)\n"
     ]
    }
   ],
   "source": [
    "from sklearn.model_selection import train_test_split\n",
    "x1=x[:7500]\n",
    "y1=y[:7500]\n",
    "img_ids1=img_ids[:7500]\n",
    "x_train, x_test, y_train, y_test, img_ids_train, img_ids_test = train_test_split(x1, y1, img_ids1, test_size=0.15, shuffle=True, random_state=42)\n",
    "print(x_train.shape)\n",
    "print(x_test.shape)\n",
    "print(y_train.shape)\n",
    "print(y_test.shape)"
   ]
  },
  {
   "cell_type": "code",
   "execution_count": 4,
   "id": "a9e54e92",
   "metadata": {
    "execution": {
     "iopub.execute_input": "2023-11-28T10:45:39.399558Z",
     "iopub.status.busy": "2023-11-28T10:45:39.399227Z",
     "iopub.status.idle": "2023-11-28T10:45:39.405094Z",
     "shell.execute_reply": "2023-11-28T10:45:39.404249Z"
    },
    "papermill": {
     "duration": 0.014599,
     "end_time": "2023-11-28T10:45:39.406959",
     "exception": false,
     "start_time": "2023-11-28T10:45:39.392360",
     "status": "completed"
    },
    "tags": []
   },
   "outputs": [],
   "source": [
    "import tensorflow as tf\n",
    "from sklearn.metrics import confusion_matrix\n",
    "\n",
    "def balanced_accuracy(y_true, y_pred):\n",
    "    y_pred_classes = tf.argmax(y_pred, axis=1)\n",
    "    C = tf.math.confusion_matrix(y_true, y_pred_classes)\n",
    "    per_class = tf.linalg.diag_part(C) / tf.reduce_sum(C, axis=1)\n",
    "    balanced_acc = tf.reduce_mean(per_class)\n",
    "    return balanced_acc\n"
   ]
  },
  {
   "cell_type": "markdown",
   "id": "8c1ba5dc",
   "metadata": {
    "papermill": {
     "duration": 0.00553,
     "end_time": "2023-11-28T10:45:39.417259",
     "exception": false,
     "start_time": "2023-11-28T10:45:39.411729",
     "status": "completed"
    },
    "tags": []
   },
   "source": [
    "## 2. using pretrained efficientNet model"
   ]
  },
  {
   "cell_type": "code",
   "execution_count": 5,
   "id": "44c54d02",
   "metadata": {
    "execution": {
     "iopub.execute_input": "2023-11-28T10:45:39.427896Z",
     "iopub.status.busy": "2023-11-28T10:45:39.427595Z",
     "iopub.status.idle": "2023-11-28T10:45:39.436073Z",
     "shell.execute_reply": "2023-11-28T10:45:39.435172Z"
    },
    "papermill": {
     "duration": 0.015972,
     "end_time": "2023-11-28T10:45:39.438199",
     "exception": false,
     "start_time": "2023-11-28T10:45:39.422227",
     "status": "completed"
    },
    "tags": []
   },
   "outputs": [],
   "source": [
    "from tensorflow.keras.applications import EfficientNetB0\n",
    "from tensorflow.keras.models import Model\n",
    "from tensorflow.keras.layers import GlobalAveragePooling2D, Dense, Dropout\n",
    "from tensorflow.keras.optimizers import Adam\n",
    "from tensorflow.keras.preprocessing.image import ImageDataGenerator\n",
    "from tensorflow.keras.callbacks import LearningRateScheduler, EarlyStopping\n",
    "import numpy as np"
   ]
  },
  {
   "cell_type": "code",
   "execution_count": 6,
   "id": "663c19e3",
   "metadata": {
    "execution": {
     "iopub.execute_input": "2023-11-28T10:45:39.449668Z",
     "iopub.status.busy": "2023-11-28T10:45:39.449379Z",
     "iopub.status.idle": "2023-11-28T11:02:49.984362Z",
     "shell.execute_reply": "2023-11-28T11:02:49.983308Z"
    },
    "papermill": {
     "duration": 1030.543167,
     "end_time": "2023-11-28T11:02:49.986505",
     "exception": false,
     "start_time": "2023-11-28T10:45:39.443338",
     "status": "completed"
    },
    "tags": []
   },
   "outputs": [
    {
     "name": "stdout",
     "output_type": "stream",
     "text": [
      "Downloading data from https://storage.googleapis.com/keras-applications/efficientnetb0_notop.h5\n",
      "16705208/16705208 [==============================] - 0s 0us/step\n",
      "Epoch 1/10\n"
     ]
    },
    {
     "name": "stderr",
     "output_type": "stream",
     "text": [
      "2023-11-28 10:46:18.512194: E tensorflow/core/grappler/optimizers/meta_optimizer.cc:954] layout failed: INVALID_ARGUMENT: Size of values 0 does not match size of permutation 4 @ fanin shape inmodel/block2b_drop/dropout/SelectV2-2-TransposeNHWCToNCHW-LayoutOptimizer\n"
     ]
    },
    {
     "name": "stdout",
     "output_type": "stream",
     "text": [
      "99/99 [==============================] - 150s 976ms/step - loss: 1.2231 - accuracy: 0.3759 - val_loss: 1.7524 - val_accuracy: 0.1476 - lr: 1.0000e-04\n",
      "Epoch 2/10\n",
      "99/99 [==============================] - 95s 954ms/step - loss: 1.0035 - accuracy: 0.5032 - val_loss: 1.6588 - val_accuracy: 0.1680 - lr: 1.0000e-04\n",
      "Epoch 3/10\n",
      "99/99 [==============================] - 96s 964ms/step - loss: 0.8888 - accuracy: 0.5557 - val_loss: 1.7004 - val_accuracy: 0.2302 - lr: 1.0000e-04\n",
      "Epoch 4/10\n",
      "99/99 [==============================] - 95s 953ms/step - loss: 0.8088 - accuracy: 0.5948 - val_loss: 1.5248 - val_accuracy: 0.2978 - lr: 1.0000e-04\n",
      "Epoch 5/10\n",
      "99/99 [==============================] - 94s 941ms/step - loss: 0.7440 - accuracy: 0.6257 - val_loss: 1.3612 - val_accuracy: 0.4116 - lr: 1.0000e-04\n",
      "Epoch 6/10\n",
      "99/99 [==============================] - 95s 951ms/step - loss: 0.6840 - accuracy: 0.6585 - val_loss: 1.5095 - val_accuracy: 0.3973 - lr: 9.0000e-05\n",
      "Epoch 7/10\n",
      "99/99 [==============================] - 94s 947ms/step - loss: 0.6350 - accuracy: 0.6802 - val_loss: 1.6967 - val_accuracy: 0.2773 - lr: 8.1000e-05\n",
      "Epoch 8/10\n",
      "99/99 [==============================] - 94s 940ms/step - loss: 0.5886 - accuracy: 0.7010 - val_loss: 1.1061 - val_accuracy: 0.5600 - lr: 7.2900e-05\n",
      "Epoch 9/10\n",
      "99/99 [==============================] - 94s 939ms/step - loss: 0.5656 - accuracy: 0.7184 - val_loss: 1.3277 - val_accuracy: 0.4658 - lr: 6.5610e-05\n",
      "Epoch 10/10\n",
      "99/99 [==============================] - 96s 962ms/step - loss: 0.5438 - accuracy: 0.7208 - val_loss: 1.3176 - val_accuracy: 0.4764 - lr: 5.9049e-05\n",
      "36/36 [==============================] - 3s 80ms/step - loss: 1.3176 - accuracy: 0.4764\n",
      "Validation Loss: 1.3176, Accuracy: 0.4764\n"
     ]
    }
   ],
   "source": [
    "# Assuming you have already loaded x_train, y_train, x_test, y_test\n",
    "#from tensorflow.keras.metrics import accuracy\n",
    "seed_value = 42\n",
    "np.random.seed(seed_value)\n",
    "tf.random.set_seed(seed_value)\n",
    "\n",
    "# Loading the pre-trained EfficientNetB0 model\n",
    "base_model = EfficientNetB0(include_top=False, weights='imagenet', input_shape=(256, 256, 3))\n",
    "\n",
    "# Unfreeze some of the later layers\n",
    "for layer in base_model.layers[-20:]:\n",
    "    layer.trainable = True\n",
    "\n",
    "# Adding custom top layers for classification\n",
    "x = base_model.output\n",
    "x = GlobalAveragePooling2D()(x)\n",
    "x = Dense(1024, activation='relu')(x)\n",
    "x = Dropout(0.3)(x)  # Adding dropout\n",
    "x = Dense(512, activation='relu')(x)\n",
    "x = Dropout(0.1)(x)  # Adding dropout\n",
    "predictions = Dense(6, activation='softmax')(x)\n",
    "\n",
    "# Create the final model\n",
    "model = Model(inputs=base_model.input, outputs=predictions)\n",
    "\n",
    "# Manually calculate class weights based on class distribution\n",
    "num_classes = 6\n",
    "class_weights = {}\n",
    "total_samples = len(y_train)\n",
    "\n",
    "# Set a small non-zero value for classes with no samples\n",
    "epsilon = 1e-10\n",
    "\n",
    "for c in range(num_classes):\n",
    "    class_count = len(y_train[y_train == c])\n",
    "    if class_count == 0:\n",
    "        class_weights[c] = epsilon  # Avoid division by zero\n",
    "    else:\n",
    "        class_weights[c] = total_samples / ((num_classes * class_count) + epsilon)\n",
    "\n",
    "# Implement a learning rate schedule\n",
    "def learning_rate_scheduler(epoch, lr):\n",
    "    if epoch < 5:\n",
    "        return lr\n",
    "    else:\n",
    "        return lr * 0.9\n",
    "\n",
    "# Compile the model with manually calculated class weights and custom learning rate\n",
    "model.compile(\n",
    "    loss='sparse_categorical_crossentropy',\n",
    "    optimizer=Adam(learning_rate=0.0001),\n",
    "    metrics=['accuracy']  # Add Balanced Accuracy as a metric\n",
    ")\n",
    "\n",
    "# Augmenting training data\n",
    "datagen = ImageDataGenerator(\n",
    "    rotation_range=20,\n",
    "    width_shift_range=0.2,\n",
    "    height_shift_range=0.2,\n",
    "    horizontal_flip=True,\n",
    "    vertical_flip=True,\n",
    "    preprocessing_function=None  \n",
    ")\n",
    "\n",
    "datagen.fit(x_train)\n",
    "\n",
    "# Fine-tune the model with dropout layers\n",
    "history = model.fit(datagen.flow(x_train, y_train, batch_size=64), \n",
    "                    validation_data=(x_test, y_test),\n",
    "                    steps_per_epoch=len(x_train) // 64, \n",
    "                    epochs=10, \n",
    "                    class_weight=class_weights,\n",
    "                    callbacks=[LearningRateScheduler(learning_rate_scheduler), \n",
    "                               EarlyStopping(patience=5, restore_best_weights=True)])\n",
    "\n",
    "# Evaluate the model\n",
    "loss, accuracy = model.evaluate(x_test, y_test)\n",
    "print(f'Validation Loss: {loss:.4f}, Accuracy: {accuracy:.4f}')\n"
   ]
  },
  {
   "cell_type": "code",
   "execution_count": 7,
   "id": "a8dc7c29",
   "metadata": {
    "execution": {
     "iopub.execute_input": "2023-11-28T11:02:50.168329Z",
     "iopub.status.busy": "2023-11-28T11:02:50.167988Z",
     "iopub.status.idle": "2023-11-28T11:02:58.005610Z",
     "shell.execute_reply": "2023-11-28T11:02:58.004534Z"
    },
    "papermill": {
     "duration": 7.930293,
     "end_time": "2023-11-28T11:02:58.007816",
     "exception": false,
     "start_time": "2023-11-28T11:02:50.077523",
     "status": "completed"
    },
    "tags": []
   },
   "outputs": [
    {
     "name": "stdout",
     "output_type": "stream",
     "text": [
      "36/36 [==============================] - 3s 79ms/step - loss: 1.3176 - accuracy: 0.4764\n",
      "Validation Loss: 1.3176, Accuracy: 0.4764\n"
     ]
    }
   ],
   "source": [
    "loss, accuracy= model.evaluate(x_test, y_test)\n",
    "print(f'Validation Loss: {loss:.4f}, Accuracy: {accuracy:.4f}')\n"
   ]
  },
  {
   "cell_type": "code",
   "execution_count": 8,
   "id": "1d420d64",
   "metadata": {
    "execution": {
     "iopub.execute_input": "2023-11-28T11:02:58.194428Z",
     "iopub.status.busy": "2023-11-28T11:02:58.194086Z",
     "iopub.status.idle": "2023-11-28T11:02:59.081470Z",
     "shell.execute_reply": "2023-11-28T11:02:59.080381Z"
    },
    "papermill": {
     "duration": 0.982708,
     "end_time": "2023-11-28T11:02:59.083951",
     "exception": false,
     "start_time": "2023-11-28T11:02:58.101243",
     "status": "completed"
    },
    "tags": []
   },
   "outputs": [],
   "source": [
    "from tensorflow.keras.models import save_model\n",
    "save_model(model, \"/kaggle/working/efficient-net-model.h5\")\n",
    "#model.save('/kaggle/working/efficient-net-model.h5')"
   ]
  },
  {
   "cell_type": "code",
   "execution_count": 9,
   "id": "3ca28bad",
   "metadata": {
    "execution": {
     "iopub.execute_input": "2023-11-28T11:02:59.278877Z",
     "iopub.status.busy": "2023-11-28T11:02:59.278109Z",
     "iopub.status.idle": "2023-11-28T11:02:59.789053Z",
     "shell.execute_reply": "2023-11-28T11:02:59.788125Z"
    },
    "papermill": {
     "duration": 0.615628,
     "end_time": "2023-11-28T11:02:59.791255",
     "exception": false,
     "start_time": "2023-11-28T11:02:59.175627",
     "status": "completed"
    },
    "tags": []
   },
   "outputs": [
    {
     "data": {
      "image/png": "[encoded data removed]",
      "text/plain": [
       "<Figure size 1200x400 with 1 Axes>"
      ]
     },
     "metadata": {},
     "output_type": "display_data"
    }
   ],
   "source": [
    "import pandas as pd\n",
    "import matplotlib.pyplot as plt\n",
    "import seaborn as sns\n",
    "\n",
    "# Extract metrics from the training history\n",
    "history_metrics = history.history\n",
    "\n",
    "# Convert metrics to a DataFrame\n",
    "metrics_df = pd.DataFrame(history_metrics)\n",
    "\n",
    "# Plot the metrics using seaborn with different colors\n",
    "plt.figure(figsize=(12, 4))\n",
    "sns.lineplot(data=metrics_df['accuracy'], marker='o', label='Training Accuracy', color='blue')\n",
    "sns.lineplot(data=metrics_df['val_accuracy'], marker='o', label='Validation Accuracy', color='orange')\n",
    "sns.lineplot(data=metrics_df['loss'], marker='o', label='Training Loss', color='green')\n",
    "sns.lineplot(data=metrics_df['val_loss'], marker='o', label='Validation Loss', color='red')\n",
    "plt.ylim(0, 2.50)\n",
    "plt.title('Training Metrics')\n",
    "plt.xlabel('Epoch')\n",
    "plt.ylabel('Value')\n",
    "plt.legend()\n",
    "plt.grid(True)\n",
    "plt.show()\n"
   ]
  },
  {
   "cell_type": "code",
   "execution_count": 10,
   "id": "d832f8dd",
   "metadata": {
    "execution": {
     "iopub.execute_input": "2023-11-28T11:02:59.984632Z",
     "iopub.status.busy": "2023-11-28T11:02:59.984259Z",
     "iopub.status.idle": "2023-11-28T11:03:07.200322Z",
     "shell.execute_reply": "2023-11-28T11:03:07.199318Z"
    },
    "papermill": {
     "duration": 7.319795,
     "end_time": "2023-11-28T11:03:07.203092",
     "exception": false,
     "start_time": "2023-11-28T11:02:59.883297",
     "status": "completed"
    },
    "tags": []
   },
   "outputs": [
    {
     "name": "stdout",
     "output_type": "stream",
     "text": [
      "36/36 [==============================] - 4s 77ms/step\n"
     ]
    }
   ],
   "source": [
    "predictions= model.predict(x_test)\n",
    "y_pred = np.argmax(predictions, axis=1)"
   ]
  },
  {
   "cell_type": "code",
   "execution_count": 11,
   "id": "36282b5a",
   "metadata": {
    "execution": {
     "iopub.execute_input": "2023-11-28T11:03:07.414771Z",
     "iopub.status.busy": "2023-11-28T11:03:07.414371Z",
     "iopub.status.idle": "2023-11-28T11:03:07.432849Z",
     "shell.execute_reply": "2023-11-28T11:03:07.431534Z"
    },
    "papermill": {
     "duration": 0.121262,
     "end_time": "2023-11-28T11:03:07.435088",
     "exception": false,
     "start_time": "2023-11-28T11:03:07.313826",
     "status": "completed"
    },
    "tags": []
   },
   "outputs": [
    {
     "name": "stdout",
     "output_type": "stream",
     "text": [
      "accuracy: 0.48195876288659795\n"
     ]
    }
   ],
   "source": [
    "from collections import Counter\n",
    "from sklearn.metrics import accuracy_score\n",
    "def find_majority_label(image_ids, labels):\n",
    "    id_label_map = {}  # 创建一个空的字典来存储image_id和对应的label\n",
    "\n",
    "    # 遍历image_ids和labels列表\n",
    "    for image_id, label in zip(image_ids, labels):\n",
    "        if image_id in id_label_map:\n",
    "            id_label_map[image_id].append(label)\n",
    "        else:\n",
    "            id_label_map[image_id] = [label]\n",
    "\n",
    "    majority_labels = {}  # 创建一个空的字典来存储每个唯一image_id的多数投票label\n",
    "\n",
    "    # 对字典中的每个唯一image_id的label列表进行多数投票\n",
    "    for image_id, label_list in id_label_map.items():\n",
    "        label_counts = Counter(label_list)\n",
    "        majority_label = label_counts.most_common(1)[0][0]\n",
    "        majority_labels[image_id] = majority_label\n",
    "\n",
    "    return majority_labels\n",
    "\n",
    "y_votingpred=find_majority_label(img_ids_test, y_pred)\n",
    "# 对图像 ID 进行去重\n",
    "unique_img_ids = np.unique(img_ids_test)\n",
    "\n",
    "# 根据去重后的图像 ID，获取对应的真实标签和预测标签\n",
    "y_test_matched = []\n",
    "y_test_matched = np.array([y_test[np.where(img_ids_test == img_id)[0][0]] for img_id in unique_img_ids])\n",
    "y_votingpred_matched = np.array([y_votingpred[img_id] for img_id in unique_img_ids])\n",
    "\n",
    "# 计算准确度\n",
    "accuracy = accuracy_score(y_test_matched, y_votingpred_matched)\n",
    "print(\"accuracy:\", accuracy)# 计算准确度"
   ]
  },
  {
   "cell_type": "code",
   "execution_count": 12,
   "id": "23ffd211",
   "metadata": {
    "execution": {
     "iopub.execute_input": "2023-11-28T11:03:07.628535Z",
     "iopub.status.busy": "2023-11-28T11:03:07.628184Z",
     "iopub.status.idle": "2023-11-28T11:03:07.639478Z",
     "shell.execute_reply": "2023-11-28T11:03:07.638318Z"
    },
    "papermill": {
     "duration": 0.110862,
     "end_time": "2023-11-28T11:03:07.641633",
     "exception": false,
     "start_time": "2023-11-28T11:03:07.530771",
     "status": "completed"
    },
    "tags": []
   },
   "outputs": [
    {
     "name": "stdout",
     "output_type": "stream",
     "text": [
      "balanced_acc: 0.5296356597541827\n"
     ]
    }
   ],
   "source": [
    "from sklearn.metrics import balanced_accuracy_score\n",
    "\n",
    "# 计算平衡准确率\n",
    "balanced_acc = balanced_accuracy_score(y_test_matched, y_votingpred_matched)\n",
    "\n",
    "print(\"balanced_acc:\", balanced_acc)"
   ]
  },
  {
   "cell_type": "code",
   "execution_count": null,
   "id": "c0f8e905",
   "metadata": {
    "papermill": {
     "duration": 0.096501,
     "end_time": "2023-11-28T11:03:07.831573",
     "exception": false,
     "start_time": "2023-11-28T11:03:07.735072",
     "status": "completed"
    },
    "tags": []
   },
   "outputs": [],
   "source": []
  }
 ],
 "metadata": {
  "kaggle": {
   "accelerator": "nvidiaTeslaT4",
   "dataSources": [
    {
     "databundleVersionId": 6924515,
     "sourceId": 45867,
     "sourceType": "competition"
    },
    {
     "sourceId": 152286657,
     "sourceType": "kernelVersion"
    },
    {
     "modelInstanceId": 2656,
     "sourceId": 3729,
     "sourceType": "modelInstanceVersion"
    }
   ],
   "dockerImageVersionId": 30588,
   "isGpuEnabled": true,
   "isInternetEnabled": true,
   "language": "python",
   "sourceType": "notebook"
  },
  "kernelspec": {
   "display_name": "Python 3",
   "language": "python",
   "name": "python3"
  },
  "language_info": {
   "codemirror_mode": {
    "name": "ipython",
    "version": 3
   },
   "file_extension": ".py",
   "mimetype": "text/x-python",
   "name": "python",
   "nbconvert_exporter": "python",
   "pygments_lexer": "ipython3",
   "version": "3.10.12"
  },
  "papermill": {
   "default_parameters": {},
   "duration": 1108.219392,
   "end_time": "2023-11-28T11:03:11.379877",
   "environment_variables": {},
   "exception": null,
   "input_path": "__notebook__.ipynb",
   "output_path": "__notebook__.ipynb",
   "parameters": {},
   "start_time": "2023-11-28T10:44:43.160485",
   "version": "2.4.0"
  }
 },
 "nbformat": 4,
 "nbformat_minor": 5
}
