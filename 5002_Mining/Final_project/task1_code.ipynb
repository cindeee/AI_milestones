{
 "cells": [
  {
   "cell_type": "markdown",
   "metadata": {},
   "source": [
    "# Task 1: Data Preprocessing and Analysis\n"
   ]
  },
  {
   "cell_type": "code",
   "execution_count": 3,
   "metadata": {},
   "outputs": [
    {
     "name": "stderr",
     "output_type": "stream",
     "text": [
      "c:\\Users\\cindy\\AppData\\Local\\Programs\\Python\\Python310\\lib\\site-packages\\tqdm\\auto.py:21: TqdmWarning: IProgress not found. Please update jupyter and ipywidgets. See https://ipywidgets.readthedocs.io/en/stable/user_install.html\n",
      "  from .autonotebook import tqdm as notebook_tqdm\n"
     ]
    }
   ],
   "source": [
    "# packages\n",
    "import os\n",
    "import re\n",
    "import numpy as np\n",
    "import pandas as pd\n",
    "import json\n",
    "import string\n",
    "#%pip install bs4\n",
    "\n",
    "from bs4 import BeautifulSoup\n",
    "import jieba\n",
    "import jieba.analyse\n",
    "from zhconv import convert \n",
    "from opencc import OpenCC\n",
    "import transformers\n",
    "import sklearn\n",
    "import torch\n",
    "import joblib\n",
    "import seaborn as sns\n",
    "import matplotlib.pyplot as plt\n",
    "import pickle \n",
    "\n",
    "\n",
    "from sklearn.feature_extraction.text import TfidfVectorizer\n",
    "from torch.nn.functional import cosine_similarity\n",
    "from sklearn.metrics.pairwise import cosine_similarity\n",
    "from scipy.sparse import csr_matrix\n",
    "import joblib\n",
    "from transformers import BertTokenizer, AutoModel\n",
    "import torch.nn.functional as F\n",
    "from tqdm import tqdm\n",
    "\n",
    "\n",
    "from scipy.sparse import csr_matrix\n",
    "\n"
   ]
  },
  {
   "cell_type": "markdown",
   "metadata": {},
   "source": [
    "# Question 1: Data Preprocessing - Noise Removal\n",
    "\n",
    "Report requirements\n",
    "\n",
    "(a) Present the noise removal strategies you ’ve tried and analyze the results. Please provide as much detail as possible about your strategy, including equations, images, and so on.\n",
    "\n",
    "(b) Introduce the filter rates of each strateg y , i.e.,\n",
    "𝑓𝑖𝑙𝑡𝑒𝑟 rate = filtered news / Total news"
   ]
  },
  {
   "cell_type": "markdown",
   "metadata": {},
   "source": [
    "## 1(a) approaches for noise removal\n",
    "\n",
    "To remove noises of unrelated news, we use similarity-based method and do exact-matching as comparison / baseline. \n",
    "\n",
    "We will first preview the provided documnets: News and A_share_list."
   ]
  },
  {
   "cell_type": "markdown",
   "metadata": {},
   "source": [
    "### 0. load data + preview"
   ]
  },
  {
   "cell_type": "code",
   "execution_count": null,
   "metadata": {},
   "outputs": [],
   "source": [
    "# Load data\n",
    "news_data = pd.read_excel('data/News.xlsx')\n",
    "\n",
    "with open(\"A_share_list.json\", \"r\", encoding=\"utf-8\") as file:\n",
    "    a_share_list = json.load(file)"
   ]
  },
  {
   "cell_type": "code",
   "execution_count": 25,
   "metadata": {},
   "outputs": [
    {
     "data": {
      "text/plain": [
       "(1037035, 4)"
      ]
     },
     "execution_count": 25,
     "metadata": {},
     "output_type": "execute_result"
    }
   ],
   "source": [
    "news_data.shape"
   ]
  },
  {
   "cell_type": "code",
   "execution_count": null,
   "metadata": {},
   "outputs": [
    {
     "data": {
      "text/html": [
       "<div>\n",
       "<style scoped>\n",
       "    .dataframe tbody tr th:only-of-type {\n",
       "        vertical-align: middle;\n",
       "    }\n",
       "\n",
       "    .dataframe tbody tr th {\n",
       "        vertical-align: top;\n",
       "    }\n",
       "\n",
       "    .dataframe thead th {\n",
       "        text-align: right;\n",
       "    }\n",
       "</style>\n",
       "<table border=\"1\" class=\"dataframe\">\n",
       "  <thead>\n",
       "    <tr style=\"text-align: right;\">\n",
       "      <th></th>\n",
       "      <th>NewsID</th>\n",
       "      <th>Title</th>\n",
       "      <th>NewsContent</th>\n",
       "      <th>NewsSource</th>\n",
       "    </tr>\n",
       "  </thead>\n",
       "  <tbody>\n",
       "    <tr>\n",
       "      <th>0</th>\n",
       "      <td>1</td>\n",
       "      <td>建设银行原董事长张恩照一审被判15年</td>\n",
       "      <td>本报记者 田雨 李京华    　　中国建设银行股份有限公司原董事长张恩照受贿案３日一审宣...</td>\n",
       "      <td>中国证券报</td>\n",
       "    </tr>\n",
       "    <tr>\n",
       "      <th>1</th>\n",
       "      <td>2</td>\n",
       "      <td>农行信用卡中心搬到上海滩</td>\n",
       "      <td>中国农业银行信用卡中心由北京搬到上海了！  　　农行行长杨明生日前在信用卡中心揭牌仪式上...</td>\n",
       "      <td>人民日报</td>\n",
       "    </tr>\n",
       "    <tr>\n",
       "      <th>2</th>\n",
       "      <td>3</td>\n",
       "      <td>外运发展：价值型蓝筹股补涨要求强烈</td>\n",
       "      <td>在新基金快速发行以及申购资金回流的情况下，市场总体上呈现资金流动性过剩格局，考虑到现阶段...</td>\n",
       "      <td>杭州新希望</td>\n",
       "    </tr>\n",
       "    <tr>\n",
       "      <th>3</th>\n",
       "      <td>4</td>\n",
       "      <td>胜利股份：稳步走强形成标准上升通道</td>\n",
       "      <td>胜利股份（000407）公司子公司填海造地2800亩，以青岛的地价估算，静态价值在10亿...</td>\n",
       "      <td>源达投资</td>\n",
       "    </tr>\n",
       "    <tr>\n",
       "      <th>4</th>\n",
       "      <td>5</td>\n",
       "      <td>[港股快讯]恒指收市报18960点 成交467亿港元</td>\n",
       "      <td>全景网11月30日讯 外围股市造好，带动港股今早造好，恒指高开后反覆上升，最高升252点...</td>\n",
       "      <td>全景网</td>\n",
       "    </tr>\n",
       "  </tbody>\n",
       "</table>\n",
       "</div>"
      ],
      "text/plain": [
       "   NewsID                       Title  \\\n",
       "0       1          建设银行原董事长张恩照一审被判15年   \n",
       "1       2                农行信用卡中心搬到上海滩   \n",
       "2       3           外运发展：价值型蓝筹股补涨要求强烈   \n",
       "3       4           胜利股份：稳步走强形成标准上升通道   \n",
       "4       5  [港股快讯]恒指收市报18960点 成交467亿港元   \n",
       "\n",
       "                                         NewsContent NewsSource  \n",
       "0  　　本报记者 田雨 李京华    　　中国建设银行股份有限公司原董事长张恩照受贿案３日一审宣...      中国证券报  \n",
       "1  　　中国农业银行信用卡中心由北京搬到上海了！  　　农行行长杨明生日前在信用卡中心揭牌仪式上...       人民日报  \n",
       "2  　　在新基金快速发行以及申购资金回流的情况下，市场总体上呈现资金流动性过剩格局，考虑到现阶段...      杭州新希望  \n",
       "3  　　胜利股份（000407）公司子公司填海造地2800亩，以青岛的地价估算，静态价值在10亿...       源达投资  \n",
       "4  　　全景网11月30日讯 外围股市造好，带动港股今早造好，恒指高开后反覆上升，最高升252点...        全景网  "
      ]
     },
     "execution_count": 3,
     "metadata": {},
     "output_type": "execute_result"
    }
   ],
   "source": [
    "news_data.head()"
   ]
  },
  {
   "cell_type": "code",
   "execution_count": 10,
   "metadata": {},
   "outputs": [
    {
     "name": "stdout",
     "output_type": "stream",
     "text": [
      "<class 'pandas.core.frame.DataFrame'>\n",
      "RangeIndex: 1037035 entries, 0 to 1037034\n",
      "Data columns (total 4 columns):\n",
      " #   Column       Non-Null Count    Dtype \n",
      "---  ------       --------------    ----- \n",
      " 0   NewsID       1037035 non-null  int64 \n",
      " 1   Title        1037035 non-null  object\n",
      " 2   NewsContent  1036614 non-null  object\n",
      " 3   NewsSource   1022262 non-null  object\n",
      "dtypes: int64(1), object(3)\n",
      "memory usage: 31.6+ MB\n"
     ]
    }
   ],
   "source": [
    "news_data.info()"
   ]
  },
  {
   "cell_type": "code",
   "execution_count": 13,
   "metadata": {},
   "outputs": [
    {
     "name": "stdout",
     "output_type": "stream",
     "text": [
      "[{'name': '邵阳液压', 'fullname': '邵阳维克液压股份有限公司', 'code': '301079', 'location': '深圳证券交易所', 'time': '2021-10-19'}]\n"
     ]
    }
   ],
   "source": [
    "print(a_share_list[:1])"
   ]
  },
  {
   "cell_type": "markdown",
   "metadata": {},
   "source": [
    "### 1. exact match\n",
    "We match the name, full name and code to see if any of them match exactly with the news title or in news content. "
   ]
  },
  {
   "cell_type": "code",
   "execution_count": null,
   "metadata": {},
   "outputs": [],
   "source": [
    "def_data = news_data.copy()\n",
    "\n",
    "def extract_explicit_companies(news_text, a_share_companies):\n",
    "    explicit_companies = []\n",
    "    for company in a_share_companies:\n",
    "        if check_exact_matches(news_text, [company]):\n",
    "            explicit_companies.append(company[\"name\"])\n",
    "    return ','.join(explicit_companies)\n",
    "\n",
    "def check_exact_matches(news_text, a_share_companies):\n",
    "    for company in a_share_companies:\n",
    "        if company[\"name\"] in news_text or company[\"fullname\"] in news_text or company[\"code\"] in news_text:\n",
    "            return True  # Match found\n",
    "    return False  # No match found\n",
    "\n",
    "# Apply the check_matches function to the Title and NewsContent columns\n",
    "def_data['Match'] = def_data.apply(lambda row: check_exact_matches(str(row['Title']) + ' ' + str(row['NewsContent']), a_share_list), axis=1)\n",
    "def_data['Explicit_Company'] = def_data['NewsContent'].apply(lambda x: extract_explicit_companies(str(x), a_share_list))\n",
    "\n",
    "#checkpoint\n",
    "def_data.to_csv('others/checkpoints/def_data.csv', index=False)\n",
    "\n",
    "# Filter out rows where there is a match fir filter rate\n",
    "def_match_data = def_data[def_data['Match']==1]"
   ]
  },
  {
   "cell_type": "code",
   "execution_count": 28,
   "metadata": {},
   "outputs": [],
   "source": [
    "#def_data = pd.read_csv('others/checkpoints/def_data.csv')\n",
    "def check_exact_matches(news_text, a_share_companies):\n",
    "    for company in a_share_companies:\n",
    "        if company[\"name\"] in news_text or company[\"fullname\"] in news_text or company[\"code\"] in news_text:\n",
    "            return True  # Match found\n",
    "    return False  # No match found\n",
    "\n",
    "def extract_explicit_companies(news_text, a_share_companies):\n",
    "    explicit_companies = []\n",
    "    for company in a_share_companies:\n",
    "        if check_exact_matches(news_text, [company]):\n",
    "            explicit_companies.append(company[\"name\"])\n",
    "    return ','.join(explicit_companies)\n",
    "def_data['Explicit_Company'] = def_data['NewsContent'].apply(lambda x: extract_explicit_companies(str(x), a_share_list))\n"
   ]
  },
  {
   "cell_type": "code",
   "execution_count": 31,
   "metadata": {},
   "outputs": [],
   "source": [
    "def_data.head()\n",
    "def_data.to_csv('others/checkpoints/def_data.csv', index=False)"
   ]
  },
  {
   "cell_type": "markdown",
   "metadata": {},
   "source": [
    "### 2. similarity based - TFIDF (discarded apporach)\n",
    "To find the words similar to the suggested stock in list, We tried using TFIDF vectoriser for text mining based on the frequency of terms. We once considered it as a benchmark though it has limited contextual understanding, but kater discarded due to dispersed representation, insufficient contextual understanding and runtime issues.\n",
    "### ** this part includes data preprocessing **\n"
   ]
  },
  {
   "cell_type": "markdown",
   "metadata": {},
   "source": [
    "We will first preprocess the data for vectorisation, with reference to the plentiful resources that Github contributors have provided, such as using stopwords.txt provided by jieba.(its respective functions are not used due to error)"
   ]
  },
  {
   "cell_type": "code",
   "execution_count": 7,
   "metadata": {},
   "outputs": [],
   "source": [
    "#%pip install jieba\n",
    "#%pip install opencc\n",
    "#%pip install sentence_transformers\n",
    "#%pip install opencc-python-reimplemented\n",
    "#pip install zhconv\n",
    "# 1. remove punctuations\n",
    "def remove_punctuation(text):\n",
    "    if isinstance(text, str):\n",
    "        # Remove punctuation using re.sub\n",
    "        line = re.sub(\"[！？。｡＂＃＄％＆＇（）＊＋，－／：；＜＝＞＠［＼］＾＿｀｛｜｝～｟｠｢｣､、〃《》「」『』&#8203;``【oaicite:0】``&#8203;〔〕\\\n",
    "                    〖〗〘〙〚〛〜〝〞〟〰〾〿–—‘’‛“”„‟…‧﹏.!\\\"#$%&\\'()*+,-./:;<=>?@[\\\\]^_`{|}~]+\", \"\", text) \n",
    "        return line\n",
    "    else:\n",
    "        return text\n",
    "\n",
    "\n",
    "# 2. remove stop words\n",
    "def remove_stop_words(text, stop_word_path='others/materials/stop_words.txt'):\n",
    "    # Check if the text is a string, handle NaN or missing values\n",
    "    if isinstance(text, str):\n",
    "        # Open the stop words file in read mode\n",
    "        with open(stop_word_path, 'r', encoding='utf-8') as stop_word_file:\n",
    "            # Read the stop words from the file and create a set\n",
    "            stop_word = set(stop_word_file.read().split())\n",
    "\n",
    "        # Use jieba.cut to tokenize the text\n",
    "        words = jieba.cut(text, cut_all=False)\n",
    "\n",
    "        # Filter out stop words using the stop words set\n",
    "        filtered_words = [word for word in words if word not in stop_word]\n",
    "\n",
    "        # Join the filtered words into a string\n",
    "        return ' '.join(filtered_words)\n",
    "    else:\n",
    "        # Return an empty string or handle as per your requirement for non-string values\n",
    "        return ''\n",
    "\n",
    "#3 \n",
    "import re\n",
    "def exclude_urls(text):\n",
    "    if isinstance(text, str):\n",
    "        # Use regular expression to remove URLs\n",
    "        text_without_urls = re.sub(r'http\\S+|https\\S+', '', text)\n",
    "        return text_without_urls\n",
    "    else:\n",
    "        return text\n",
    "\n",
    "\n",
    "#4 \n",
    "def convert_to_simplified(text):\n",
    "    # Check if the text is not NaN\n",
    "    if pd.notna(text):\n",
    "        # Function to convert a text to simplified Chinese using zhconv\n",
    "        simplified_text = convert(text, 'zh-hans')\n",
    "        return simplified_text\n",
    "    else:\n",
    "        return text\n"
   ]
  },
  {
   "cell_type": "code",
   "execution_count": 23,
   "metadata": {},
   "outputs": [],
   "source": [
    "# combine the news title and content, and apply the function to df\n",
    "def_data = pd.read_csv('others/checkpoints/def_data.csv')\n",
    "tfidf_data = def_data.copy()\n",
    "tfidf_data['title_content'] = tfidf_data['Title'] + ' ' + tfidf_data['NewsContent']\n",
    "tfidf_data['title_content'] = tfidf_data['title_content'].apply(remove_punctuation)\n",
    "tfidf_data['title_content'] = tfidf_data['title_content'].apply(remove_stop_words)\n",
    "tfidf_data['title_content'] = tfidf_data['title_content'].apply(exclude_urls)\n",
    "tfidf_data['title_content'] = tfidf_data['title_content'].apply(convert_to_simplified)\n",
    "\n",
    "# Sort the DataFrame by the 'Match' column in descending order\n",
    "tfidf_data_sorted = tfidf_data.sort_values(by='Match', ascending=False)\n",
    "tfidf_data_sorted.to_csv('others/checkpoints/tfidf_data_sorted.csv', index=False)\n",
    "\n",
    "# Get titleand news content of exact and non-exact matches\n",
    "exact_matches = tfidf_data_sorted[tfidf_data_sorted['Match'] == 1]['title_content'].tolist()\n",
    "non_exact_matches = tfidf_data_sorted[tfidf_data_sorted['Match'] == 0]['title_content'].tolist()\n",
    "\n",
    "# Concatenate the lists\n",
    "all_tfidf_text = exact_matches + non_exact_matches"
   ]
  },
  {
   "cell_type": "markdown",
   "metadata": {},
   "source": [
    "The tfidf vectoriser has set to have the following parameters. After that, we desribe the statistics of the cosine similarities and select a threshold for filtering."
   ]
  },
  {
   "cell_type": "code",
   "execution_count": null,
   "metadata": {},
   "outputs": [],
   "source": [
    "# use tfidf vectoriser \n",
    "tfidf_vectorizer = TfidfVectorizer(\n",
    "    max_features=100000,  \n",
    "    stop_words=None,  # already processed\n",
    "    ngram_range=(1, 2),  # Adjust the n-gram range\n",
    "    decode_error = 'ignore',\n",
    "    max_df = 0.7, # ignore frequent occuring words\n",
    "    min_df = [0.0]\n",
    ")\n",
    "# fit\n",
    "tfidf_matrix = tfidf_vectorizer.fit_transform(non_exact_matches)\n",
    "\n",
    "# Save the vectorizer\n",
    "joblib.dump(tfidf_vectorizer, 'others/checkpoints/tfidf_vectorizer.pkl')\n",
    "joblib.dump(tfidf_matrix, 'others/checkpoints/tfidf_matrix.pkl')"
   ]
  },
  {
   "cell_type": "code",
   "execution_count": null,
   "metadata": {},
   "outputs": [],
   "source": [
    "# loading \n",
    "tfidf_vectorizer = joblib.load('others/checkpoints/tfidf_vectorizer.pkl')\n",
    "tfidf_matrix = joblib.load('others/checkpoints/tfidf_matrix.pkl')\n",
    "\n",
    "batch_size = 50  # Adjust the batch size based on your available memory\n",
    "\n",
    "# Split data into batches\n",
    "num_batches = len(a_share_list) // batch_size + 1\n",
    "batches = np.array_split(a_share_list, num_batches)\n",
    "\n",
    "# Initialize tqdm for the outer loop (batches)\n",
    "for i, batch in enumerate(tqdm(batches, desc=\"Calculating cosine similarities\", unit=\"batch\")):\n",
    "    tfidf_a_share_list_batch = tfidf_vectorizer.transform([company['name'] for company in batch])\n",
    "    tfidf_a_share_list_batch = csr_matrix(tfidf_a_share_list_batch).astype(np.float32)  # Convert to CSR matrix\n",
    "    batch_similarities = cosine_similarity(tfidf_matrix, tfidf_a_share_list_batch)\n",
    "\n",
    "    # Ensure all batches have the same number of features\n",
    "    max_features = max(batch.shape[1] for batch in batch_similarities)\n",
    "    batch_similarities = [np.pad(batch, ((0, 0), (0, max_features - batch.shape[1])), mode='constant', constant_values=np.nan) for batch in batch_similarities]\n",
    "\n",
    "    # Combine results from batches\n",
    "    batch_similarities = np.concatenate(batch_similarities)\n",
    "    \n",
    "    # Save or process the batch_similarities as needed\n",
    "\n",
    "# Combine results from batches\n",
    "cosine_similarities = np.concatenate(cosine_similarities)\n",
    "joblib.dump(cosine_similarities, 'others/checkpoints/tfidf_cosine_similarities.pkl')\n",
    "\n"
   ]
  },
  {
   "cell_type": "code",
   "execution_count": null,
   "metadata": {},
   "outputs": [],
   "source": [
    "import seaborn as sns\n",
    "import matplotlib.pyplot as plt\n",
    "\n",
    "# Downsample the data for visualization (adjust the factor based on your available memory)\n",
    "downsample_factor = 1000\n",
    "downsampled_cosine_similarities = cosine_similarities[::downsample_factor, ::downsample_factor]\n",
    "\n",
    "# Plot a heatmap\n",
    "plt.figure(figsize=(10, 8))\n",
    "sns.heatmap(downsampled_cosine_similarities, cmap='viridis', annot=True, fmt=\".2f\", xticklabels=False, yticklabels=False)\n",
    "plt.show()\n"
   ]
  },
  {
   "cell_type": "code",
   "execution_count": null,
   "metadata": {},
   "outputs": [],
   "source": [
    "import pandas as pd\n",
    "\n",
    "# Assuming cosine_similarities is a list of lists\n",
    "# Convert the list of lists to a DataFrame\n",
    "all_tfidf_text = pd.DataFrame(cosine_similarities)\n",
    "\n",
    "# Set your desired threshold\n",
    "threshold = 0.5\n",
    "\n",
    "# Create a boolean mask for filtering\n",
    "above_threshold = all_tfidf_text > threshold\n",
    "\n",
    "# Select rows and columns above the threshold\n",
    "filtered_data = all_tfidf_text[above_threshold]\n",
    "\n",
    "# Print or use the filtered_data as needed\n",
    "print(filtered_data)\n"
   ]
  },
  {
   "cell_type": "code",
   "execution_count": null,
   "metadata": {},
   "outputs": [],
   "source": [
    "# threshold\n",
    "cosine_similarity_threshold = 0.8  \n",
    "similarity_tfidf_data = tfidf_data[tfidf_data['cosine_similarity'] > cosine_similarity_threshold]\n",
    "print(similarity_tfidf_data.shape)"
   ]
  },
  {
   "cell_type": "markdown",
   "metadata": {},
   "source": [
    "### 3. similarity based - BERT\n",
    "To find the words similar to the suggested stock in list with context awareness, We deploy the BERT model form Github to understand the relation using cosine similairty.\n",
    "\n",
    "We use the preprocessed data from the tfidf vectoriser."
   ]
  },
  {
   "cell_type": "code",
   "execution_count": 9,
   "metadata": {},
   "outputs": [
    {
     "name": "stderr",
     "output_type": "stream",
     "text": [
      "Some weights of BertModel were not initialized from the model checkpoint at ckiplab/bert-base-chinese and are newly initialized: ['bert.pooler.dense.bias', 'bert.pooler.dense.weight']\n",
      "You should probably TRAIN this model on a down-stream task to be able to use it for predictions and inference.\n"
     ]
    }
   ],
   "source": [
    "# Initialize the BERT tokenizer and model\n",
    "bert_data = pd.read_csv('others/checkpoints/tfidf_data_sorted.csv')\n",
    "tokenizer = BertTokenizer.from_pretrained('bert-base-chinese')\n",
    "model = AutoModel.from_pretrained('ckiplab/albert-base-chinese')"
   ]
  },
  {
   "cell_type": "code",
   "execution_count": 12,
   "metadata": {},
   "outputs": [
    {
     "name": "stdout",
     "output_type": "stream",
     "text": [
      "0    建设银行 原 董事长 张恩照 一审 被判 15 年 　 　 本报记者 田雨 李 京华 　 　...\n",
      "1    铭普光 磁 公司 光电 事业部 具有 从 TO 到 光 器件 至光 模块 以及 无源 波分 ...\n",
      "2    吴通 控股 子公司 吴通 光电 智联 科技 武汉 有限公司 主要 生产 面向 数据中心 场景...\n",
      "3    ST 泰禾 公司 年度报告 预计 于 年 4 月 9 日 披露 每经 AI 快讯 有 投资者...\n",
      "4    中储 股份公司 光伏 发电 试点 项目 通过 出租 屋顶 收取 租金 每经 AI 快讯 有 ...\n",
      "5    四川长虹 子公司 四川 虹电 数字家庭 产业 技术 研究院 有限公司 已 注销 每经 AI ...\n",
      "6    铭普光 磁 公司 有 参股 深圳市 东飞凌 科技 有限公司 每经 AI 快讯 有 投资者 在...\n",
      "7    比亚迪 秦 PLUSDM 冠军 版 上市 99 万元 起 月 1 日 比亚迪 正式 推出 秦...\n",
      "8    铭普光 磁 公司 部分 磁性 元器件 可以 用到 充电 桩 上 每经 AI 快讯 有 投资者...\n",
      "9    通裕 重工 宝元 硬质合金 生产线 已经 投产 每经 AI 快讯 有 投资者 在 投资者 互...\n",
      "Name: title_content, dtype: object\n",
      "Number of rows in filtered_bert_data: 550326\n"
     ]
    }
   ],
   "source": [
    "print(bert_data['title_content'][:10])\n",
    "\n",
    "# extract the non-exact matches\n",
    "filtered_bert_data = bert_data[bert_data['Match'] == False].copy()\n",
    "\n",
    "# Check the length of the filtered data\n",
    "print(f\"Number of rows in filtered_bert_data: {len(filtered_bert_data)}\")\n"
   ]
  },
  {
   "cell_type": "markdown",
   "metadata": {},
   "source": [
    "#### 3.1 A_share embeddings"
   ]
  },
  {
   "cell_type": "code",
   "execution_count": null,
   "metadata": {},
   "outputs": [],
   "source": [
    "model = AutoModel.from_pretrained('ckiplab/albert-base-chinese')\n",
    "# extract info and tokenise\n",
    "company_names = [company['name'] for company in a_share_list]\n",
    "company_fullnames = [company['fullname'] for company in a_share_list]\n",
    "company_codes = [company['code'] for company in a_share_list if company['code'].isdigit()]\n",
    "\n",
    "# a_share_info\n",
    "a_share_info = company_names + company_fullnames + company_codes\n",
    "\n",
    "encoded_a_share = tokenizer(a_share_info, return_tensors='pt', padding=True, truncation=True)\n",
    "\n",
    "with torch.no_grad():\n",
    "    a_share_outputs = model(**encoded_a_share)\n",
    "\n",
    "a_share_embeddings = a_share_outputs.last_hidden_state.mean(dim=1)\n",
    "torch.save(a_share_embeddings, 'others/checkpoints/a_share_embeddings.pt')"
   ]
  },
  {
   "cell_type": "markdown",
   "metadata": {},
   "source": [
    "#### 3.2 Title & content tokenisation"
   ]
  },
  {
   "cell_type": "markdown",
   "metadata": {},
   "source": [
    "Since we focus on mentioning of the a_shares, which are all nouns, we extract the noun for each row. "
   ]
  },
  {
   "cell_type": "code",
   "execution_count": null,
   "metadata": {},
   "outputs": [],
   "source": [
    "import jieba.posseg as pseg\n",
    "from tqdm import tqdm  # Import tqdm for the progress bar\n",
    "import torch\n",
    "\n",
    "# Tokenize and perform part-of-speech tagging for nouns, ORG, and LOC\n",
    "tokenized_sequences = []\n",
    "nouns_list = []\n",
    "\n",
    "# Use tqdm to create a progress bar for the loop\n",
    "for text in tqdm(filtered_bert_data['title_content'], desc='Processing texts'):\n",
    "    # Convert to string if the data type is float\n",
    "    text = str(text) if isinstance(text, float) else text\n",
    "    \n",
    "    # Tokenize and perform part-of-speech tagging\n",
    "    words = list(pseg.cut(text))  # Convert the generator to a list\n",
    "    \n",
    "    # Extract nouns, ORG, or LOC (词性标注中以n开头表示名词, 'ORG'表示组织名, 'LOC'表示地名)\n",
    "    nouns = [pair.word for pair in words if pair.flag.startswith('n') or pair.flag in ['ORG', 'LOC']]\n",
    "    \n",
    "    # Add the nouns to the list\n",
    "    nouns_list.append(nouns)\n",
    "\n",
    "    # Tokenize the text\n",
    "    tokenized_sequence = tokenizer(text, return_tensors='pt', padding=True, truncation=True)\n",
    "    tokenized_sequences.append(tokenized_sequence)\n"
   ]
  },
  {
   "cell_type": "code",
   "execution_count": 31,
   "metadata": {},
   "outputs": [
    {
     "name": "stdout",
     "output_type": "stream",
     "text": [
      "Padded sequence saved.\n"
     ]
    }
   ],
   "source": [
    "from torch.nn.utils.rnn import pad_sequence\n",
    "\n",
    "# Pad the tokenized sequences\n",
    "padded_sequences = pad_sequence([seq['input_ids'][0] for seq in tokenized_sequences], batch_first=True)\n",
    "\n",
    "# Save the padded sequence to a PyTorch file\n",
    "torch.save(padded_sequences, 'others/checkpoints/tokenized_sequence.pt')\n",
    "print(\"Padded sequence saved.\")\n"
   ]
  },
  {
   "cell_type": "code",
   "execution_count": 38,
   "metadata": {},
   "outputs": [
    {
     "data": {
      "text/plain": [
       "torch.Size([550326, 512])"
      ]
     },
     "execution_count": 38,
     "metadata": {},
     "output_type": "execute_result"
    }
   ],
   "source": [
    "padded_sequences.shape"
   ]
  },
  {
   "cell_type": "markdown",
   "metadata": {},
   "source": [
    "#### 3.3 news embeddings and similarity comparison\n",
    "with 0.9 and 0.7 threshold"
   ]
  },
  {
   "cell_type": "code",
   "execution_count": null,
   "metadata": {},
   "outputs": [],
   "source": [
    "# 0.9 threshold\n",
    "\n",
    "\n",
    "# Assuming padded_sequences, model, and a_share_embeddings are already defined\n",
    "\n",
    "# Determine the device (GPU or CPU)\n",
    "device = torch.device(\"cuda\" if torch.cuda.is_available() else \"cpu\")\n",
    "\n",
    "# Move the model to the selected device\n",
    "model = model.to(device)\n",
    "\n",
    "# Move the tokenized sequences and a_share_embeddings to the same device\n",
    "padded_sequences = padded_sequences.to(device)\n",
    "a_share_embeddings = a_share_embeddings.to(device)\n",
    "\n",
    "threshold = 0.9\n",
    "batch_size = 150  # Adjust the batch size as needed\n",
    "num_sequences = padded_sequences.size(0)\n",
    "num_tokens = padded_sequences.size(1)\n",
    "num_batches = (num_sequences + batch_size - 1) // batch_size\n",
    "\n",
    "with torch.no_grad():\n",
    "    related_list = []  # List to store whether each sequence is related to the `a_share` list\n",
    "    matched_indices_list = []  # List to store the matched indices for each sequence\n",
    "    for i in tqdm(range(num_batches), desc=\"Processing Batches\"):\n",
    "        start_idx = i * batch_size\n",
    "        end_idx = min((i + 1) * batch_size, num_sequences)\n",
    "        batch_sequences = padded_sequences[start_idx:end_idx]\n",
    "\n",
    "        # Move the batch_sequences to the same device\n",
    "        batch_sequences = batch_sequences.to(device)\n",
    "\n",
    "        batch_outputs = model(batch_sequences)\n",
    "        batch_embeddings = batch_outputs.last_hidden_state[:, 0, :]  # Get all embeddings for the sequence\n",
    "\n",
    "        # Compute cosine similarity for each token in the sequence\n",
    "        token_similarity = cosine_similarity(batch_embeddings.unsqueeze(1), a_share_embeddings.unsqueeze(0), dim=-1)\n",
    "\n",
    "        # Check if any word's similarity is above the threshold for each sequence\n",
    "        batch_related = (token_similarity.max(dim=1).values > threshold).cpu().tolist()\n",
    "        related_list.extend(batch_related)\n",
    "\n",
    "        # Find the indices of the matching tokens for each sequence\n",
    "        batch_matched_indices = [torch.nonzero(similarity > threshold).squeeze().cpu().tolist() for similarity in token_similarity]\n",
    "        matched_indices_list.extend(batch_matched_indices)\n",
    "\n",
    "        torch.cuda.empty_cache()\n",
    "\n",
    "# Save the related_list and matched_indices_list to a file using pickle\n",
    "output_file_path = \"/others/checkpoints/related_info.pkl\"\n",
    "with open(output_file_path, 'wb') as output_file:\n",
    "    pickle.dump({\"related_list\": related_list, \"matched_indices_list\": matched_indices_list}, output_file)\n",
    "\n",
    "print(f\"Related information saved to {output_file_path}\")\n",
    "\n"
   ]
  },
  {
   "cell_type": "code",
   "execution_count": 42,
   "metadata": {},
   "outputs": [],
   "source": [
    "# threshold 0.7\n",
    "\n",
    "\n",
    "# Assuming padded_sequences, model, and a_share_embeddings are already defined\n",
    "\n",
    "# Determine the device (GPU or CPU)\n",
    "device = torch.device(\"cuda\" if torch.cuda.is_available() else \"cpu\")\n",
    "\n",
    "# Move the model to the selected device\n",
    "model = model.to(device)\n",
    "\n",
    "# Move the tokenized sequences and a_share_embeddings to the same device\n",
    "padded_sequences = padded_sequences.to(device)\n",
    "a_share_embeddings = a_share_embeddings.to(device)\n",
    "\n",
    "threshold = 0.7\n",
    "batch_size = 150  # Adjust the batch size as needed\n",
    "num_sequences = padded_sequences.size(0)\n",
    "num_tokens = padded_sequences.size(1)\n",
    "num_batches = (num_sequences + batch_size - 1) // batch_size\n",
    "\n",
    "with torch.no_grad():\n",
    "    related_list = []  # List to store whether each sequence is related to the `a_share` list\n",
    "    matched_indices_list = []  # List to store the matched indices for each sequence\n",
    "    for i in tqdm(range(num_batches), desc=\"Processing Batches\"):\n",
    "        start_idx = i * batch_size\n",
    "        end_idx = min((i + 1) * batch_size, num_sequences)\n",
    "        batch_sequences = padded_sequences[start_idx:end_idx]\n",
    "\n",
    "        # Move the batch_sequences to the same device\n",
    "        batch_sequences = batch_sequences.to(device)\n",
    "\n",
    "        batch_outputs = model(batch_sequences)\n",
    "        batch_embeddings = batch_outputs.last_hidden_state[:, 0, :]  # Get all embeddings for the sequence\n",
    "\n",
    "        # Compute cosine similarity for each token in the sequence\n",
    "        token_similarity = cosine_similarity(batch_embeddings.unsqueeze(1), a_share_embeddings.unsqueeze(0), dim=-1)\n",
    "\n",
    "        # Check if any word's similarity is above the threshold for each sequence\n",
    "        batch_related = (token_similarity.max(dim=1).values > threshold).cpu().tolist()\n",
    "        related_list.extend(batch_related)\n",
    "\n",
    "        # Find the indices of the matching tokens for each sequence\n",
    "        batch_matched_indices = [torch.nonzero(similarity > threshold).squeeze().cpu().tolist() for similarity in token_similarity]\n",
    "        matched_indices_list.extend(batch_matched_indices)\n",
    "\n",
    "        torch.cuda.empty_cache()\n",
    "\n",
    "# Save the related_list and matched_indices_list to a file using pickle\n",
    "output_file_path = \"others/checkpoints/related_info2.pkl\"\n",
    "with open(output_file_path, 'wb') as output_file:\n",
    "    pickle.dump({\"related_list\": related_list, \"matched_indices_list\": matched_indices_list}, output_file)\n",
    "\n",
    "print(f\"Related information saved to {output_file_path}\")\n",
    "\n"
   ]
  },
  {
   "cell_type": "code",
   "execution_count": 167,
   "metadata": {},
   "outputs": [
    {
     "name": "stdout",
     "output_type": "stream",
     "text": [
      "Count of True values in related_list (threshold = 0.9): 1384\n",
      "Count of True values in related_list2 (threshold = 0.7): 27366\n"
     ]
    }
   ],
   "source": [
    "file_path = \"others/checkpoints/related_info.pkl\"\n",
    "file_path2 = \"others/checkpoints/related_info2.pkl\"\n",
    "# Open the file in binary mode and load the data\n",
    "with open(file_path, 'rb') as file:\n",
    "    loaded_data = pickle.load(file)\n",
    "\n",
    "with open(file_path2, 'rb') as file:\n",
    "    loaded_data2 = pickle.load(file)\n",
    "\n",
    "# Access the lists\n",
    "related_list = loaded_data[\"related_list\"]\n",
    "matched_indices_list = loaded_data[\"matched_indices_list\"]\n",
    "related_list2 = loaded_data2[\"related_list\"]\n",
    "matched_indices_list2 = loaded_data2[\"matched_indices_list\"]\n",
    "\n",
    "# Count True values in the lists\n",
    "count_true_related = related_list.count(True)\n",
    "count_true_matched_indices = matched_indices_list.count(True)\n",
    "count_true_related2 = related_list2.count(True)\n",
    "count_true_matched_indices2 = matched_indices_list2.count(True)\n",
    "\n",
    "print(f\"Count of True values in related_list (threshold = 0.9): {count_true_related}\")\n",
    "print(f\"Count of True values in related_list2 (threshold = 0.7): {count_true_related2}\")\n"
   ]
  },
  {
   "cell_type": "markdown",
   "metadata": {},
   "source": [
    "### 4. similarity based - Word2vec\n",
    "To find the words similar to the suggested stock in list, we will use pretrained word embedding for text mining based on the vector representation of terms. "
   ]
  },
  {
   "cell_type": "code",
   "execution_count": 177,
   "metadata": {},
   "outputs": [
    {
     "name": "stdout",
     "output_type": "stream",
     "text": [
      "An error occurred: [Errno 13] Permission denied: 'c:\\\\Users\\\\cindy\\\\OneDrive - HKUST (Guangzhou)\\\\Mining\\\\assignment\\\\dsaa5002_project\\\\5002Project_50015720_\\\\others\\\\model.bin'\n"
     ]
    }
   ],
   "source": [
    "from gensim.models import Word2Vec\n",
    "\n",
    "# Assume you have a trained Word2Vec model (replace 'model.bin' with the path to your trained model)\n",
    "import os\n",
    "\n",
    "model_path = os.path.abspath(r'C:\\path\\to\\your\\model.bin')\n",
    "model = Word2Vec.load(model_path)\n",
    "\n",
    "# Example words to compare\n",
    "word1 = '中文'\n",
    "word2 = '分词'\n",
    "\n",
    "# Check if the words are present in the vocabulary\n",
    "if word1 in model.wv.vocab and word2 in model.wv.vocab:\n",
    "    # Get the vectors for the words\n",
    "    vector1 = model.wv[word1]\n",
    "    vector2 = model.wv[word2]\n",
    "\n",
    "    # Calculate cosine similarity\n",
    "    similarity = model.wv.similarity(word1, word2)\n",
    "    print(f\"Cosine Similarity between '{word1}' and '{word2}': {similarity:.4f}\")\n",
    "else:\n",
    "    print(f\"One or both of the words '{word1}' and '{word2}' are not in the vocabulary.\")\n"
   ]
  },
  {
   "cell_type": "markdown",
   "metadata": {},
   "source": [
    "## 1(b) filter rates\n",
    "We apply filter rate to each method used."
   ]
  },
  {
   "cell_type": "code",
   "execution_count": 26,
   "metadata": {},
   "outputs": [],
   "source": [
    "import pickle\n",
    "\n",
    "# open file\n",
    "with open(\"others/checkpoints/related_info.pkl\", 'rb') as input_file:\n",
    "    bert09 = pickle.load(input_file)\n",
    "\n",
    "# Access the loaded data\n",
    "related_list1 = bert09[\"related_list\"]\n",
    "matched_indices_list1 = bert09[\"matched_indices_list\"]\n",
    "\n",
    "# open file\n",
    "with open(\"others/checkpoints/related_info2.pkl\", 'rb') as input_file:\n",
    "    bert07 = pickle.load(input_file)\n",
    "\n",
    "# Access the loaded data\n",
    "related_list2 = bert07[\"related_list\"]\n",
    "matched_indices_list2 = bert07[\"matched_indices_list\"]"
   ]
  },
  {
   "cell_type": "code",
   "execution_count": 174,
   "metadata": {},
   "outputs": [
    {
     "name": "stdout",
     "output_type": "stream",
     "text": [
      "The filter rate of definite match is  0.469327457607506\n",
      "The news count of definite match is  486709\n",
      "The filter rate using BERT (0.9 threshold) is  0.4706620316575622\n",
      "The news count of  BERT (0.9 threshold) is 488093\n",
      "The filter rate using BERT (0.7 threshold) is  0.4957161522995849\n",
      "The news count of  BERT (0.7 threshold) is 514075\n"
     ]
    }
   ],
   "source": [
    "\n",
    "# total_rows = len(news_data)\n",
    "filter_rate_def = len(def_match_data) / 1037035\n",
    "print('The filter rate of definite match is ', filter_rate_def)\n",
    "print('The news count of definite match is ', len(def_match_data) )\n",
    "\n",
    "# filter rate is 0.469327457607506.\n",
    "\n",
    "filtered_tfidf_data = (len(def_match_data)+count_true_related) / 1037035\n",
    "print('The filter rate using BERT (0.9 threshold) is ', filtered_tfidf_data)\n",
    "print('The news count of  BERT (0.9 threshold) is', (len(def_match_data)+count_true_related)  )\n",
    "\n",
    "filtered_tfidf_data = (len(def_match_data)+count_true_related2) / 1037035\n",
    "print('The filter rate using BERT (0.7 threshold) is ', filtered_tfidf_data)\n",
    "print('The news count of  BERT (0.7 threshold) is', (len(def_match_data)+count_true_related2))\n",
    "\n"
   ]
  },
  {
   "cell_type": "markdown",
   "metadata": {},
   "source": []
  },
  {
   "cell_type": "markdown",
   "metadata": {},
   "source": [
    "# Question 2(30 marks): Data Analysis - Text Knowledge Mining"
   ]
  },
  {
   "cell_type": "markdown",
   "metadata": {},
   "source": [
    "Now, the only thing to be worked on is the labels column."
   ]
  },
  {
   "cell_type": "markdown",
   "metadata": {},
   "source": [
    "### 2.0 load data"
   ]
  },
  {
   "cell_type": "code",
   "execution_count": 130,
   "metadata": {},
   "outputs": [
    {
     "data": {
      "text/html": [
       "<div>\n",
       "<style scoped>\n",
       "    .dataframe tbody tr th:only-of-type {\n",
       "        vertical-align: middle;\n",
       "    }\n",
       "\n",
       "    .dataframe tbody tr th {\n",
       "        vertical-align: top;\n",
       "    }\n",
       "\n",
       "    .dataframe thead th {\n",
       "        text-align: right;\n",
       "    }\n",
       "</style>\n",
       "<table border=\"1\" class=\"dataframe\">\n",
       "  <thead>\n",
       "    <tr style=\"text-align: right;\">\n",
       "      <th></th>\n",
       "      <th>NewsID</th>\n",
       "      <th>Title</th>\n",
       "      <th>NewsContent</th>\n",
       "      <th>Explicit_Company</th>\n",
       "    </tr>\n",
       "  </thead>\n",
       "  <tbody>\n",
       "    <tr>\n",
       "      <th>0</th>\n",
       "      <td>1</td>\n",
       "      <td>建设银行原董事长张恩照一审被判15年</td>\n",
       "      <td>本报记者 田雨 李京华    　　中国建设银行股份有限公司原董事长张恩照受贿案３日一审宣...</td>\n",
       "      <td>建设银行</td>\n",
       "    </tr>\n",
       "    <tr>\n",
       "      <th>1</th>\n",
       "      <td>2</td>\n",
       "      <td>农行信用卡中心搬到上海滩</td>\n",
       "      <td>中国农业银行信用卡中心由北京搬到上海了！  　　农行行长杨明生日前在信用卡中心揭牌仪式上...</td>\n",
       "      <td>农业银行</td>\n",
       "    </tr>\n",
       "    <tr>\n",
       "      <th>2</th>\n",
       "      <td>3</td>\n",
       "      <td>外运发展：价值型蓝筹股补涨要求强烈</td>\n",
       "      <td>在新基金快速发行以及申购资金回流的情况下，市场总体上呈现资金流动性过剩格局，考虑到现阶段...</td>\n",
       "      <td>外运发展,中国国航</td>\n",
       "    </tr>\n",
       "  </tbody>\n",
       "</table>\n",
       "</div>"
      ],
      "text/plain": [
       "   NewsID               Title  \\\n",
       "0       1  建设银行原董事长张恩照一审被判15年   \n",
       "1       2        农行信用卡中心搬到上海滩   \n",
       "2       3   外运发展：价值型蓝筹股补涨要求强烈   \n",
       "\n",
       "                                         NewsContent Explicit_Company  \n",
       "0  　　本报记者 田雨 李京华    　　中国建设银行股份有限公司原董事长张恩照受贿案３日一审宣...             建设银行  \n",
       "1  　　中国农业银行信用卡中心由北京搬到上海了！  　　农行行长杨明生日前在信用卡中心揭牌仪式上...             农业银行  \n",
       "2  　　在新基金快速发行以及申购资金回流的情况下，市场总体上呈现资金流动性过剩格局，考虑到现阶段...        外运发展,中国国航  "
      ]
     },
     "execution_count": 130,
     "metadata": {},
     "output_type": "execute_result"
    }
   ],
   "source": [
    "import pandas as pd\n",
    "# select the data for submission \n",
    "def_data = pd.read_csv('others/checkpoints/def_data.csv')\n",
    "def_data.head(1)\n",
    "\n",
    "# Select rows where 'Match' is True\n",
    "def_match_data = def_data[def_data['Match'] == True].drop(columns=['Match','NewsSource'])\n",
    "def_match_data.head(3)\n"
   ]
  },
  {
   "cell_type": "markdown",
   "metadata": {},
   "source": [
    "### 2.1 sentiment analysis using pretrained BERT model "
   ]
  },
  {
   "cell_type": "code",
   "execution_count": 5,
   "metadata": {},
   "outputs": [
    {
     "name": "stdout",
     "output_type": "stream",
     "text": [
      "Model Name: hw2942/bert-base-chinese-finetuning-financial-news-sentiment-v2\n",
      "Number of Parameters: 102269955\n",
      "\n",
      "Model Configuration:\n",
      "BertConfig {\n",
      "  \"_name_or_path\": \"hw2942/bert-base-chinese-finetuning-financial-news-sentiment-v2\",\n",
      "  \"architectures\": [\n",
      "    \"BertForSequenceClassification\"\n",
      "  ],\n",
      "  \"attention_probs_dropout_prob\": 0.1,\n",
      "  \"classifier_dropout\": null,\n",
      "  \"directionality\": \"bidi\",\n",
      "  \"hidden_act\": \"gelu\",\n",
      "  \"hidden_dropout_prob\": 0.1,\n",
      "  \"hidden_size\": 768,\n",
      "  \"id2label\": {\n",
      "    \"0\": \"Negative\",\n",
      "    \"1\": \"Neutral\",\n",
      "    \"2\": \"Positive\"\n",
      "  },\n",
      "  \"initializer_range\": 0.02,\n",
      "  \"intermediate_size\": 3072,\n",
      "  \"label2id\": {\n",
      "    \"Negative\": 0,\n",
      "    \"Neutral\": 1,\n",
      "    \"Positive\": 2\n",
      "  },\n",
      "  \"layer_norm_eps\": 1e-12,\n",
      "  \"max_position_embeddings\": 512,\n",
      "  \"model_type\": \"bert\",\n",
      "  \"num_attention_heads\": 12,\n",
      "  \"num_hidden_layers\": 12,\n",
      "  \"pad_token_id\": 0,\n",
      "  \"pooler_fc_size\": 768,\n",
      "  \"pooler_num_attention_heads\": 12,\n",
      "  \"pooler_num_fc_layers\": 3,\n",
      "  \"pooler_size_per_head\": 128,\n",
      "  \"pooler_type\": \"first_token_transform\",\n",
      "  \"position_embedding_type\": \"absolute\",\n",
      "  \"problem_type\": \"single_label_classification\",\n",
      "  \"torch_dtype\": \"float32\",\n",
      "  \"transformers_version\": \"4.35.2\",\n",
      "  \"type_vocab_size\": 2,\n",
      "  \"use_cache\": true,\n",
      "  \"vocab_size\": 21128\n",
      "}\n",
      "\n",
      "\n",
      "Tokenizer Configuration:\n",
      "BertTokenizer(name_or_path='hw2942/bert-base-chinese-finetuning-financial-news-sentiment-v2', vocab_size=21128, model_max_length=512, is_fast=False, padding_side='right', truncation_side='right', special_tokens={'unk_token': '[UNK]', 'sep_token': '[SEP]', 'pad_token': '[PAD]', 'cls_token': '[CLS]', 'mask_token': '[MASK]'}, clean_up_tokenization_spaces=True),  added_tokens_decoder={\n",
      "\t0: AddedToken(\"[PAD]\", rstrip=False, lstrip=False, single_word=False, normalized=False, special=True),\n",
      "\t100: AddedToken(\"[UNK]\", rstrip=False, lstrip=False, single_word=False, normalized=False, special=True),\n",
      "\t101: AddedToken(\"[CLS]\", rstrip=False, lstrip=False, single_word=False, normalized=False, special=True),\n",
      "\t102: AddedToken(\"[SEP]\", rstrip=False, lstrip=False, single_word=False, normalized=False, special=True),\n",
      "\t103: AddedToken(\"[MASK]\", rstrip=False, lstrip=False, single_word=False, normalized=False, special=True),\n",
      "}\n"
     ]
    }
   ],
   "source": [
    "from transformers import BertTokenizer, BertForSequenceClassification\n",
    "\n",
    "# Model name\n",
    "model_name = 'hw2942/bert-base-chinese-finetuning-financial-news-sentiment-v2'\n",
    "tokenizer = BertTokenizer.from_pretrained(model_name)\n",
    "model = BertForSequenceClassification.from_pretrained(model_name)\n",
    "\n",
    "# Print model details\n",
    "print(f\"Model Name: {model_name}\")\n",
    "print(f\"Number of Parameters: {model.num_parameters()}\")\n",
    "\n",
    "# Print model architecture details\n",
    "print(\"\\nModel Configuration:\")\n",
    "print(model.config)\n",
    "\n",
    "# Print tokenization details\n",
    "tokenizer = BertTokenizer.from_pretrained(model_name)\n",
    "print(\"\\nTokenizer Configuration:\")\n",
    "print(tokenizer)\n"
   ]
  },
  {
   "cell_type": "code",
   "execution_count": 8,
   "metadata": {},
   "outputs": [
    {
     "name": "stderr",
     "output_type": "stream",
     "text": [
      "Building prefix dict from the default dictionary ...\n",
      "Loading model from cache C:\\Users\\cindy\\AppData\\Local\\Temp\\jieba.cache\n"
     ]
    },
    {
     "name": "stderr",
     "output_type": "stream",
     "text": [
      "Loading model cost 1.662 seconds.\n",
      "Prefix dict has been built successfully.\n"
     ]
    }
   ],
   "source": [
    "match_data = def_match_data.copy()\n",
    "# Function to apply all preprocessing steps\n",
    "def preprocess_text(text):\n",
    "    # Step 1: Remove punctuation\n",
    "    text = remove_punctuation(text)\n",
    "    \n",
    "    # Step 2: Remove stop words\n",
    "    text = remove_stop_words(text)\n",
    "    \n",
    "    # Step 3: Exclude URLs\n",
    "    text = exclude_urls(text)\n",
    "    \n",
    "    # Step 4: Convert to simplified Chinese\n",
    "    text = convert_to_simplified(text)\n",
    "    \n",
    "    return text\n",
    "\n",
    "# Apply the preprocessing function to the 'NewsContent' column\n",
    "match_data['processed_text'] = match_data['NewsContent'].apply(preprocess_text)\n",
    "\n",
    "# Display the DataFrame with the processed text\n",
    "match_data.head(5)\n",
    "match_data.to_csv(\"others/checkpoints/q2_match_data.csv\", index=False)\n"
   ]
  },
  {
   "cell_type": "markdown",
   "metadata": {},
   "source": [
    "This is an example usage of the sentiment analysis. This gives a predicted class and probabilities of each class using softmax function. "
   ]
  },
  {
   "cell_type": "code",
   "execution_count": 72,
   "metadata": {},
   "outputs": [
    {
     "name": "stdout",
     "output_type": "stream",
     "text": [
      "Predicted Sentiment Class: 1\n",
      "Predicted Probabilities: tensor([[5.9163e-05, 9.9969e-01, 2.5261e-04]])\n"
     ]
    }
   ],
   "source": [
    "# Example usage\n",
    "text = \"这是一个积极的例子。\"  # Chinese text example\n",
    "inputs = tokenizer(text, return_tensors=\"pt\", truncation=True, padding=True)\n",
    "\n",
    "# Perform forward pass through the BERT model\n",
    "outputs = model(**inputs)\n",
    "\n",
    "# Get the predicted probabilities for each class (negative and positive)\n",
    "logits = outputs.logits\n",
    "probs = logits.softmax(dim=1)\n",
    "\n",
    "# Get the predicted sentiment class (0 for negative, 1 for positive)\n",
    "predicted_class = torch.argmax(probs, dim=1).item()\n",
    "\n",
    "# Display the results\n",
    "print(f\"Predicted Sentiment Class: {predicted_class}\")\n",
    "print(\"Predicted Probabilities:\", probs)"
   ]
  },
  {
   "cell_type": "code",
   "execution_count": null,
   "metadata": {},
   "outputs": [],
   "source": [
    "import torch\n",
    "from tqdm import tqdm\n",
    "import numpy as np\n",
    "\n",
    "# Move the model to GPU\n",
    "model.to('cuda')\n",
    "\n",
    "# Disable gradient calculation during inference\n",
    "torch.set_grad_enabled(False)\n",
    "\n",
    "\n",
    "# Initialize an empty list to store predicted classes\n",
    "predicted_classes = []\n",
    "\n",
    "# Function to get predicted class for a given text\n",
    "def get_predicted_class_batch(texts):\n",
    "    # Tokenize the texts\n",
    "    inputs = tokenizer(texts, return_tensors=\"pt\", truncation=True, padding=True)\n",
    "\n",
    "    # Move input tensors to GPU\n",
    "    inputs = {key: value.to('cuda') for key, value in inputs.items()}\n",
    "\n",
    "    # Perform forward pass through the BERT model\n",
    "    outputs = model(**inputs)\n",
    "\n",
    "    # Get the predicted probabilities for each class (negative and positive)\n",
    "    logits = outputs.logits\n",
    "    probs = logits.softmax(dim=1)\n",
    "\n",
    "    # Get the predicted sentiment classes (0 for negative, 1 for positive)\n",
    "    predicted_classes_batch = torch.argmax(probs, dim=1).tolist()\n",
    "\n",
    "    # Append the predicted classes to the list\n",
    "    predicted_classes.extend(probs)\n",
    "\n",
    "    return predicted_classes_batch\n",
    "\n",
    "# Batch processing size\n",
    "batch_size = 80\n",
    "\n",
    "# Apply the function to the 'processed_text' column with tqdm for a progress bar\n",
    "tqdm.pandas()\n",
    "match_data['pred_class'] = match_data['processed_text'].progress_apply(\n",
    "    lambda x: get_predicted_class_batch(x)[0]  # Extract the result from the list\n",
    ")"
   ]
  },
  {
   "cell_type": "markdown",
   "metadata": {},
   "source": [
    "### 2.2 sentiment prediction cleanup"
   ]
  },
  {
   "cell_type": "markdown",
   "metadata": {},
   "source": [
    "Here we will apply the data cleanup method when predicting the data using BERT."
   ]
  },
  {
   "cell_type": "code",
   "execution_count": 228,
   "metadata": {},
   "outputs": [
    {
     "name": "stdout",
     "output_type": "stream",
     "text": [
      "(486697, 6)\n",
      "\n",
      "DataFrame after removing NaN values:\n",
      "(486697, 6)\n"
     ]
    }
   ],
   "source": [
    "match_data = pd.read_csv('others/checkpoints/match_data_pred.csv')\n",
    "match_data.head(5)\n",
    "print(match_data.shape)\n",
    "\n",
    "# Remove rows with NaN values\n",
    "match_data = match_data.dropna(subset=['processed_text'])\n",
    "\n",
    "# Display the DataFrame after removing NaN values\n",
    "print(\"\\nDataFrame after removing NaN values:\")\n",
    "print(match_data.shape)"
   ]
  },
  {
   "cell_type": "code",
   "execution_count": 233,
   "metadata": {},
   "outputs": [
    {
     "data": {
      "text/html": [
       "<div>\n",
       "<style scoped>\n",
       "    .dataframe tbody tr th:only-of-type {\n",
       "        vertical-align: middle;\n",
       "    }\n",
       "\n",
       "    .dataframe tbody tr th {\n",
       "        vertical-align: top;\n",
       "    }\n",
       "\n",
       "    .dataframe thead th {\n",
       "        text-align: right;\n",
       "    }\n",
       "</style>\n",
       "<table border=\"1\" class=\"dataframe\">\n",
       "  <thead>\n",
       "    <tr style=\"text-align: right;\">\n",
       "      <th></th>\n",
       "      <th>0</th>\n",
       "      <th>1</th>\n",
       "      <th>2</th>\n",
       "      <th>3</th>\n",
       "    </tr>\n",
       "  </thead>\n",
       "  <tbody>\n",
       "    <tr>\n",
       "      <th>0</th>\n",
       "      <td>tensor([9.9932e-01,</td>\n",
       "      <td>6.2238e-04,</td>\n",
       "      <td>6.1958e-05],</td>\n",
       "      <td>device='cuda:0')</td>\n",
       "    </tr>\n",
       "    <tr>\n",
       "      <th>1</th>\n",
       "      <td>tensor([3.2692e-05,</td>\n",
       "      <td>2.6787e-04,</td>\n",
       "      <td>9.9970e-01],</td>\n",
       "      <td>device='cuda:0')</td>\n",
       "    </tr>\n",
       "    <tr>\n",
       "      <th>2</th>\n",
       "      <td>tensor([7.5063e-04,</td>\n",
       "      <td>9.5882e-01,</td>\n",
       "      <td>4.0425e-02],</td>\n",
       "      <td>device='cuda:0')</td>\n",
       "    </tr>\n",
       "    <tr>\n",
       "      <th>3</th>\n",
       "      <td>tensor([4.0734e-05,</td>\n",
       "      <td>2.9987e-04,</td>\n",
       "      <td>9.9966e-01],</td>\n",
       "      <td>device='cuda:0')</td>\n",
       "    </tr>\n",
       "    <tr>\n",
       "      <th>4</th>\n",
       "      <td>tensor([0.0026,</td>\n",
       "      <td>0.0721,</td>\n",
       "      <td>0.9253],</td>\n",
       "      <td>device='cuda:0')</td>\n",
       "    </tr>\n",
       "  </tbody>\n",
       "</table>\n",
       "</div>"
      ],
      "text/plain": [
       "                     0            1             2                 3\n",
       "0  tensor([9.9932e-01,  6.2238e-04,  6.1958e-05],  device='cuda:0')\n",
       "1  tensor([3.2692e-05,  2.6787e-04,  9.9970e-01],  device='cuda:0')\n",
       "2  tensor([7.5063e-04,  9.5882e-01,  4.0425e-02],  device='cuda:0')\n",
       "3  tensor([4.0734e-05,  2.9987e-04,  9.9966e-01],  device='cuda:0')\n",
       "4      tensor([0.0026,      0.0721,      0.9253],  device='cuda:0')"
      ]
     },
     "execution_count": 233,
     "metadata": {},
     "output_type": "execute_result"
    }
   ],
   "source": [
    "pred_class = pd.read_csv('others/checkpoints/predicted_class.csv', \n",
    "                         header = None, index_col=None)\n",
    "pred_class.head()"
   ]
  },
  {
   "cell_type": "code",
   "execution_count": 234,
   "metadata": {},
   "outputs": [],
   "source": [
    "pred_class = pred_class.drop(pred_class.columns[3], axis=1)\n"
   ]
  },
  {
   "cell_type": "code",
   "execution_count": 235,
   "metadata": {},
   "outputs": [
    {
     "data": {
      "text/html": [
       "<div>\n",
       "<style scoped>\n",
       "    .dataframe tbody tr th:only-of-type {\n",
       "        vertical-align: middle;\n",
       "    }\n",
       "\n",
       "    .dataframe tbody tr th {\n",
       "        vertical-align: top;\n",
       "    }\n",
       "\n",
       "    .dataframe thead th {\n",
       "        text-align: right;\n",
       "    }\n",
       "</style>\n",
       "<table border=\"1\" class=\"dataframe\">\n",
       "  <thead>\n",
       "    <tr style=\"text-align: right;\">\n",
       "      <th></th>\n",
       "      <th>0</th>\n",
       "      <th>1</th>\n",
       "      <th>2</th>\n",
       "    </tr>\n",
       "  </thead>\n",
       "  <tbody>\n",
       "    <tr>\n",
       "      <th>0</th>\n",
       "      <td>tensor([9.9932e-01,</td>\n",
       "      <td>6.2238e-04,</td>\n",
       "      <td>6.1958e-05],</td>\n",
       "    </tr>\n",
       "    <tr>\n",
       "      <th>1</th>\n",
       "      <td>tensor([3.2692e-05,</td>\n",
       "      <td>2.6787e-04,</td>\n",
       "      <td>9.9970e-01],</td>\n",
       "    </tr>\n",
       "    <tr>\n",
       "      <th>2</th>\n",
       "      <td>tensor([7.5063e-04,</td>\n",
       "      <td>9.5882e-01,</td>\n",
       "      <td>4.0425e-02],</td>\n",
       "    </tr>\n",
       "    <tr>\n",
       "      <th>3</th>\n",
       "      <td>tensor([4.0734e-05,</td>\n",
       "      <td>2.9987e-04,</td>\n",
       "      <td>9.9966e-01],</td>\n",
       "    </tr>\n",
       "    <tr>\n",
       "      <th>4</th>\n",
       "      <td>tensor([0.0026,</td>\n",
       "      <td>0.0721,</td>\n",
       "      <td>0.9253],</td>\n",
       "    </tr>\n",
       "  </tbody>\n",
       "</table>\n",
       "</div>"
      ],
      "text/plain": [
       "                     0            1             2\n",
       "0  tensor([9.9932e-01,  6.2238e-04,  6.1958e-05],\n",
       "1  tensor([3.2692e-05,  2.6787e-04,  9.9970e-01],\n",
       "2  tensor([7.5063e-04,  9.5882e-01,  4.0425e-02],\n",
       "3  tensor([4.0734e-05,  2.9987e-04,  9.9966e-01],\n",
       "4      tensor([0.0026,      0.0721,      0.9253],"
      ]
     },
     "execution_count": 235,
     "metadata": {},
     "output_type": "execute_result"
    }
   ],
   "source": [
    "pred_class.head()"
   ]
  },
  {
   "cell_type": "code",
   "execution_count": 236,
   "metadata": {},
   "outputs": [
    {
     "name": "stdout",
     "output_type": "stream",
     "text": [
      "        negative   neutral  positive\n",
      "0       0.999320  0.000622  0.000062\n",
      "1       0.000033  0.000268  0.999700\n",
      "2       0.000751  0.958820  0.040425\n",
      "3       0.000041  0.000300  0.999660\n",
      "4       0.002600  0.072100  0.925300\n",
      "...          ...       ...       ...\n",
      "486692  0.000047  0.999730  0.000221\n",
      "486693  0.000078  0.001404  0.998520\n",
      "486694  0.025200  0.532600  0.442200\n",
      "486695  0.000037  0.999760  0.000204\n",
      "486696  0.000049  0.999840  0.000111\n",
      "\n",
      "[486697 rows x 3 columns]\n"
     ]
    }
   ],
   "source": [
    "csv_data = pred_class.copy()\n",
    "\n",
    "# Replace \"tensor([\" with an empty string in the pred_class DataFrame\n",
    "csv_data[0] = csv_data[0].replace(r'tensor\\(\\[|\\s|\\]|\\,', '', regex=True)\n",
    "csv_data[1] = csv_data[1].replace(r'tensor\\(\\[|\\s|\\]|\\,', '', regex=True)\n",
    "csv_data[2] = csv_data[2].replace(r'tensor\\(\\[|\\s|\\]|\\,', '', regex=True)\n",
    "csv_data = csv_data.astype('float32')\n",
    "csv_data.rename(columns={0: 'negative', 1: 'neutral', 2: 'positive'}, inplace=True)\n",
    "\n",
    "# Display the modified DataFrame\n",
    "print(csv_data)"
   ]
  },
  {
   "cell_type": "code",
   "execution_count": 237,
   "metadata": {},
   "outputs": [
    {
     "name": "stdout",
     "output_type": "stream",
     "text": [
      "<class 'pandas.core.frame.DataFrame'>\n",
      "RangeIndex: 486697 entries, 0 to 486696\n",
      "Data columns (total 3 columns):\n",
      " #   Column    Non-Null Count   Dtype  \n",
      "---  ------    --------------   -----  \n",
      " 0   negative  486697 non-null  float32\n",
      " 1   neutral   486697 non-null  float32\n",
      " 2   positive  486697 non-null  float32\n",
      "dtypes: float32(3)\n",
      "memory usage: 5.6 MB\n"
     ]
    }
   ],
   "source": [
    "csv_data.info()"
   ]
  },
  {
   "cell_type": "markdown",
   "metadata": {},
   "source": [
    "Since the data rows are the same for class prediction and the match_data, we can reduce the 3 labels to 2, using the method mentioned in report. "
   ]
  },
  {
   "cell_type": "code",
   "execution_count": 238,
   "metadata": {},
   "outputs": [
    {
     "data": {
      "text/html": [
       "<div>\n",
       "<style scoped>\n",
       "    .dataframe tbody tr th:only-of-type {\n",
       "        vertical-align: middle;\n",
       "    }\n",
       "\n",
       "    .dataframe tbody tr th {\n",
       "        vertical-align: top;\n",
       "    }\n",
       "\n",
       "    .dataframe thead th {\n",
       "        text-align: right;\n",
       "    }\n",
       "</style>\n",
       "<table border=\"1\" class=\"dataframe\">\n",
       "  <thead>\n",
       "    <tr style=\"text-align: right;\">\n",
       "      <th></th>\n",
       "      <th>NewsID</th>\n",
       "      <th>Title</th>\n",
       "      <th>NewsContent</th>\n",
       "      <th>Explicit_Company</th>\n",
       "      <th>processed_text</th>\n",
       "      <th>pred_class</th>\n",
       "      <th>negative</th>\n",
       "      <th>neutral</th>\n",
       "      <th>positive</th>\n",
       "    </tr>\n",
       "  </thead>\n",
       "  <tbody>\n",
       "    <tr>\n",
       "      <th>0</th>\n",
       "      <td>1</td>\n",
       "      <td>建设银行原董事长张恩照一审被判15年</td>\n",
       "      <td>本报记者 田雨 李京华    　　中国建设银行股份有限公司原董事长张恩照受贿案３日一审宣...</td>\n",
       "      <td>建设银行</td>\n",
       "      <td>本报记者 田雨 李 京华 中国建设银行 股份 有限公司 原 董事长 张恩照 受贿案 ３ 日 ...</td>\n",
       "      <td>0</td>\n",
       "      <td>0.999320</td>\n",
       "      <td>0.000622</td>\n",
       "      <td>0.000062</td>\n",
       "    </tr>\n",
       "    <tr>\n",
       "      <th>1</th>\n",
       "      <td>2</td>\n",
       "      <td>农行信用卡中心搬到上海滩</td>\n",
       "      <td>中国农业银行信用卡中心由北京搬到上海了！  　　农行行长杨明生日前在信用卡中心揭牌仪式上...</td>\n",
       "      <td>农业银行</td>\n",
       "      <td>中国农业银行 信用卡 中心 由 北京 搬 到 上海 农行 行长 杨明 生日 前 在 信用卡 ...</td>\n",
       "      <td>2</td>\n",
       "      <td>0.000033</td>\n",
       "      <td>0.000268</td>\n",
       "      <td>0.999700</td>\n",
       "    </tr>\n",
       "    <tr>\n",
       "      <th>2</th>\n",
       "      <td>3</td>\n",
       "      <td>外运发展：价值型蓝筹股补涨要求强烈</td>\n",
       "      <td>在新基金快速发行以及申购资金回流的情况下，市场总体上呈现资金流动性过剩格局，考虑到现阶段...</td>\n",
       "      <td>外运发展,中国国航</td>\n",
       "      <td>在 新 基金 快速 发行 以及 申购 资金 回流 情况 下 市场 总体 上 呈现 资金 流动...</td>\n",
       "      <td>1</td>\n",
       "      <td>0.000751</td>\n",
       "      <td>0.958820</td>\n",
       "      <td>0.040425</td>\n",
       "    </tr>\n",
       "    <tr>\n",
       "      <th>3</th>\n",
       "      <td>4</td>\n",
       "      <td>胜利股份：稳步走强形成标准上升通道</td>\n",
       "      <td>胜利股份（000407）公司子公司填海造地2800亩，以青岛的地价估算，静态价值在10亿...</td>\n",
       "      <td>胜利股份</td>\n",
       "      <td>胜利 股份 47 公司 子公司 填海造地 亩 以 青岛 地价 估算 静态 价值 在 1 亿元...</td>\n",
       "      <td>2</td>\n",
       "      <td>0.000041</td>\n",
       "      <td>0.000300</td>\n",
       "      <td>0.999660</td>\n",
       "    </tr>\n",
       "    <tr>\n",
       "      <th>4</th>\n",
       "      <td>8</td>\n",
       "      <td>南风化工：钾肥三雄之一 被\"中化\"相中</td>\n",
       "      <td>由于全球最大的俄罗斯Uralkaly钾矿被淹，产量大减，同时满洲里口岸铁路在修复线，导致...</td>\n",
       "      <td>冠农股份</td>\n",
       "      <td>由于 全球 最大 俄罗斯 Urlkly 钾矿 被淹 产量 大减 同时 满洲里 口岸 铁路 在...</td>\n",
       "      <td>2</td>\n",
       "      <td>0.002600</td>\n",
       "      <td>0.072100</td>\n",
       "      <td>0.925300</td>\n",
       "    </tr>\n",
       "  </tbody>\n",
       "</table>\n",
       "</div>"
      ],
      "text/plain": [
       "   NewsID                Title  \\\n",
       "0       1   建设银行原董事长张恩照一审被判15年   \n",
       "1       2         农行信用卡中心搬到上海滩   \n",
       "2       3    外运发展：价值型蓝筹股补涨要求强烈   \n",
       "3       4    胜利股份：稳步走强形成标准上升通道   \n",
       "4       8  南风化工：钾肥三雄之一 被\"中化\"相中   \n",
       "\n",
       "                                         NewsContent Explicit_Company  \\\n",
       "0  　　本报记者 田雨 李京华    　　中国建设银行股份有限公司原董事长张恩照受贿案３日一审宣...             建设银行   \n",
       "1  　　中国农业银行信用卡中心由北京搬到上海了！  　　农行行长杨明生日前在信用卡中心揭牌仪式上...             农业银行   \n",
       "2  　　在新基金快速发行以及申购资金回流的情况下，市场总体上呈现资金流动性过剩格局，考虑到现阶段...        外运发展,中国国航   \n",
       "3  　　胜利股份（000407）公司子公司填海造地2800亩，以青岛的地价估算，静态价值在10亿...             胜利股份   \n",
       "4  　　由于全球最大的俄罗斯Uralkaly钾矿被淹，产量大减，同时满洲里口岸铁路在修复线，导致...             冠农股份   \n",
       "\n",
       "                                      processed_text  pred_class  negative  \\\n",
       "0  本报记者 田雨 李 京华 中国建设银行 股份 有限公司 原 董事长 张恩照 受贿案 ３ 日 ...           0  0.999320   \n",
       "1  中国农业银行 信用卡 中心 由 北京 搬 到 上海 农行 行长 杨明 生日 前 在 信用卡 ...           2  0.000033   \n",
       "2  在 新 基金 快速 发行 以及 申购 资金 回流 情况 下 市场 总体 上 呈现 资金 流动...           1  0.000751   \n",
       "3  胜利 股份 47 公司 子公司 填海造地 亩 以 青岛 地价 估算 静态 价值 在 1 亿元...           2  0.000041   \n",
       "4  由于 全球 最大 俄罗斯 Urlkly 钾矿 被淹 产量 大减 同时 满洲里 口岸 铁路 在...           2  0.002600   \n",
       "\n",
       "    neutral  positive  \n",
       "0  0.000622  0.000062  \n",
       "1  0.000268  0.999700  \n",
       "2  0.958820  0.040425  \n",
       "3  0.000300  0.999660  \n",
       "4  0.072100  0.925300  "
      ]
     },
     "execution_count": 238,
     "metadata": {},
     "output_type": "execute_result"
    }
   ],
   "source": [
    "match_data_pred = pd.concat([match_data, csv_data], axis=1)\n",
    "match_data_pred.head(5)"
   ]
  },
  {
   "cell_type": "code",
   "execution_count": 239,
   "metadata": {},
   "outputs": [],
   "source": [
    "match_data_pred['label'] = np.argmax(match_data_pred[['negative', 'neutral', 'positive']].values, axis=1)\n",
    "#match_data_pred.to_csv('others/checkpoints/match_merged_class.csv', index=False)"
   ]
  },
  {
   "cell_type": "code",
   "execution_count": 240,
   "metadata": {},
   "outputs": [
    {
     "name": "stderr",
     "output_type": "stream",
     "text": [
      "C:\\Users\\cindy\\AppData\\Local\\Temp\\ipykernel_26216\\1119895287.py:8: FutureWarning: \n",
      "\n",
      "Passing `palette` without assigning `hue` is deprecated and will be removed in v0.14.0. Assign the `x` variable to `hue` and set `legend=False` for the same effect.\n",
      "\n",
      "  sns.barplot(x=sentiment_counts.index, y=sentiment_counts.values, palette=\"viridis\")\n"
     ]
    },
    {
     "data": {
      "image/png": "[encoded data removed]",
      "text/plain": [
       "<Figure size 800x600 with 1 Axes>"
      ]
     },
     "metadata": {},
     "output_type": "display_data"
    }
   ],
   "source": [
    "import matplotlib.pyplot as plt\n",
    "import seaborn as sns\n",
    "# Count the occurrences of each sentiment class\n",
    "sentiment_counts = match_data_pred['label'].value_counts()\n",
    "\n",
    "# Plot a bar chart\n",
    "plt.figure(figsize=(8, 6))\n",
    "sns.barplot(x=sentiment_counts.index, y=sentiment_counts.values, palette=\"viridis\")\n",
    "plt.title('Distribution of Sentiment')\n",
    "plt.xlabel('Sentiment')\n",
    "plt.ylabel('Count')\n",
    "plt.show()\n"
   ]
  },
  {
   "cell_type": "code",
   "execution_count": 241,
   "metadata": {},
   "outputs": [
    {
     "data": {
      "text/html": [
       "<div>\n",
       "<style scoped>\n",
       "    .dataframe tbody tr th:only-of-type {\n",
       "        vertical-align: middle;\n",
       "    }\n",
       "\n",
       "    .dataframe tbody tr th {\n",
       "        vertical-align: top;\n",
       "    }\n",
       "\n",
       "    .dataframe thead th {\n",
       "        text-align: right;\n",
       "    }\n",
       "</style>\n",
       "<table border=\"1\" class=\"dataframe\">\n",
       "  <thead>\n",
       "    <tr style=\"text-align: right;\">\n",
       "      <th></th>\n",
       "      <th>NewsID</th>\n",
       "      <th>NewsContent</th>\n",
       "      <th>Explicit_Company</th>\n",
       "      <th>pred_class</th>\n",
       "      <th>label</th>\n",
       "    </tr>\n",
       "  </thead>\n",
       "  <tbody>\n",
       "    <tr>\n",
       "      <th>0</th>\n",
       "      <td>1</td>\n",
       "      <td>本报记者 田雨 李京华    　　中国建设银行股份有限公司原董事长张恩照受贿案３日一审宣...</td>\n",
       "      <td>建设银行</td>\n",
       "      <td>0</td>\n",
       "      <td>0</td>\n",
       "    </tr>\n",
       "    <tr>\n",
       "      <th>1</th>\n",
       "      <td>2</td>\n",
       "      <td>中国农业银行信用卡中心由北京搬到上海了！  　　农行行长杨明生日前在信用卡中心揭牌仪式上...</td>\n",
       "      <td>农业银行</td>\n",
       "      <td>2</td>\n",
       "      <td>1</td>\n",
       "    </tr>\n",
       "    <tr>\n",
       "      <th>2</th>\n",
       "      <td>3</td>\n",
       "      <td>在新基金快速发行以及申购资金回流的情况下，市场总体上呈现资金流动性过剩格局，考虑到现阶段...</td>\n",
       "      <td>外运发展,中国国航</td>\n",
       "      <td>1</td>\n",
       "      <td>1</td>\n",
       "    </tr>\n",
       "  </tbody>\n",
       "</table>\n",
       "</div>"
      ],
      "text/plain": [
       "   NewsID                                        NewsContent Explicit_Company  \\\n",
       "0       1  　　本报记者 田雨 李京华    　　中国建设银行股份有限公司原董事长张恩照受贿案３日一审宣...             建设银行   \n",
       "1       2  　　中国农业银行信用卡中心由北京搬到上海了！  　　农行行长杨明生日前在信用卡中心揭牌仪式上...             农业银行   \n",
       "2       3  　　在新基金快速发行以及申购资金回流的情况下，市场总体上呈现资金流动性过剩格局，考虑到现阶段...        外运发展,中国国航   \n",
       "\n",
       "   pred_class  label  \n",
       "0           0      0  \n",
       "1           2      1  \n",
       "2           1      1  "
      ]
     },
     "execution_count": 241,
     "metadata": {},
     "output_type": "execute_result"
    }
   ],
   "source": [
    "# Check if 'label' value is 1 and update accordingly\n",
    "mask = (match_data_pred['label'] == 1)\n",
    "match_data_pred.loc[mask, 'label'] = np.where(\n",
    "    match_data_pred.loc[mask, 'negative'] > match_data_pred.loc[mask, 'positive'], 0, 2\n",
    ")\n",
    "\n",
    "\n",
    "match_data_pred['label'] = match_data_pred['label'].replace(2, 1)\n",
    "match_data_pred = match_data_pred.drop(\n",
    "    ['Title', 'processed_text','negative', 'neutral', 'positive'], axis=1)\n",
    "\n",
    "match_data_pred.head(3)\n"
   ]
  },
  {
   "cell_type": "code",
   "execution_count": 129,
   "metadata": {},
   "outputs": [],
   "source": [
    "match_data_pred.to_excel('Task1.xlsx', index=False)"
   ]
  },
  {
   "cell_type": "markdown",
   "metadata": {},
   "source": [
    "### 2.3 Second attempt of sentiment analysis with BERT using sentence as input "
   ]
  },
  {
   "cell_type": "code",
   "execution_count": 132,
   "metadata": {},
   "outputs": [],
   "source": [
    "with open(\"A_share_list.json\", \"r\", encoding=\"utf-8\") as file:\n",
    "    a_share_list = json.load(file)"
   ]
  },
  {
   "cell_type": "code",
   "execution_count": 133,
   "metadata": {},
   "outputs": [],
   "source": [
    "import pandas as pd\n",
    "\n",
    "# Assuming you have your a_share_list and def_data already defined\n",
    "\n",
    "def extract_sentence_after_match(news_text, a_share_companies):\n",
    "    sentences = news_text.split('。')\n",
    "    matched_sentences = []\n",
    "    for sentence in sentences:\n",
    "        for company in a_share_companies:\n",
    "            if company[\"name\"] in sentence or company[\"fullname\"] in sentence or company[\"code\"] in sentence:\n",
    "                matched_sentences.append(sentence)\n",
    "                break  # Break once a match is found for a company in the current sentence\n",
    "    return '。'.join(matched_sentences)\n",
    "\n",
    "# Add a new column 'Matched_Sentence' to store the matched sentence\n",
    "def_match_data['Matched_Sentence'] = def_match_data.apply(lambda row: extract_sentence_after_match(str(row['NewsContent']), a_share_list), axis=1)\n",
    "def_match_data['Matched_Sentence'] = def_match_data['Matched_Sentence'].apply(preprocess_text)\n",
    "# checkpoint\n",
    "def_match_data.to_csv('others/checkpoints/def_match_sentences.csv', index=False)\n"
   ]
  },
  {
   "cell_type": "code",
   "execution_count": null,
   "metadata": {},
   "outputs": [],
   "source": [
    "import torch\n",
    "from tqdm import tqdm\n",
    "import numpy as np\n",
    "\n",
    "# Move the model to GPU\n",
    "model.to('cuda')\n",
    "\n",
    "# Disable gradient calculation during inference\n",
    "torch.set_grad_enabled(False)\n",
    "\n",
    "\n",
    "# Initialize an empty list to store predicted classes\n",
    "predicted_classes = []\n",
    "\n",
    "# Function to get predicted class for a given text\n",
    "def get_predicted_class_batch(texts):\n",
    "    # Tokenize the texts\n",
    "    inputs = tokenizer(texts, return_tensors=\"pt\", truncation=True, padding=True)\n",
    "\n",
    "    # Move input tensors to GPU\n",
    "    inputs = {key: value.to('cuda') for key, value in inputs.items()}\n",
    "\n",
    "    # Perform forward pass through the BERT model\n",
    "    outputs = model(**inputs)\n",
    "\n",
    "    # Get the predicted probabilities for each class (negative and positive)\n",
    "    logits = outputs.logits\n",
    "    probs = logits.softmax(dim=1)\n",
    "\n",
    "    # Get the predicted sentiment classes (0 for negative, 1 for positive)\n",
    "    predicted_classes_batch = torch.argmax(probs, dim=1).tolist()\n",
    "\n",
    "    # Append the predicted classes to the list\n",
    "    predicted_classes.extend(probs)\n",
    "\n",
    "    return predicted_classes_batch\n",
    "\n",
    "# Batch processing size\n",
    "batch_size = 80\n",
    "\n",
    "# Apply the function to the 'processed_text' column with tqdm for a progress bar\n",
    "tqdm.pandas()\n",
    "def_match_data['pred_class'] = def_match_data['Matched_Sentence'].progress_apply(\n",
    "    lambda x: get_predicted_class_batch(x)[0]  # Extract the result from the list\n",
    ")\n",
    "def_match_data.to_csv('others/checkpoints/match_data_pred.csv', index=False)\n"
   ]
  },
  {
   "cell_type": "markdown",
   "metadata": {},
   "source": [
    "### 2.4 second dataset cleanup"
   ]
  },
  {
   "cell_type": "code",
   "execution_count": 223,
   "metadata": {},
   "outputs": [
    {
     "name": "stdout",
     "output_type": "stream",
     "text": [
      "(473685, 6)\n",
      "\n",
      "DataFrame after removing NaN values:\n",
      "(473685, 6)\n"
     ]
    }
   ],
   "source": [
    "match_data2 = pd.read_csv('others/checkpoints/match_sentence_pred.csv')\n",
    "match_data2.head(5)\n",
    "print(match_data2.shape)\n",
    "\n",
    "# Remove rows with NaN values\n",
    "match_data2 = match_data2.dropna(subset=['Matched_Sentence'])\n",
    "\n",
    "# Display the DataFrame after removing NaN values\n",
    "print(\"\\nDataFrame after removing NaN values:\")\n",
    "print(match_data2.shape)"
   ]
  },
  {
   "cell_type": "code",
   "execution_count": 224,
   "metadata": {},
   "outputs": [
    {
     "name": "stdout",
     "output_type": "stream",
     "text": [
      "        negative   neutral  positive\n",
      "0       0.998840  0.001081  0.000075\n",
      "1       0.000039  0.999450  0.000514\n",
      "2       0.000296  0.998010  0.001693\n",
      "3       0.000053  0.999420  0.000530\n",
      "4       0.002300  0.046500  0.951200\n",
      "...          ...       ...       ...\n",
      "473680  0.000048  0.999720  0.000231\n",
      "473681  0.000118  0.019885  0.980000\n",
      "473682  0.000078  0.000622  0.999300\n",
      "473683  0.000042  0.999730  0.000232\n",
      "473684  0.000048  0.999860  0.000092\n",
      "\n",
      "[473685 rows x 3 columns]\n"
     ]
    }
   ],
   "source": [
    "pred_class2 = pd.read_csv('others/checkpoints/predicted_class2.csv', \n",
    "                         header = None, index_col=None)\n",
    "\n",
    "csv_data2 = pred_class2.copy()\n",
    "csv_data2 = csv_data2.drop(csv_data2.columns[3], axis=1)\n",
    "\n",
    "# Replace \"tensor([\" with an empty string in the pred_class DataFrame\n",
    "csv_data2[0] = csv_data2[0].replace(r'tensor\\(\\[|\\s|\\]|\\,', '', regex=True)\n",
    "csv_data2[1] = csv_data2[1].replace(r'tensor\\(\\[|\\s|\\]|\\,', '', regex=True)\n",
    "csv_data2[2] = csv_data2[2].replace(r'tensor\\(\\[|\\s|\\]|\\,', '', regex=True)\n",
    "csv_data2.rename(columns={0: 'negative', 1: 'neutral', 2: 'positive'}, inplace=True)\n",
    "\n",
    "csv_data2 = csv_data2.apply(pd.to_numeric, errors='coerce')\n",
    "csv_data2 = csv_data2.astype('float32')\n",
    "\n",
    "# Display the modified DataFrame\n",
    "print(csv_data2)\n",
    "\n",
    "match_data_pred2 = pd.concat([match_data2, csv_data2], axis=1)"
   ]
  },
  {
   "cell_type": "code",
   "execution_count": 225,
   "metadata": {},
   "outputs": [
    {
     "data": {
      "text/html": [
       "<div>\n",
       "<style scoped>\n",
       "    .dataframe tbody tr th:only-of-type {\n",
       "        vertical-align: middle;\n",
       "    }\n",
       "\n",
       "    .dataframe tbody tr th {\n",
       "        vertical-align: top;\n",
       "    }\n",
       "\n",
       "    .dataframe thead th {\n",
       "        text-align: right;\n",
       "    }\n",
       "</style>\n",
       "<table border=\"1\" class=\"dataframe\">\n",
       "  <thead>\n",
       "    <tr style=\"text-align: right;\">\n",
       "      <th></th>\n",
       "      <th>NewsID</th>\n",
       "      <th>Title</th>\n",
       "      <th>NewsContent</th>\n",
       "      <th>Explicit_Company</th>\n",
       "      <th>Matched_Sentence</th>\n",
       "      <th>pred_class</th>\n",
       "      <th>negative</th>\n",
       "      <th>neutral</th>\n",
       "      <th>positive</th>\n",
       "    </tr>\n",
       "  </thead>\n",
       "  <tbody>\n",
       "    <tr>\n",
       "      <th>0</th>\n",
       "      <td>1</td>\n",
       "      <td>建设银行原董事长张恩照一审被判15年</td>\n",
       "      <td>本报记者 田雨 李京华    　　中国建设银行股份有限公司原董事长张恩照受贿案３日一审宣...</td>\n",
       "      <td>建设银行</td>\n",
       "      <td>本报记者 田雨 李 京华 中国建设银行 股份 有限公司 原 董事长 张恩照 受贿案 ３ 日 ...</td>\n",
       "      <td>0</td>\n",
       "      <td>0.998840</td>\n",
       "      <td>0.001081</td>\n",
       "      <td>0.000075</td>\n",
       "    </tr>\n",
       "    <tr>\n",
       "      <th>1</th>\n",
       "      <td>2</td>\n",
       "      <td>农行信用卡中心搬到上海滩</td>\n",
       "      <td>中国农业银行信用卡中心由北京搬到上海了！  　　农行行长杨明生日前在信用卡中心揭牌仪式上...</td>\n",
       "      <td>农业银行</td>\n",
       "      <td>中国农业银行 信用卡 中心 由 北京 搬 到 上海 农行 行长 杨明 生日 前 在 信用卡 ...</td>\n",
       "      <td>1</td>\n",
       "      <td>0.000039</td>\n",
       "      <td>0.999450</td>\n",
       "      <td>0.000514</td>\n",
       "    </tr>\n",
       "    <tr>\n",
       "      <th>2</th>\n",
       "      <td>3</td>\n",
       "      <td>外运发展：价值型蓝筹股补涨要求强烈</td>\n",
       "      <td>在新基金快速发行以及申购资金回流的情况下，市场总体上呈现资金流动性过剩格局，考虑到现阶段...</td>\n",
       "      <td>外运发展,中国国航</td>\n",
       "      <td>在 新 基金 快速 发行 以及 申购 资金 回流 情况 下 市场 总体 上 呈现 资金 流动...</td>\n",
       "      <td>1</td>\n",
       "      <td>0.000296</td>\n",
       "      <td>0.998010</td>\n",
       "      <td>0.001693</td>\n",
       "    </tr>\n",
       "    <tr>\n",
       "      <th>3</th>\n",
       "      <td>4</td>\n",
       "      <td>胜利股份：稳步走强形成标准上升通道</td>\n",
       "      <td>胜利股份（000407）公司子公司填海造地2800亩，以青岛的地价估算，静态价值在10亿...</td>\n",
       "      <td>胜利股份</td>\n",
       "      <td>胜利 股份 47 公司 子公司 填海造地 亩 以 青岛 地价 估算 静态 价值 在 1 亿元 左右</td>\n",
       "      <td>1</td>\n",
       "      <td>0.000053</td>\n",
       "      <td>0.999420</td>\n",
       "      <td>0.000530</td>\n",
       "    </tr>\n",
       "    <tr>\n",
       "      <th>4</th>\n",
       "      <td>8</td>\n",
       "      <td>南风化工：钾肥三雄之一 被\"中化\"相中</td>\n",
       "      <td>由于全球最大的俄罗斯Uralkaly钾矿被淹，产量大减，同时满洲里口岸铁路在修复线，导致...</td>\n",
       "      <td>冠农股份</td>\n",
       "      <td>由于 全球 最大 俄罗斯 Urlkly 钾矿 被淹 产量 大减 同时 满洲里 口岸 铁路 在...</td>\n",
       "      <td>2</td>\n",
       "      <td>0.002300</td>\n",
       "      <td>0.046500</td>\n",
       "      <td>0.951200</td>\n",
       "    </tr>\n",
       "    <tr>\n",
       "      <th>...</th>\n",
       "      <td>...</td>\n",
       "      <td>...</td>\n",
       "      <td>...</td>\n",
       "      <td>...</td>\n",
       "      <td>...</td>\n",
       "      <td>...</td>\n",
       "      <td>...</td>\n",
       "      <td>...</td>\n",
       "      <td>...</td>\n",
       "    </tr>\n",
       "    <tr>\n",
       "      <th>473680</th>\n",
       "      <td>1037031</td>\n",
       "      <td>亿华通：公司电解槽相关产品目前还处于产品的研发及测试阶段 尚未实现批量销售</td>\n",
       "      <td>每经AI快讯，有投资者在投资者互动平台提问：请问公司目前有没有电解槽产能，规划情况能否详细介...</td>\n",
       "      <td>亿华通</td>\n",
       "      <td>每经 AI 快讯 有 投资者 在 投资者 互动 平台 提问 请问 公司 目前 有没有 电解槽...</td>\n",
       "      <td>1</td>\n",
       "      <td>0.000048</td>\n",
       "      <td>0.999720</td>\n",
       "      <td>0.000231</td>\n",
       "    </tr>\n",
       "    <tr>\n",
       "      <th>473681</th>\n",
       "      <td>1037032</td>\n",
       "      <td>依米康：接受中泰证券调研</td>\n",
       "      <td>依米康（SZ 300249，收盘价：10.38元）发布公告称，2023年10月12日，依米康...</td>\n",
       "      <td>中泰证券,依米康</td>\n",
       "      <td>依米康 SZ49 收盘价 1 元 发布公告 称年 1 月 1 日 依米康 接受 中 泰 证券...</td>\n",
       "      <td>2</td>\n",
       "      <td>0.000118</td>\n",
       "      <td>0.019885</td>\n",
       "      <td>0.980000</td>\n",
       "    </tr>\n",
       "    <tr>\n",
       "      <th>473682</th>\n",
       "      <td>1037033</td>\n",
       "      <td>天风证券给予中核科技买入评级 核电行业景气上行 公司有望乘风而起</td>\n",
       "      <td>天风证券10月13日发布研报称，给予中核科技（000777.SZ，最新价：13.03元）买入...</td>\n",
       "      <td>中核科技,天风证券</td>\n",
       "      <td>天风 证券 1 月 1 日 发布 研 报称 给予 中核 科技 777SZ 最新 价 1 元 ...</td>\n",
       "      <td>2</td>\n",
       "      <td>0.000078</td>\n",
       "      <td>0.000622</td>\n",
       "      <td>0.999300</td>\n",
       "    </tr>\n",
       "    <tr>\n",
       "      <th>473683</th>\n",
       "      <td>1037034</td>\n",
       "      <td>海特生物：公司在抗癌药CPT获批后 会考虑适时开展CPT在海外的临床并谋求上市</td>\n",
       "      <td>有投资者提问：抗癌药CPT获批后，公司是否应该按照股权协议继续收购沙东股权，适应症为MM的C...</td>\n",
       "      <td>海特生物</td>\n",
       "      <td>有 投资者 提问 抗癌药 CPT 获批 后 公司 应该 按照 股权 协议 继续 收购 沙东 ...</td>\n",
       "      <td>1</td>\n",
       "      <td>0.000042</td>\n",
       "      <td>0.999730</td>\n",
       "      <td>0.000232</td>\n",
       "    </tr>\n",
       "    <tr>\n",
       "      <th>473684</th>\n",
       "      <td>1037035</td>\n",
       "      <td>恩捷股份：股东合益投资部分股份补充质押</td>\n",
       "      <td>10月13日午间，根据恩捷股份发布的公告，持有公司股份5%以上的股东玉溪合益投资有限公司（下...</td>\n",
       "      <td>恩捷股份</td>\n",
       "      <td>1 月 1 日 午间 根据 恩捷 股份 发布 公告 持有 公司 股份 5 以上 股东 玉溪 ...</td>\n",
       "      <td>1</td>\n",
       "      <td>0.000048</td>\n",
       "      <td>0.999860</td>\n",
       "      <td>0.000092</td>\n",
       "    </tr>\n",
       "  </tbody>\n",
       "</table>\n",
       "<p>473685 rows × 9 columns</p>\n",
       "</div>"
      ],
      "text/plain": [
       "         NewsID                                    Title  \\\n",
       "0             1                       建设银行原董事长张恩照一审被判15年   \n",
       "1             2                             农行信用卡中心搬到上海滩   \n",
       "2             3                        外运发展：价值型蓝筹股补涨要求强烈   \n",
       "3             4                        胜利股份：稳步走强形成标准上升通道   \n",
       "4             8                      南风化工：钾肥三雄之一 被\"中化\"相中   \n",
       "...         ...                                      ...   \n",
       "473680  1037031    亿华通：公司电解槽相关产品目前还处于产品的研发及测试阶段 尚未实现批量销售   \n",
       "473681  1037032                             依米康：接受中泰证券调研   \n",
       "473682  1037033         天风证券给予中核科技买入评级 核电行业景气上行 公司有望乘风而起   \n",
       "473683  1037034  海特生物：公司在抗癌药CPT获批后 会考虑适时开展CPT在海外的临床并谋求上市   \n",
       "473684  1037035                      恩捷股份：股东合益投资部分股份补充质押   \n",
       "\n",
       "                                              NewsContent Explicit_Company  \\\n",
       "0       　　本报记者 田雨 李京华    　　中国建设银行股份有限公司原董事长张恩照受贿案３日一审宣...             建设银行   \n",
       "1       　　中国农业银行信用卡中心由北京搬到上海了！  　　农行行长杨明生日前在信用卡中心揭牌仪式上...             农业银行   \n",
       "2       　　在新基金快速发行以及申购资金回流的情况下，市场总体上呈现资金流动性过剩格局，考虑到现阶段...        外运发展,中国国航   \n",
       "3       　　胜利股份（000407）公司子公司填海造地2800亩，以青岛的地价估算，静态价值在10亿...             胜利股份   \n",
       "4       　　由于全球最大的俄罗斯Uralkaly钾矿被淹，产量大减，同时满洲里口岸铁路在修复线，导致...             冠农股份   \n",
       "...                                                   ...              ...   \n",
       "473680  每经AI快讯，有投资者在投资者互动平台提问：请问公司目前有没有电解槽产能，规划情况能否详细介...              亿华通   \n",
       "473681  依米康（SZ 300249，收盘价：10.38元）发布公告称，2023年10月12日，依米康...         中泰证券,依米康   \n",
       "473682  天风证券10月13日发布研报称，给予中核科技（000777.SZ，最新价：13.03元）买入...        中核科技,天风证券   \n",
       "473683  有投资者提问：抗癌药CPT获批后，公司是否应该按照股权协议继续收购沙东股权，适应症为MM的C...             海特生物   \n",
       "473684  10月13日午间，根据恩捷股份发布的公告，持有公司股份5%以上的股东玉溪合益投资有限公司（下...             恩捷股份   \n",
       "\n",
       "                                         Matched_Sentence  pred_class  \\\n",
       "0       本报记者 田雨 李 京华 中国建设银行 股份 有限公司 原 董事长 张恩照 受贿案 ３ 日 ...           0   \n",
       "1       中国农业银行 信用卡 中心 由 北京 搬 到 上海 农行 行长 杨明 生日 前 在 信用卡 ...           1   \n",
       "2       在 新 基金 快速 发行 以及 申购 资金 回流 情况 下 市场 总体 上 呈现 资金 流动...           1   \n",
       "3       胜利 股份 47 公司 子公司 填海造地 亩 以 青岛 地价 估算 静态 价值 在 1 亿元 左右           1   \n",
       "4       由于 全球 最大 俄罗斯 Urlkly 钾矿 被淹 产量 大减 同时 满洲里 口岸 铁路 在...           2   \n",
       "...                                                   ...         ...   \n",
       "473680  每经 AI 快讯 有 投资者 在 投资者 互动 平台 提问 请问 公司 目前 有没有 电解槽...           1   \n",
       "473681  依米康 SZ49 收盘价 1 元 发布公告 称年 1 月 1 日 依米康 接受 中 泰 证券...           2   \n",
       "473682  天风 证券 1 月 1 日 发布 研 报称 给予 中核 科技 777SZ 最新 价 1 元 ...           2   \n",
       "473683  有 投资者 提问 抗癌药 CPT 获批 后 公司 应该 按照 股权 协议 继续 收购 沙东 ...           1   \n",
       "473684  1 月 1 日 午间 根据 恩捷 股份 发布 公告 持有 公司 股份 5 以上 股东 玉溪 ...           1   \n",
       "\n",
       "        negative   neutral  positive  \n",
       "0       0.998840  0.001081  0.000075  \n",
       "1       0.000039  0.999450  0.000514  \n",
       "2       0.000296  0.998010  0.001693  \n",
       "3       0.000053  0.999420  0.000530  \n",
       "4       0.002300  0.046500  0.951200  \n",
       "...          ...       ...       ...  \n",
       "473680  0.000048  0.999720  0.000231  \n",
       "473681  0.000118  0.019885  0.980000  \n",
       "473682  0.000078  0.000622  0.999300  \n",
       "473683  0.000042  0.999730  0.000232  \n",
       "473684  0.000048  0.999860  0.000092  \n",
       "\n",
       "[473685 rows x 9 columns]"
      ]
     },
     "execution_count": 225,
     "metadata": {},
     "output_type": "execute_result"
    }
   ],
   "source": [
    "match_data_pred2"
   ]
  },
  {
   "cell_type": "code",
   "execution_count": 226,
   "metadata": {},
   "outputs": [
    {
     "name": "stderr",
     "output_type": "stream",
     "text": [
      "C:\\Users\\cindy\\AppData\\Local\\Temp\\ipykernel_26216\\1082252806.py:11: FutureWarning: \n",
      "\n",
      "Passing `palette` without assigning `hue` is deprecated and will be removed in v0.14.0. Assign the `x` variable to `hue` and set `legend=False` for the same effect.\n",
      "\n",
      "  sns.barplot(x=sentiment_counts2.index, y=sentiment_counts.values, palette=\"viridis\")\n"
     ]
    },
    {
     "data": {
      "image/png": "[encoded data removed]",
      "text/plain": [
       "<Figure size 800x600 with 1 Axes>"
      ]
     },
     "metadata": {},
     "output_type": "display_data"
    }
   ],
   "source": [
    "match_data_pred2['label'] = np.argmax(match_data_pred2[['negative', 'neutral', 'positive']].values, axis=1)\n",
    "#match_data_pred.to_csv('others/checkpoints/match_merged_class.csv', index=False)\n",
    "\n",
    "import matplotlib.pyplot as plt\n",
    "import seaborn as sns\n",
    "# Count the occurrences of each sentiment class\n",
    "sentiment_counts2 = match_data_pred2['label'].value_counts()\n",
    "\n",
    "# Plot a bar chart\n",
    "plt.figure(figsize=(8, 6))\n",
    "sns.barplot(x=sentiment_counts2.index, y=sentiment_counts.values, palette=\"viridis\")\n",
    "plt.title('Distribution of Sentiment')\n",
    "plt.xlabel('Sentiment')\n",
    "plt.ylabel('Count')\n",
    "plt.show()\n"
   ]
  },
  {
   "cell_type": "code",
   "execution_count": 227,
   "metadata": {},
   "outputs": [
    {
     "data": {
      "text/html": [
       "<div>\n",
       "<style scoped>\n",
       "    .dataframe tbody tr th:only-of-type {\n",
       "        vertical-align: middle;\n",
       "    }\n",
       "\n",
       "    .dataframe tbody tr th {\n",
       "        vertical-align: top;\n",
       "    }\n",
       "\n",
       "    .dataframe thead th {\n",
       "        text-align: right;\n",
       "    }\n",
       "</style>\n",
       "<table border=\"1\" class=\"dataframe\">\n",
       "  <thead>\n",
       "    <tr style=\"text-align: right;\">\n",
       "      <th></th>\n",
       "      <th>NewsID</th>\n",
       "      <th>NewsContent</th>\n",
       "      <th>Explicit_Company</th>\n",
       "      <th>label</th>\n",
       "    </tr>\n",
       "  </thead>\n",
       "  <tbody>\n",
       "    <tr>\n",
       "      <th>0</th>\n",
       "      <td>1</td>\n",
       "      <td>本报记者 田雨 李京华    　　中国建设银行股份有限公司原董事长张恩照受贿案３日一审宣...</td>\n",
       "      <td>建设银行</td>\n",
       "      <td>0</td>\n",
       "    </tr>\n",
       "    <tr>\n",
       "      <th>1</th>\n",
       "      <td>2</td>\n",
       "      <td>中国农业银行信用卡中心由北京搬到上海了！  　　农行行长杨明生日前在信用卡中心揭牌仪式上...</td>\n",
       "      <td>农业银行</td>\n",
       "      <td>1</td>\n",
       "    </tr>\n",
       "    <tr>\n",
       "      <th>2</th>\n",
       "      <td>3</td>\n",
       "      <td>在新基金快速发行以及申购资金回流的情况下，市场总体上呈现资金流动性过剩格局，考虑到现阶段...</td>\n",
       "      <td>外运发展,中国国航</td>\n",
       "      <td>1</td>\n",
       "    </tr>\n",
       "  </tbody>\n",
       "</table>\n",
       "</div>"
      ],
      "text/plain": [
       "   NewsID                                        NewsContent Explicit_Company  \\\n",
       "0       1  　　本报记者 田雨 李京华    　　中国建设银行股份有限公司原董事长张恩照受贿案３日一审宣...             建设银行   \n",
       "1       2  　　中国农业银行信用卡中心由北京搬到上海了！  　　农行行长杨明生日前在信用卡中心揭牌仪式上...             农业银行   \n",
       "2       3  　　在新基金快速发行以及申购资金回流的情况下，市场总体上呈现资金流动性过剩格局，考虑到现阶段...        外运发展,中国国航   \n",
       "\n",
       "   label  \n",
       "0      0  \n",
       "1      1  \n",
       "2      1  "
      ]
     },
     "execution_count": 227,
     "metadata": {},
     "output_type": "execute_result"
    }
   ],
   "source": [
    "# Check if 'label' value is 1 and update accordingly\n",
    "mask2 = (match_data_pred2['label'] == 1)\n",
    "match_data_pred2.loc[mask2, 'label'] = np.where(\n",
    "    match_data_pred2.loc[mask2, 'negative'] > match_data_pred2.loc[mask2, 'positive'], 0, 2\n",
    ")\n",
    "\n",
    "\n",
    "match_data_pred2['label'] = match_data_pred2['label'].replace(2, 1)\n",
    "match_data_pred2 = match_data_pred2.drop(\n",
    "    ['Title', 'Matched_Sentence','negative', 'neutral', 'positive', 'pred_class'], axis=1)\n",
    "\n",
    "match_data_pred2.head(3)\n"
   ]
  },
  {
   "cell_type": "code",
   "execution_count": 294,
   "metadata": {},
   "outputs": [],
   "source": [
    "match_data_pred2.to_excel('Task1.xlsx', index=False)"
   ]
  },
  {
   "cell_type": "markdown",
   "metadata": {},
   "source": [
    "### 2.5 discussion of processing whole text vs relevant sentence "
   ]
  },
  {
   "cell_type": "code",
   "execution_count": 249,
   "metadata": {},
   "outputs": [
    {
     "name": "stdout",
     "output_type": "stream",
     "text": [
      "no. of Mismatched Rows:\n",
      "81175\n"
     ]
    }
   ],
   "source": [
    "import pandas as pd\n",
    "\n",
    "# Assuming df1 and df2 are your two DataFrames\n",
    "# Merge the DataFrames on 'NewsID'\n",
    "merged_df = pd.merge(match_data_pred, match_data_pred2, on='NewsID', suffixes=('_df1', '_df2'))\n",
    "merged_df = merged_df.drop(['Explicit_Company_df2', 'NewsContent_df2'], axis=1)\n",
    "\n",
    "# Filter rows where labels do not match\n",
    "mismatched_rows = merged_df[merged_df['label_df1'] != merged_df['label_df2']]\n",
    "\n",
    "# Display the mismatched rows\n",
    "print(\"no. of Mismatched Rows:\")\n",
    "print(len(mismatched_rows))\n"
   ]
  },
  {
   "cell_type": "code",
   "execution_count": 293,
   "metadata": {},
   "outputs": [
    {
     "name": "stdout",
     "output_type": "stream",
     "text": [
      "本报讯 航天机电(600151)今日公告，公司与四川新光硅业高科技有限责任公司(下称：新光硅业)主要股东就新光硅业增资扩股事项因谈判无进展，公司决定放弃入驻新光硅业。另，经股东大会批准，公司已通过全资子公司上海神舟新能源发展有限公司与上海航天工业总公司合资成立了内蒙古神舟硅业有限责任公司。\n",
      "corresponding company: 航天机电\n",
      "with paragraph input for BERT: 1\n",
      "with sentence input for BERT: 0\n"
     ]
    }
   ],
   "source": [
    "index = 987\n",
    "print(mismatched_rows.iloc[index, 1])\n",
    "print('corresponding company:', mismatched_rows.iloc[index,2])\n",
    "print('with paragraph input for BERT:',mismatched_rows.iloc[index,4])\n",
    "print('with sentence input for BERT:',mismatched_rows.iloc[index,5])\n"
   ]
  },
  {
   "cell_type": "code",
   "execution_count": 272,
   "metadata": {},
   "outputs": [
    {
     "data": {
      "text/html": [
       "<div>\n",
       "<style scoped>\n",
       "    .dataframe tbody tr th:only-of-type {\n",
       "        vertical-align: middle;\n",
       "    }\n",
       "\n",
       "    .dataframe tbody tr th {\n",
       "        vertical-align: top;\n",
       "    }\n",
       "\n",
       "    .dataframe thead th {\n",
       "        text-align: right;\n",
       "    }\n",
       "</style>\n",
       "<table border=\"1\" class=\"dataframe\">\n",
       "  <thead>\n",
       "    <tr style=\"text-align: right;\">\n",
       "      <th></th>\n",
       "      <th>NewsID</th>\n",
       "      <th>NewsContent_df1</th>\n",
       "      <th>Explicit_Company_df1</th>\n",
       "      <th>pred_class</th>\n",
       "      <th>label_df1</th>\n",
       "      <th>label_df2</th>\n",
       "    </tr>\n",
       "  </thead>\n",
       "  <tbody>\n",
       "    <tr>\n",
       "      <th>7</th>\n",
       "      <td>12</td>\n",
       "      <td>大盘运行  　　深沪两市成交金额相加达到713亿元，成为8月份以来的最大成交量，也是5月...</td>\n",
       "      <td>大秦铁路,武钢股份,特力A,中信证券,航天机电,鞍钢股份,祁连山,天山股份,柳工,保利地产,...</td>\n",
       "      <td>1</td>\n",
       "      <td>1</td>\n",
       "      <td>0</td>\n",
       "    </tr>\n",
       "    <tr>\n",
       "      <th>18</th>\n",
       "      <td>45</td>\n",
       "      <td>周玉成曾告诉本报记者：“华源集团的徽标中融合了产业资本、金融资本和外贸资本的内涵。”    ...</td>\n",
       "      <td>交通银行</td>\n",
       "      <td>0</td>\n",
       "      <td>0</td>\n",
       "      <td>1</td>\n",
       "    </tr>\n",
       "    <tr>\n",
       "      <th>19</th>\n",
       "      <td>46</td>\n",
       "      <td>明年中国经济的宏观调控是否应该放松？专家学者们出现了分歧。昨日，国家发改委宏观经济研究院的经...</td>\n",
       "      <td>光大证券</td>\n",
       "      <td>0</td>\n",
       "      <td>0</td>\n",
       "      <td>1</td>\n",
       "    </tr>\n",
       "    <tr>\n",
       "      <th>21</th>\n",
       "      <td>50</td>\n",
       "      <td>本报记者 徐国杰 上海报道  　　    　　统计数据显示，1400余家披露2006年第三季...</td>\n",
       "      <td>晋西车轴</td>\n",
       "      <td>1</td>\n",
       "      <td>0</td>\n",
       "      <td>1</td>\n",
       "    </tr>\n",
       "    <tr>\n",
       "      <th>40</th>\n",
       "      <td>99</td>\n",
       "      <td>本报记者 王磊  　　    　　经过昨日的单边上扬后，沪综指直接来到了2100点，盘中摸...</td>\n",
       "      <td>万科A,柳工,浦发银行,太钢不锈,北辰实业</td>\n",
       "      <td>1</td>\n",
       "      <td>0</td>\n",
       "      <td>1</td>\n",
       "    </tr>\n",
       "    <tr>\n",
       "      <th>...</th>\n",
       "      <td>...</td>\n",
       "      <td>...</td>\n",
       "      <td>...</td>\n",
       "      <td>...</td>\n",
       "      <td>...</td>\n",
       "      <td>...</td>\n",
       "    </tr>\n",
       "    <tr>\n",
       "      <th>473655</th>\n",
       "      <td>1037000</td>\n",
       "      <td>上证报中国证券网讯（记者黄坤）10月12日至13日，2023上海全球资产管理论坛在上海举行。...</td>\n",
       "      <td>交通银行</td>\n",
       "      <td>1</td>\n",
       "      <td>1</td>\n",
       "      <td>0</td>\n",
       "    </tr>\n",
       "    <tr>\n",
       "      <th>473656</th>\n",
       "      <td>1037004</td>\n",
       "      <td>10月13日，两市股指盘中弱势震荡下探，沪指再次失守3100点，创业板指跌逾1%跌破2000...</td>\n",
       "      <td>中国银行</td>\n",
       "      <td>0</td>\n",
       "      <td>0</td>\n",
       "      <td>1</td>\n",
       "    </tr>\n",
       "    <tr>\n",
       "      <th>473657</th>\n",
       "      <td>1037005</td>\n",
       "      <td>10月13日，沪深两市全天成交额8084亿元，较上一交易日缩窄229亿元。个股方面，赛力斯成...</td>\n",
       "      <td>欧菲光,润和软件,张江高科</td>\n",
       "      <td>0</td>\n",
       "      <td>0</td>\n",
       "      <td>1</td>\n",
       "    </tr>\n",
       "    <tr>\n",
       "      <th>473658</th>\n",
       "      <td>1037006</td>\n",
       "      <td>上证报中国证券网讯（记者费天元）10月13日，A股市场全天弱势盘整。上证指数收盘报3088....</td>\n",
       "      <td>众生药业</td>\n",
       "      <td>0</td>\n",
       "      <td>0</td>\n",
       "      <td>1</td>\n",
       "    </tr>\n",
       "    <tr>\n",
       "      <th>473659</th>\n",
       "      <td>1037007</td>\n",
       "      <td>10月13日，今日共有43只涨停股，5只跌停股。其中，涨停股主要集中在华为概念股、减肥药概念...</td>\n",
       "      <td>龙版传媒,模塑科技,通化金马,通宇通讯,光洋股份,圣龙股份,欧菲光,莎普爱思</td>\n",
       "      <td>0</td>\n",
       "      <td>0</td>\n",
       "      <td>1</td>\n",
       "    </tr>\n",
       "  </tbody>\n",
       "</table>\n",
       "<p>81175 rows × 6 columns</p>\n",
       "</div>"
      ],
      "text/plain": [
       "         NewsID                                    NewsContent_df1  \\\n",
       "7            12  　　大盘运行  　　深沪两市成交金额相加达到713亿元，成为8月份以来的最大成交量，也是5月...   \n",
       "18           45  周玉成曾告诉本报记者：“华源集团的徽标中融合了产业资本、金融资本和外贸资本的内涵。”    ...   \n",
       "19           46  明年中国经济的宏观调控是否应该放松？专家学者们出现了分歧。昨日，国家发改委宏观经济研究院的经...   \n",
       "21           50  本报记者 徐国杰 上海报道  　　    　　统计数据显示，1400余家披露2006年第三季...   \n",
       "40           99  　本报记者 王磊  　　    　　经过昨日的单边上扬后，沪综指直接来到了2100点，盘中摸...   \n",
       "...         ...                                                ...   \n",
       "473655  1037000  上证报中国证券网讯（记者黄坤）10月12日至13日，2023上海全球资产管理论坛在上海举行。...   \n",
       "473656  1037004  10月13日，两市股指盘中弱势震荡下探，沪指再次失守3100点，创业板指跌逾1%跌破2000...   \n",
       "473657  1037005  10月13日，沪深两市全天成交额8084亿元，较上一交易日缩窄229亿元。个股方面，赛力斯成...   \n",
       "473658  1037006  上证报中国证券网讯（记者费天元）10月13日，A股市场全天弱势盘整。上证指数收盘报3088....   \n",
       "473659  1037007  10月13日，今日共有43只涨停股，5只跌停股。其中，涨停股主要集中在华为概念股、减肥药概念...   \n",
       "\n",
       "                                     Explicit_Company_df1  pred_class  \\\n",
       "7       大秦铁路,武钢股份,特力A,中信证券,航天机电,鞍钢股份,祁连山,天山股份,柳工,保利地产,...           1   \n",
       "18                                                   交通银行           0   \n",
       "19                                                   光大证券           0   \n",
       "21                                                   晋西车轴           1   \n",
       "40                                  万科A,柳工,浦发银行,太钢不锈,北辰实业           1   \n",
       "...                                                   ...         ...   \n",
       "473655                                               交通银行           1   \n",
       "473656                                               中国银行           0   \n",
       "473657                                      欧菲光,润和软件,张江高科           0   \n",
       "473658                                               众生药业           0   \n",
       "473659             龙版传媒,模塑科技,通化金马,通宇通讯,光洋股份,圣龙股份,欧菲光,莎普爱思           0   \n",
       "\n",
       "        label_df1  label_df2  \n",
       "7               1          0  \n",
       "18              0          1  \n",
       "19              0          1  \n",
       "21              0          1  \n",
       "40              0          1  \n",
       "...           ...        ...  \n",
       "473655          1          0  \n",
       "473656          0          1  \n",
       "473657          0          1  \n",
       "473658          0          1  \n",
       "473659          0          1  \n",
       "\n",
       "[81175 rows x 6 columns]"
      ]
     },
     "execution_count": 272,
     "metadata": {},
     "output_type": "execute_result"
    }
   ],
   "source": [
    "mismatched_rows"
   ]
  },
  {
   "cell_type": "code",
   "execution_count": null,
   "metadata": {},
   "outputs": [],
   "source": []
  }
 ],
 "metadata": {
  "kernelspec": {
   "display_name": "Python 3",
   "language": "python",
   "name": "python3"
  },
  "language_info": {
   "codemirror_mode": {
    "name": "ipython",
    "version": 3
   },
   "file_extension": ".py",
   "mimetype": "text/x-python",
   "name": "python",
   "nbconvert_exporter": "python",
   "pygments_lexer": "ipython3",
   "version": "3.10.0"
  }
 },
 "nbformat": 4,
 "nbformat_minor": 2
}
