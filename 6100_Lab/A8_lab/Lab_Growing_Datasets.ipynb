{
  "cells": [
    {
      "cell_type": "markdown",
      "metadata": {
        "id": "a6f14f0e"
      },
      "source": [
        "# Lab -- Growing Dataset with Active (Machine) Learning\n",
        "\n",
        "Intended to accompany the lecture on Growing or Compressing Datasets, this notebook contains exercises to build labeled training datasets for binary classification through active learning.\n",
        "\n",
        "You may find it helpful to first install the following dependencies:"
      ],
      "id": "a6f14f0e"
    },
    {
      "cell_type": "code",
      "execution_count": 1,
      "metadata": {
        "colab": {
          "base_uri": "https://localhost:8080/"
        },
        "id": "b8e1a8c4",
        "outputId": "45883d71-cdb6-48cd-9b78-bde1bd24edd5"
      },
      "outputs": [
        {
          "output_type": "stream",
          "name": "stdout",
          "text": [
            "Collecting faiss-cpu\n",
            "  Downloading faiss_cpu-1.7.4-cp310-cp310-manylinux_2_17_x86_64.manylinux2014_x86_64.whl (17.6 MB)\n",
            "\u001b[2K     \u001b[90m━━━━━━━━━━━━━━━━━━━━━━━━━━━━━━━━━━━━━━━━\u001b[0m \u001b[32m17.6/17.6 MB\u001b[0m \u001b[31m62.9 MB/s\u001b[0m eta \u001b[36m0:00:00\u001b[0m\n",
            "\u001b[?25hRequirement already satisfied: pyarrow in /usr/local/lib/python3.10/dist-packages (9.0.0)\n",
            "Requirement already satisfied: pandas in /usr/local/lib/python3.10/dist-packages (1.5.3)\n",
            "Requirement already satisfied: matplotlib in /usr/local/lib/python3.10/dist-packages (3.7.1)\n",
            "Requirement already satisfied: scikit-learn in /usr/local/lib/python3.10/dist-packages (1.2.2)\n",
            "Requirement already satisfied: torch in /usr/local/lib/python3.10/dist-packages (2.1.0+cu118)\n",
            "Requirement already satisfied: tqdm in /usr/local/lib/python3.10/dist-packages (4.66.1)\n",
            "Requirement already satisfied: numpy>=1.16.6 in /usr/local/lib/python3.10/dist-packages (from pyarrow) (1.23.5)\n",
            "Requirement already satisfied: python-dateutil>=2.8.1 in /usr/local/lib/python3.10/dist-packages (from pandas) (2.8.2)\n",
            "Requirement already satisfied: pytz>=2020.1 in /usr/local/lib/python3.10/dist-packages (from pandas) (2023.3.post1)\n",
            "Requirement already satisfied: contourpy>=1.0.1 in /usr/local/lib/python3.10/dist-packages (from matplotlib) (1.2.0)\n",
            "Requirement already satisfied: cycler>=0.10 in /usr/local/lib/python3.10/dist-packages (from matplotlib) (0.12.1)\n",
            "Requirement already satisfied: fonttools>=4.22.0 in /usr/local/lib/python3.10/dist-packages (from matplotlib) (4.44.3)\n",
            "Requirement already satisfied: kiwisolver>=1.0.1 in /usr/local/lib/python3.10/dist-packages (from matplotlib) (1.4.5)\n",
            "Requirement already satisfied: packaging>=20.0 in /usr/local/lib/python3.10/dist-packages (from matplotlib) (23.2)\n",
            "Requirement already satisfied: pillow>=6.2.0 in /usr/local/lib/python3.10/dist-packages (from matplotlib) (9.4.0)\n",
            "Requirement already satisfied: pyparsing>=2.3.1 in /usr/local/lib/python3.10/dist-packages (from matplotlib) (3.1.1)\n",
            "Requirement already satisfied: scipy>=1.3.2 in /usr/local/lib/python3.10/dist-packages (from scikit-learn) (1.11.3)\n",
            "Requirement already satisfied: joblib>=1.1.1 in /usr/local/lib/python3.10/dist-packages (from scikit-learn) (1.3.2)\n",
            "Requirement already satisfied: threadpoolctl>=2.0.0 in /usr/local/lib/python3.10/dist-packages (from scikit-learn) (3.2.0)\n",
            "Requirement already satisfied: filelock in /usr/local/lib/python3.10/dist-packages (from torch) (3.13.1)\n",
            "Requirement already satisfied: typing-extensions in /usr/local/lib/python3.10/dist-packages (from torch) (4.5.0)\n",
            "Requirement already satisfied: sympy in /usr/local/lib/python3.10/dist-packages (from torch) (1.12)\n",
            "Requirement already satisfied: networkx in /usr/local/lib/python3.10/dist-packages (from torch) (3.2.1)\n",
            "Requirement already satisfied: jinja2 in /usr/local/lib/python3.10/dist-packages (from torch) (3.1.2)\n",
            "Requirement already satisfied: fsspec in /usr/local/lib/python3.10/dist-packages (from torch) (2023.6.0)\n",
            "Requirement already satisfied: triton==2.1.0 in /usr/local/lib/python3.10/dist-packages (from torch) (2.1.0)\n",
            "Requirement already satisfied: six>=1.5 in /usr/local/lib/python3.10/dist-packages (from python-dateutil>=2.8.1->pandas) (1.16.0)\n",
            "Requirement already satisfied: MarkupSafe>=2.0 in /usr/local/lib/python3.10/dist-packages (from jinja2->torch) (2.1.3)\n",
            "Requirement already satisfied: mpmath>=0.19 in /usr/local/lib/python3.10/dist-packages (from sympy->torch) (1.3.0)\n",
            "Installing collected packages: faiss-cpu\n",
            "Successfully installed faiss-cpu-1.7.4\n"
          ]
        }
      ],
      "source": [
        "!pip install faiss-cpu pyarrow pandas matplotlib scikit-learn torch tqdm"
      ],
      "id": "b8e1a8c4"
    },
    {
      "cell_type": "code",
      "execution_count": 3,
      "metadata": {
        "id": "6096ec1a"
      },
      "outputs": [],
      "source": [
        "import os\n",
        "import time\n",
        "import random\n",
        "from glob import glob\n",
        "from datetime import datetime\n",
        "from typing import List, Tuple, Optional, Callable\n",
        "\n",
        "import faiss  # Must import faiss before everything else\n",
        "import numpy as np\n",
        "import pandas as pd\n",
        "from torch.utils.data import Dataset\n",
        "from tqdm.notebook import tqdm\n",
        "from sklearn import linear_model\n",
        "import matplotlib.pyplot as plt\n",
        "from sklearn.metrics import average_precision_score\n",
        "from sklearn.linear_model import LogisticRegression\n",
        "from IPython.core.display import Image, display, clear_output"
      ],
      "id": "6096ec1a"
    },
    {
      "cell_type": "markdown",
      "metadata": {
        "id": "9e6fb5ff"
      },
      "source": [
        "# Section 1: 1D Classifier\n",
        "\n",
        "First, let's go through the toy 1D example from lecture."
      ],
      "id": "9e6fb5ff"
    },
    {
      "cell_type": "code",
      "execution_count": 4,
      "metadata": {
        "id": "e9c0ea0d"
      },
      "outputs": [],
      "source": [
        "# Generate random data for two classes\n",
        "np.random.seed(2)\n",
        "x1 = np.random.normal(-2, 1, 100)\n",
        "x2 = np.random.normal(2, 1, 100)\n",
        "boundary = 0\n",
        "seed = np.array([(boundary + 2 + (random.random() * 2)),\n",
        "                 (boundary - 2 - (random.random() * 2))])\n",
        "x = np.concatenate([seed, x1, x2])\n",
        "labeled_0 = np.arange(len(seed))\n",
        "\n",
        "\n",
        "# This is a simple case, so labeling is easy and cheap.\n",
        "# But this isn't the case in practice. A real 'label' function would\n",
        "# request information from humans or an expensive process.\n",
        "def label(example):\n",
        "    return int(example > boundary)\n",
        "\n",
        "\n",
        "# Helper functions for plotting\n",
        "def color(label):\n",
        "    return 'r' if label else 'b'\n",
        "\n",
        "\n",
        "def plot_boundary(ax):\n",
        "    ax.axvline(x=boundary, color='gray', linestyle='--')\n",
        "\n",
        "\n",
        "def plot_labeled(ax, x, labeled, labels):\n",
        "    ax.scatter(x, np.zeros(len(x)), c='gray', alpha=0.2)\n",
        "    ax.scatter(x[labeled], np.zeros(len(labeled)), c=[color(l) for l in labels], s=200, alpha=0.5)\n",
        "    ax.axvline(x=boundary, color='gray', linestyle='--')\n",
        "    ax.set_axis_off()"
      ],
      "id": "e9c0ea0d"
    },
    {
      "cell_type": "markdown",
      "metadata": {
        "id": "9baa7aec"
      },
      "source": [
        "## Passive Learning (Random Sampling)\n",
        "Passive learning simply samples unlabeled examples at random. It doesn't adapt to the model or the data, so we have to hope that we get examples that help us close in on the decision boundary.\n",
        "\n",
        "In the figures below, gray dots represent unlabeled examples, red & blue dots represent the labeled examples for the two classes, and the dashed gray line is the actual decision boundary."
      ],
      "id": "9baa7aec"
    },
    {
      "cell_type": "code",
      "execution_count": 5,
      "metadata": {
        "id": "59f6eef3"
      },
      "outputs": [],
      "source": [
        "def passive_selection(x, labeled, label_func, n):\n",
        "    candidates = set(range(0, len(x))) - set(labeled)\n",
        "    labeled = np.concatenate([labeled, random.sample(list(candidates), n)])\n",
        "    labels = [label_func(example) for example in x[labeled]]\n",
        "    return labeled, labels"
      ],
      "id": "59f6eef3"
    },
    {
      "cell_type": "code",
      "execution_count": 6,
      "metadata": {
        "colab": {
          "base_uri": "https://localhost:8080/",
          "height": 932
        },
        "id": "6fb3d635",
        "outputId": "f618ccdc-ad81-4557-d5f7-f4b3a72f750a"
      },
      "outputs": [
        {
          "output_type": "stream",
          "name": "stdout",
          "text": [
            "Round 0: 2 labeled examples\n"
          ]
        },
        {
          "output_type": "display_data",
          "data": {
            "text/plain": [
              "<Figure size 600x100 with 1 Axes>"
            ],
            "image/png": "[encoded data removed]"
          },
          "metadata": {}
        },
        {
          "output_type": "stream",
          "name": "stdout",
          "text": [
            "Round 1: 3 labeled examples\n"
          ]
        },
        {
          "output_type": "display_data",
          "data": {
            "text/plain": [
              "<Figure size 600x100 with 1 Axes>"
            ],
            "image/png": "[encoded data removed]"
          },
          "metadata": {}
        },
        {
          "output_type": "stream",
          "name": "stdout",
          "text": [
            "Round 2: 4 labeled examples\n"
          ]
        },
        {
          "output_type": "display_data",
          "data": {
            "text/plain": [
              "<Figure size 600x100 with 1 Axes>"
            ],
            "image/png": "[encoded data removed]"
          },
          "metadata": {}
        },
        {
          "output_type": "stream",
          "name": "stdout",
          "text": [
            "Round 3: 5 labeled examples\n"
          ]
        },
        {
          "output_type": "display_data",
          "data": {
            "text/plain": [
              "<Figure size 600x100 with 1 Axes>"
            ],
            "image/png": "[encoded data removed]"
          },
          "metadata": {}
        },
        {
          "output_type": "stream",
          "name": "stdout",
          "text": [
            "Round 4: 6 labeled examples\n"
          ]
        },
        {
          "output_type": "display_data",
          "data": {
            "text/plain": [
              "<Figure size 600x100 with 1 Axes>"
            ],
            "image/png": "[encoded data removed]"
          },
          "metadata": {}
        },
        {
          "output_type": "stream",
          "name": "stdout",
          "text": [
            "Round 5: 7 labeled examples\n"
          ]
        },
        {
          "output_type": "display_data",
          "data": {
            "text/plain": [
              "<Figure size 600x100 with 1 Axes>"
            ],
            "image/png": "[encoded data removed]"
          },
          "metadata": {}
        },
        {
          "output_type": "stream",
          "name": "stdout",
          "text": [
            "Round 6: 8 labeled examples\n"
          ]
        },
        {
          "output_type": "display_data",
          "data": {
            "text/plain": [
              "<Figure size 600x100 with 1 Axes>"
            ],
            "image/png": "[encoded data removed]"
          },
          "metadata": {}
        },
        {
          "output_type": "stream",
          "name": "stdout",
          "text": [
            "Round 7: 9 labeled examples\n"
          ]
        },
        {
          "output_type": "display_data",
          "data": {
            "text/plain": [
              "<Figure size 600x100 with 1 Axes>"
            ],
            "image/png": "[encoded data removed]"
          },
          "metadata": {}
        }
      ],
      "source": [
        "n = 8\n",
        "labeled, labels = passive_selection(x, labeled_0, label, n)\n",
        "for i in range(n):\n",
        "    print(f\"Round {i}: {2+i} labeled examples\")\n",
        "    fig, ax = plt.subplots(1, 1, figsize=(6, 1))\n",
        "    plot_labeled(ax, x, labeled[:2+i], labels[:2+i])\n",
        "    plot_boundary(ax)\n",
        "    plt.show()"
      ],
      "id": "6fb3d635"
    },
    {
      "cell_type": "markdown",
      "metadata": {
        "id": "685512fc"
      },
      "source": [
        "## Exercise 1: Active Learning (Max Entropy)\n",
        "Active learning trains a model $A_r$ after every example $\\mathbf{x}$ (or batch of examples) is labeled and leverages that model to select the following example. For instance, we can quantify the model's uncertainty by calculating the entropy for each of the pool of unlabeled examples $\\mathcal{P}_r$ based on the model's predicted probabilities:\n",
        "\n",
        "$$\\phi_{\\text{Ent}}(\\mathbf{x}, A_r) = - \\sum_{\\hat{y}} P(\\hat{y}|\\mathbf{x}; A_r) \\log P(\\hat{y}|\\mathbf{x}; A_r)$$\n",
        "\n",
        "and select the examples with the highest entropy:\n",
        "\n",
        "$$argmax_{\\mathbf{x} \\in \\mathcal{P}_r} \\phi_{\\text{Ent}}(\\mathbf{x}, A_r, \\mathcal{P}_r)$$"
      ],
      "id": "685512fc"
    },
    {
      "cell_type": "code",
      "execution_count": 8,
      "metadata": {
        "id": "bbef1f1d"
      },
      "outputs": [],
      "source": [
        "def select_max_entropy(x, model, indices: List[int], budget: int):\n",
        "    # Get prediction probability for elegible indices\n",
        "    proba = model.predict_proba(x[indices].reshape(-1, 1))\n",
        "\n",
        "    # Calculate information entropy from probabilities\n",
        "    entropy = -1.0 * (np.log(proba) * proba).sum(axis=1)\n",
        "\n",
        "    # Select indices with highest entropy (i.e. MaxEnt)\n",
        "    selected = entropy.argsort(axis=0)[::-1][:budget]\n",
        "\n",
        "    # Convert to original index\n",
        "    selected = np.array(indices)[selected]\n",
        "\n",
        "    return selected"
      ],
      "id": "bbef1f1d"
    },
    {
      "cell_type": "markdown",
      "metadata": {
        "id": "7a294044"
      },
      "source": [
        "In this exercise, you'll leverage this max entropy heuristic to actively select examples to label! You should implement the active learning loop from lecture with a `linear_model.LogisticRegression()` as the classifier. This should effectively perform binary search to find the decision boundary. You just need to fill in the section below marked `YOUR CODE HERE`."
      ],
      "id": "7a294044"
    },
    {
      "cell_type": "code",
      "execution_count": 9,
      "metadata": {
        "id": "a022fe72"
      },
      "outputs": [],
      "source": [
        "def active_selection(x, labelled, label_func, n):\n",
        "    labels = [label_func(example) for example in x[labelled]]\n",
        "    candidates = set(np.arange(len(x))) - set(labelled)\n",
        "    # YOUR CODE HERE\n",
        "\n",
        "    # initialise budgetes\n",
        "    budgets = np.ones(n, dtype=np.int32)\n",
        "\n",
        "    for budget in budgets:\n",
        "        # build linear reg model\n",
        "        model = linear_model.LogisticRegression()\n",
        "        model.fit(x[labelled].reshape(-1, 1), labels)\n",
        "        #select max entropy\n",
        "        new_label = select_max_entropy(x, model, list(candidates), budget)\n",
        "\n",
        "        # find unlabelled examples with max entropy\n",
        "        new_labels = []\n",
        "        for example in x[new_label]:\n",
        "            new_labels.append(label_func(example))\n",
        "\n",
        "        # Update arrays\n",
        "        labelled = np.concatenate([labelled, new_label])\n",
        "        labels = np.concatenate([labels, new_labels])\n",
        "        candidates -= set(new_label)\n",
        "\n",
        "    return labelled, labels"
      ],
      "id": "a022fe72"
    },
    {
      "cell_type": "markdown",
      "metadata": {
        "id": "bad1afa0"
      },
      "source": [
        "Let's put your active selection process into action! In the figures below, gray dots represent unlabeled examples, red & blue dots represent the labeled examples for the two classes, and the dashed gray line is the actual decision boundary. Rounds 1+ will show the results of your active learning implementation. How does it compare to the passive approach?"
      ],
      "id": "bad1afa0"
    },
    {
      "cell_type": "code",
      "execution_count": 10,
      "metadata": {
        "colab": {
          "base_uri": "https://localhost:8080/",
          "height": 932
        },
        "id": "c69e16eb",
        "outputId": "e8ce82a1-b0b3-48a1-a480-e5a8fc2ebc99"
      },
      "outputs": [
        {
          "output_type": "stream",
          "name": "stdout",
          "text": [
            "Round 0: 2 labeled examples\n"
          ]
        },
        {
          "output_type": "display_data",
          "data": {
            "text/plain": [
              "<Figure size 600x100 with 1 Axes>"
            ],
            "image/png": "[encoded data removed]"
          },
          "metadata": {}
        },
        {
          "output_type": "stream",
          "name": "stdout",
          "text": [
            "Round 1: 3 labeled examples\n"
          ]
        },
        {
          "output_type": "display_data",
          "data": {
            "text/plain": [
              "<Figure size 600x100 with 1 Axes>"
            ],
            "image/png": "[encoded data removed]"
          },
          "metadata": {}
        },
        {
          "output_type": "stream",
          "name": "stdout",
          "text": [
            "Round 2: 4 labeled examples\n"
          ]
        },
        {
          "output_type": "display_data",
          "data": {
            "text/plain": [
              "<Figure size 600x100 with 1 Axes>"
            ],
            "image/png": "[encoded data removed]"
          },
          "metadata": {}
        },
        {
          "output_type": "stream",
          "name": "stdout",
          "text": [
            "Round 3: 5 labeled examples\n"
          ]
        },
        {
          "output_type": "display_data",
          "data": {
            "text/plain": [
              "<Figure size 600x100 with 1 Axes>"
            ],
            "image/png": "[encoded data removed]"
          },
          "metadata": {}
        },
        {
          "output_type": "stream",
          "name": "stdout",
          "text": [
            "Round 4: 6 labeled examples\n"
          ]
        },
        {
          "output_type": "display_data",
          "data": {
            "text/plain": [
              "<Figure size 600x100 with 1 Axes>"
            ],
            "image/png": "[encoded data removed]"
          },
          "metadata": {}
        },
        {
          "output_type": "stream",
          "name": "stdout",
          "text": [
            "Round 5: 7 labeled examples\n"
          ]
        },
        {
          "output_type": "display_data",
          "data": {
            "text/plain": [
              "<Figure size 600x100 with 1 Axes>"
            ],
            "image/png": "[encoded data removed]"
          },
          "metadata": {}
        },
        {
          "output_type": "stream",
          "name": "stdout",
          "text": [
            "Round 6: 8 labeled examples\n"
          ]
        },
        {
          "output_type": "display_data",
          "data": {
            "text/plain": [
              "<Figure size 600x100 with 1 Axes>"
            ],
            "image/png": "[encoded data removed]"
          },
          "metadata": {}
        },
        {
          "output_type": "stream",
          "name": "stdout",
          "text": [
            "Round 7: 9 labeled examples\n"
          ]
        },
        {
          "output_type": "display_data",
          "data": {
            "text/plain": [
              "<Figure size 600x100 with 1 Axes>"
            ],
            "image/png": "[encoded data removed]"
          },
          "metadata": {}
        }
      ],
      "source": [
        "n = 8\n",
        "labeled, labels = active_selection(x, labeled_0, label, n)\n",
        "for i in range(n):\n",
        "    print(f\"Round {i}: {2+i} labeled examples\")\n",
        "    fig, ax = plt.subplots(1, 1, figsize=(6, 1))\n",
        "    plot_labeled(ax, x, labeled[:2+i], labels[:2+i])\n",
        "    plot_boundary(ax)\n",
        "    plt.show()"
      ],
      "id": "c69e16eb"
    },
    {
      "cell_type": "markdown",
      "metadata": {
        "id": "145c5e27"
      },
      "source": [
        "# Section 2: OpenImages"
      ],
      "id": "145c5e27"
    },
    {
      "cell_type": "markdown",
      "metadata": {
        "id": "a36cd68e"
      },
      "source": [
        "Let's scale up active learning to a real dataset, [OpenImages](https://storage.googleapis.com/openimages/web/index.html)! The OpenImages dataset has over 8 million images from Flickr and captures tens of thousands of classes. To make this manageable for our lab assignment, we will train a `LogisticRegression()` classifier on top of pre-computed embeddings for the available images. Please download and unpack the embeddings.\n",
        "\n",
        "1. [Download embeddings](https://drive.google.com/file/d/1HLEI7OWDGfP-__w6vlnZjgOCo5fshP-7/view?usp=sharing) (~18 GB)\n",
        "2. Unpack embeddings: `tar -xvf data.tar.gz`"
      ],
      "id": "a36cd68e"
    },
    {
      "cell_type": "code",
      "execution_count": 11,
      "metadata": {
        "id": "ce4bc30a"
      },
      "outputs": [],
      "source": [
        "# Assuming you unpacked the data in the same directory\n",
        "# as this notebook, you shouldn't need to change this.\n",
        "metadata_dir='/content/drive/MyDrive/DCAI_lab/Lab-A6/data/saved_metadata/'\n",
        "train_dir='/content/drive/MyDrive/DCAI_lab/Lab-A6/data/saved_embeddings/train/'\n",
        "test_dir='/content/drive/MyDrive/DCAI_lab/Lab-A6/data/saved_embeddings/test/'"
      ],
      "id": "ce4bc30a"
    },
    {
      "cell_type": "code",
      "execution_count": 12,
      "metadata": {
        "colab": {
          "base_uri": "https://localhost:8080/"
        },
        "id": "Y8xC6qIcyAw0",
        "outputId": "2eb793fa-6df4-432e-a551-d3ac31c4151b"
      },
      "outputs": [
        {
          "output_type": "stream",
          "name": "stdout",
          "text": [
            "Mounted at /content/drive\n"
          ]
        }
      ],
      "source": [
        "import tarfile\n",
        "import os\n",
        "\n",
        "from google.colab import drive\n",
        "drive.mount('/content/drive')\n",
        "\n",
        "# !tar -xvf /content/drive/MyDrive/DCAI_lab/Lab-A6/data.tar.gz -C /content/drive/MyDrive/DCAI_lab/Lab-A6\n"
      ],
      "id": "Y8xC6qIcyAw0"
    },
    {
      "cell_type": "markdown",
      "metadata": {
        "id": "17d5e305"
      },
      "source": [
        "## Loading Data"
      ],
      "id": "17d5e305"
    },
    {
      "cell_type": "markdown",
      "metadata": {
        "id": "80e847a2"
      },
      "source": [
        "Don't worry about understanding all of this. You'll only use a small part of this class in the exercise below."
      ],
      "id": "80e847a2"
    },
    {
      "cell_type": "code",
      "execution_count": 13,
      "metadata": {
        "id": "f8ddbcb8"
      },
      "outputs": [],
      "source": [
        "class OpenImagesDataset(Dataset):\n",
        "    def __init__(self,\n",
        "                 metadata_dir: str,\n",
        "                 embeddings_dir: str,\n",
        "                 embeddings_include: str = '*.parquet.gzip',\n",
        "                 target_class: str = None,\n",
        "                 split: str ='train'):\n",
        "\n",
        "        # Save attributes\n",
        "        self._metadata_dir = metadata_dir\n",
        "        self._embeddings_dir = embeddings_dir\n",
        "        self._embeddings_include = embeddings_include\n",
        "        self._target_class = None\n",
        "\n",
        "        # Define paths of metadata files\n",
        "        assert split in ['train', 'test'], 'Invalid value for split'\n",
        "        label_path = os.path.join(metadata_dir, 'oidv6-class-descriptions.csv')\n",
        "        data_path = None\n",
        "        url_path = None\n",
        "\n",
        "        if split == 'train':\n",
        "            data_path = os.path.join(\n",
        "                metadata_dir,\n",
        "                'oidv6-train-annotations-human-imagelabels.csv')\n",
        "            url_path = os.path.join(\n",
        "                metadata_dir,\n",
        "                'oidv6-train-images-with-labels-with-rotation.csv')\n",
        "\n",
        "        elif split == 'test':\n",
        "            data_path = os.path.join(\n",
        "                metadata_dir,\n",
        "                'test-annotations-human-imagelabels.csv')\n",
        "            url_path = os.path.join(\n",
        "                metadata_dir,\n",
        "                'test-images-with-rotation.csv')\n",
        "\n",
        "        # Load metadata\n",
        "        print('Loading metadata...', end=' ')\n",
        "        self._label_df = pd.read_csv(label_path)\n",
        "\n",
        "        self._data_df = pd.read_csv(data_path)\n",
        "        self._data_df.drop('Source', axis=1, inplace=True)\n",
        "        self._data_df.set_index('ImageID', inplace=True)\n",
        "\n",
        "        self._url_df = pd.read_csv(url_path)\n",
        "        self._url_df = self._url_df[['ImageID', 'OriginalURL']]\n",
        "        self._url_df.set_index('ImageID', inplace=True)\n",
        "        print('Done.')\n",
        "\n",
        "        # Load embeddings\n",
        "        self._embeddings_df = self._load_embeddings_df()\n",
        "\n",
        "        # (optional) Load labels\n",
        "        if target_class is not None:\n",
        "            self.target_class = target_class\n",
        "\n",
        "    def to_numpy(self):\n",
        "        \"\"\"\n",
        "        Returns embeddings and labels\n",
        "        Important: does not make a copy of the data in memory\n",
        "        \"\"\"\n",
        "        return self.embeddings, self.labels\n",
        "\n",
        "    @property\n",
        "    def target_class(self):\n",
        "        return self._target_class\n",
        "\n",
        "    @property\n",
        "    def urls(self):\n",
        "        return self._embeddings_df.index.values\n",
        "\n",
        "    @property\n",
        "    def labels(self):\n",
        "        return self._labels_df.Confidence.values\n",
        "\n",
        "    @property\n",
        "    def index(self):\n",
        "        return self._embeddings_df.index.values\n",
        "\n",
        "    @property\n",
        "    def embeddings(self):\n",
        "        return self._embeddings_df.values\n",
        "\n",
        "    @property\n",
        "    def embeddings_dimension(self):\n",
        "        return self._embeddings_df.shape[1]\n",
        "\n",
        "    @target_class.setter\n",
        "    def target_class(self, target_class):\n",
        "        self._labels_df = self._load_labels_df(target_class)\n",
        "        self._target_class = target_class\n",
        "\n",
        "    def _load_labels_df(self, label: str):\n",
        "        \"\"\"\n",
        "        Loads metadata in metadata_dir for target_class\n",
        "        \"\"\"\n",
        "        # Get label name\n",
        "        label_name = self._label_df.query(f\"DisplayName == '{label}'\")[\n",
        "            'LabelName'].to_list()[0]\n",
        "\n",
        "        # Get labeled data given label\n",
        "        df = self._data_df.query(f\"LabelName == '{label_name}'\")\n",
        "\n",
        "        # Join with URL data\n",
        "        df = df.join(self._url_df, on='ImageID', how='left')\n",
        "\n",
        "        # Rename columns and reset index\n",
        "        df.reset_index(inplace=True)\n",
        "        df.rename(columns={'OriginalURL': 'img_path'}, inplace=True)\n",
        "        df.set_index('img_path', inplace=True)\n",
        "\n",
        "        # Align label index with embeddings index\n",
        "        df = df.reindex(self._embeddings_df.index, fill_value=0)\n",
        "\n",
        "        return df\n",
        "\n",
        "    def _load_embeddings_df(self):\n",
        "        \"\"\"\n",
        "        Loads embeddings from partitions in embeddings_dir with specified\n",
        "        pattern. Each embedding value is loaded into a separate column\n",
        "        such that embeddings.values returns the array necessary for\n",
        "        inference, which avoids creating a copy in memory of the data\n",
        "        \"\"\"\n",
        "        # Get paths of dfs in embeddings_dir with pattern\n",
        "        pattern = os.path.join(self._embeddings_dir,\n",
        "                               self._embeddings_include)\n",
        "        filepaths_ls = glob(pattern, recursive=True)\n",
        "        filepaths_ls.sort()\n",
        "\n",
        "        # Store all embedding values and indices\n",
        "        index_ls = []\n",
        "        values_ls = []\n",
        "        wrapped_loader = tqdm(filepaths_ls,\n",
        "                              desc=\"Loading embeddings\",\n",
        "                              unit=\"partition\")\n",
        "        for filepath in wrapped_loader:\n",
        "\n",
        "            df = pd.read_parquet(filepath)\n",
        "            index_ls.append(df.index)\n",
        "            values_ls.append(df['embedding'].tolist())\n",
        "\n",
        "        # Join into single df and return\n",
        "        return pd.DataFrame(\n",
        "            np.concatenate(values_ls, axis=0, dtype=np.float32),\n",
        "            index=np.concatenate(index_ls, axis=0))\n",
        "\n",
        "    \"\"\"\n",
        "    Necessary for pytorch\n",
        "    \"\"\"\n",
        "    def __len__(self):\n",
        "        return len(self._embeddings_df)\n",
        "\n",
        "    def __getitem__(self, idx: int):\n",
        "        return (self._embeddings_df.iloc[idx].values,\n",
        "                self._labels_df.Confidence.iloc[idx])\n",
        "\n",
        "\n",
        "def create_dataset(metadata_dir: str, embeddings_dir: str, split: str):\n",
        "    return OpenImagesDataset(metadata_dir, embeddings_dir, split=split)"
      ],
      "id": "f8ddbcb8"
    },
    {
      "cell_type": "code",
      "execution_count": 14,
      "metadata": {
        "colab": {
          "base_uri": "https://localhost:8080/",
          "height": 84,
          "referenced_widgets": [
            "5d986a7b283441d5ae68df78d9df60bd",
            "1ed20348d6724334aea426fb22047ef9",
            "bae8c47f11554e3dba5bb9b7bb0dec92",
            "fd6494396414429094c09f19d7099cba",
            "6edc375a856e43fdafbed693a7abe38d",
            "e0cd74f9fc3144c78522b422e4dbb414",
            "7b51bd910522447dbdfa05e5883f18d5",
            "8e945660dbf14310ab7167445904b9e0",
            "74df30f62e4e41748ba7ae6fd567ccd7",
            "fdb0c4903f3542a4a5de4a4c1f33d995",
            "b15ac42412fd4ff8a872af7ef6d58147"
          ]
        },
        "id": "ea311556",
        "outputId": "b00e5184-2bb2-43e8-c6df-ff3d01219d5a"
      },
      "outputs": [
        {
          "output_type": "stream",
          "name": "stdout",
          "text": [
            "Loading metadata... Done.\n"
          ]
        },
        {
          "output_type": "display_data",
          "data": {
            "text/plain": [
              "Loading embeddings:   0%|          | 0/16 [00:00<?, ?partition/s]"
            ],
            "application/vnd.jupyter.widget-view+json": {
              "version_major": 2,
              "version_minor": 0,
              "model_id": "5d986a7b283441d5ae68df78d9df60bd"
            }
          },
          "metadata": {}
        },
        {
          "output_type": "stream",
          "name": "stdout",
          "text": [
            "Shape of embeddings for test images: (113508, 256)\n"
          ]
        }
      ],
      "source": [
        "# Create test dataset object\n",
        "if 'd_test' not in locals():\n",
        "    d_test = create_dataset(metadata_dir, test_dir, 'test')\n",
        "print(\"Shape of embeddings for test images: {}\".format(d_test.embeddings.shape))"
      ],
      "id": "ea311556"
    },
    {
      "cell_type": "code",
      "execution_count": 15,
      "metadata": {
        "colab": {
          "base_uri": "https://localhost:8080/",
          "height": 84,
          "referenced_widgets": [
            "83bddde86ad844e6830dd0f2f7714640",
            "9d68a1f4af5c4cc6874f099d2ab644d0",
            "021334bcd81d4fa88a91ebef4f6465a8",
            "0cc21d0344eb47f2a809ea424aaf8555",
            "68021058de524c5bbda4b3fbc56c737e",
            "7a26260fc8ae4347aa306ce224381171",
            "f7d683899d58418d827cdab3aa74b533",
            "cdb7594ee94e4c058aa377fa8b9b27de",
            "085f0a27a3384a52bfacc90752777a2c",
            "1a1465cdab914049b0ff80c5bc170bbe",
            "c524c717967b4bd493486cf3bda60607"
          ]
        },
        "id": "ebe209cf",
        "outputId": "6a253422-ff29-4007-d037-2f56651be00e"
      },
      "outputs": [
        {
          "output_type": "stream",
          "name": "stdout",
          "text": [
            "Loading metadata... Done.\n"
          ]
        },
        {
          "output_type": "display_data",
          "data": {
            "text/plain": [
              "Loading embeddings:   0%|          | 0/94 [00:00<?, ?partition/s]"
            ],
            "application/vnd.jupyter.widget-view+json": {
              "version_major": 2,
              "version_minor": 0,
              "model_id": "83bddde86ad844e6830dd0f2f7714640"
            }
          },
          "metadata": {}
        },
        {
          "output_type": "stream",
          "name": "stdout",
          "text": [
            "Shape of embeddings for training images: (8121242, 256)\n"
          ]
        }
      ],
      "source": [
        "# Create training dataset object\n",
        "if 'd_train' not in locals():\n",
        "    d_train = create_dataset(metadata_dir, train_dir, 'train')\n",
        "print(\"Shape of embeddings for training images: {}\".format(d_train.embeddings.shape))"
      ],
      "id": "ebe209cf"
    },
    {
      "cell_type": "markdown",
      "metadata": {
        "id": "c87dbcd7"
      },
      "source": [
        "## Helper functions for active learning\n",
        "Don't worry about understanding this to complete the exercise."
      ],
      "id": "c87dbcd7"
    },
    {
      "cell_type": "code",
      "execution_count": 16,
      "metadata": {
        "id": "a110320d"
      },
      "outputs": [],
      "source": [
        "def set_random_seed(seed: Optional[int] = None):\n",
        "    seed = np.random.randint(10000) if seed is None else seed\n",
        "    np.random.seed(seed)\n",
        "    return seed\n",
        "\n",
        "\n",
        "def create_seed(labels: np.array,\n",
        "                emb_dimension: int,\n",
        "                npositive: int = 5,\n",
        "                nnegative: int = 95,\n",
        "                random_seed: int = 400):\n",
        "    # Make sure there are enough negative examples\n",
        "    nnegative = max(nnegative, emb_dimension - npositive)\n",
        "\n",
        "    # Select indices for random samples\n",
        "    pos_samples = np.random.choice(\n",
        "        np.where(labels == 1)[0], npositive, replace=False)\n",
        "    neg_samples = np.random.choice(\n",
        "        np.where(labels == 0)[0], nnegative, replace=False)\n",
        "\n",
        "    # Combine and sort\n",
        "    seed = np.sort(np.concatenate((pos_samples, neg_samples)))\n",
        "\n",
        "    return seed\n",
        "\n",
        "\n",
        "def visualize_urls(urls: List[str], message: str = ''):\n",
        "    print(message)\n",
        "    [display(Image(url=url, width=400)) for url in urls]\n",
        "    input('Press any key to continue')\n",
        "    clear_output()\n",
        "\n",
        "\n",
        "def train_model(embeddings: np.array, labels: np.array):\n",
        "    return LogisticRegression().fit(embeddings, labels)\n",
        "\n",
        "\n",
        "def eval_model(model, dataset):\n",
        "    proba = model.predict_proba(dataset.embeddings)[:, 1]\n",
        "    return average_precision_score(dataset.labels, proba)\n",
        "\n",
        "\n",
        "def collect_labels(dataset, indices: np.array, target_class: str):\n",
        "    labels = []\n",
        "    for url in dataset.urls[indices]:\n",
        "\n",
        "        # Show link and image\n",
        "        clear_output()\n",
        "        print(f'Link: {url}')\n",
        "        display(Image(url=url, width=400))\n",
        "        time.sleep(0.25)\n",
        "\n",
        "        # Get user label\n",
        "        need_input = True\n",
        "        while need_input:\n",
        "            label = input(f'Is this an example of {target_class}? [Y/n] ')\n",
        "            label = 'Y' if label is None or label == '' else label[0].upper()\n",
        "\n",
        "            if label not in ['N', 'Y']:\n",
        "                print('Invalid input')\n",
        "                continue\n",
        "\n",
        "            labels.append(1 if label == 'Y' else 0)\n",
        "            need_input = False\n",
        "\n",
        "    clear_output()\n",
        "    print(f'Finished labeling {len(labels)} images')\n",
        "    return labels\n",
        "\n",
        "\n",
        "def visualize_scores(scores: List[float], ylabel: str = 'Average precision'):\n",
        "    plt.title('Model score for test data')\n",
        "    plt.xlabel('Active learning round (#)')\n",
        "    plt.ylabel(ylabel)\n",
        "\n",
        "    plt.plot(range(len(scores)), scores, 'o-', color='b')\n",
        "    plt.xticks(range(len(scores)))\n",
        "    plt.legend(loc=\"best\")\n",
        "    plt.show()\n",
        "\n",
        "def select_maxent(model, dataset, indices: List[int], budget: int):\n",
        "    # Get prediction probability for elegible indices\n",
        "    proba = model.predict_proba(dataset.embeddings[indices])\n",
        "\n",
        "    # Calculate information entropy from probabilities\n",
        "    entropy = -1.0 * (np.log(proba) * proba).sum(axis=1)\n",
        "\n",
        "    # Select indices with highest entropy (i.e. MaxEnt)\n",
        "    selected = entropy.argsort(axis=0)[::-1][:budget]\n",
        "\n",
        "    # Convert to original index\n",
        "    selected = np.array(indices)[selected]\n",
        "\n",
        "    return selected"
      ],
      "id": "a110320d"
    },
    {
      "cell_type": "markdown",
      "metadata": {
        "id": "17c30ba8"
      },
      "source": [
        "## Baseline approach for reference\n",
        "You might want to skip this if you're in a rush ;)"
      ],
      "id": "17c30ba8"
    },
    {
      "cell_type": "code",
      "execution_count": 17,
      "metadata": {
        "id": "0a067eb6"
      },
      "outputs": [],
      "source": [
        "def baseline_selection(\n",
        "    train, test, concept: str, rounds: Tuple[int],\n",
        "    npos: int = 5, nneg: int = 95, k: int = 100,\n",
        "    select: Callable = select_maxent):\n",
        "\n",
        "    # Set initial values\n",
        "    labeled = create_seed(train.labels, train.embeddings_dimension, npos, nneg)\n",
        "    new_labeled = labeled\n",
        "    labels = train.labels[labeled]\n",
        "    scores = []\n",
        "    model = None\n",
        "    candidates = set(np.arange(len(train))) - set(labeled)\n",
        "\n",
        "    # Visualize seed\n",
        "    visualize_urls(train.urls[labeled[np.where(labels == 1)]],\n",
        "                   message=f'Initial positive samples for {concept}')\n",
        "\n",
        "    # Main active learning loop\n",
        "    for budget in rounds:\n",
        "        # Train model using labeled samples and score\n",
        "        model = train_model(train.embeddings[labeled], labels)\n",
        "        scores.append(eval_model(model, test))\n",
        "\n",
        "        # Select points to label (MaxEnt for now)\n",
        "        new_labeled = select(model, train, list(candidates), budget)\n",
        "\n",
        "        # User labels selected points\n",
        "        new_labels = collect_labels(train, new_labeled, concept)\n",
        "\n",
        "        # Update arrays\n",
        "        labeled = np.concatenate((labeled, new_labeled))\n",
        "        labels = np.concatenate((labels, new_labels))\n",
        "        candidates -= set(new_labeled)\n",
        "\n",
        "    # Train and score final iteration of model\n",
        "    model = train_model(train.embeddings[labeled], labels)\n",
        "    scores.append(eval_model(model, test))\n",
        "    return model, scores"
      ],
      "id": "0a067eb6"
    },
    {
      "cell_type": "code",
      "execution_count": 18,
      "metadata": {
        "id": "78bde7f9"
      },
      "outputs": [],
      "source": [
        "# Set rare concept (e.g. Bowling, Sushi, Rat, Beach, Hawk, Cupcake, Crowd, etc)\n",
        "concept = 'Bowling'\n",
        "\n",
        "# Set concept\n",
        "d_train.target_class = concept\n",
        "d_test.target_class = concept"
      ],
      "id": "78bde7f9"
    },
    {
      "cell_type": "code",
      "execution_count": 25,
      "metadata": {
        "colab": {
          "base_uri": "https://localhost:8080/",
          "height": 658
        },
        "id": "676a8935",
        "scrolled": false,
        "outputId": "c17cba67-0672-4879-f172-8ee7acd563d7"
      },
      "outputs": [
        {
          "output_type": "stream",
          "name": "stdout",
          "text": [
            "Finished labeling 5 images\n",
            "Total time: 0:02:31.125161\n"
          ]
        }
      ],
      "source": [
        "np.random.seed(400)  # for reproducibility\n",
        "start = datetime.now()\n",
        "model, scores = baseline_selection(\n",
        "    train=d_train, test=d_test, concept=concept, npos=5, nneg=300,\n",
        "    rounds=[5, 5, 5], select=select_maxent)\n",
        "print(\"Total time: {}\".format(datetime.now() - start))"
      ],
      "id": "676a8935"
    },
    {
      "cell_type": "code",
      "execution_count": 26,
      "metadata": {
        "id": "b9beab7f",
        "colab": {
          "base_uri": "https://localhost:8080/",
          "height": 509
        },
        "outputId": "e35101ba-20ab-473c-cd6f-2c66945873f7"
      },
      "outputs": [
        {
          "output_type": "stream",
          "name": "stderr",
          "text": [
            "WARNING:matplotlib.legend:No artists with labels found to put in legend.  Note that artists whose label start with an underscore are ignored when legend() is called with no argument.\n"
          ]
        },
        {
          "output_type": "display_data",
          "data": {
            "text/plain": [
              "<Figure size 640x480 with 1 Axes>"
            ],
            "image/png": "[encoded data removed]"
          },
          "metadata": {}
        }
      ],
      "source": [
        "visualize_scores(scores)"
      ],
      "id": "b9beab7f"
    },
    {
      "cell_type": "markdown",
      "metadata": {
        "id": "d75a1506"
      },
      "source": [
        "## Similarity Search for Efficient Active Learning and Search (SEALS)\n",
        "That was really slow. Let's speed up the process by implementing the [SEALS](https://aaai-2022.virtualchair.net/poster_aaai12967) approach from lecture.\n",
        "\n",
        "First, we need to create a similarity search index:"
      ],
      "id": "d75a1506"
    },
    {
      "cell_type": "code",
      "execution_count": 19,
      "metadata": {
        "id": "4b7bb423"
      },
      "outputs": [],
      "source": [
        "class IndexWrapper():\n",
        "\n",
        "    def __init__(self, dataset, method='LSH'):\n",
        "        assert method in ['LSH', 'flatL2'], 'Invalid index method'\n",
        "        self._dataset = dataset\n",
        "        self._method = method\n",
        "        self._index = self._create_index()\n",
        "\n",
        "    def __len__(self):\n",
        "        return self._index.ntotal\n",
        "\n",
        "    def __getitem__(self, idx: int):\n",
        "        # Return url and corresponding embedding\n",
        "        return self._dataset.index[idx], self._dataset.embeddings[idx]\n",
        "\n",
        "    @property\n",
        "    def d(self):\n",
        "        return self._index.d\n",
        "\n",
        "    @property\n",
        "    def ntotal(self):\n",
        "        return self._index.ntotal\n",
        "\n",
        "    def _create_index(self):\n",
        "        \"\"\"\n",
        "        Returns FAISS index created from dataset.embeddings using the\n",
        "        specified index method\n",
        "        \"\"\"\n",
        "        # Initialize index\n",
        "        index = None\n",
        "        d = self._dataset.embeddings_dimension\n",
        "\n",
        "        if self._method == 'flatL2':\n",
        "            index = faiss.IndexFlatL2(d)\n",
        "\n",
        "        elif self._method == 'LSH':\n",
        "            n_bits = 2 * d\n",
        "            index = faiss.IndexLSH(d, n_bits)\n",
        "            index.train(self._dataset.embeddings)\n",
        "\n",
        "        # Add embeddings\n",
        "        index.add(self._dataset.embeddings)\n",
        "\n",
        "        return index\n",
        "\n",
        "    def search(self, q: np.array, k: int, attrs=None):\n",
        "        \"\"\"\n",
        "        Returns tuple, where each element is an attribute array specified\n",
        "        in attrs. Valid attributes include 'distances', 'urls', 'indices', and\n",
        "        'embeddings'\n",
        "        \"\"\"\n",
        "        # If no attributes selected, use default\n",
        "        default_attrs = ('indices', 'distances')\n",
        "        attrs = default_attrs if attrs is None else attrs\n",
        "\n",
        "        # Initialize results dictionary\n",
        "        results = {}\n",
        "\n",
        "        # Convert query to 2D np array for FAISS index\n",
        "        q = q if len(q.shape) == 2 else np.array([q])\n",
        "\n",
        "        # Search k-NN of q using the index\n",
        "        nn_distances, nn_indices = self._index.search(q, k)\n",
        "        results['distances'], results['indices'] = nn_distances, nn_indices\n",
        "\n",
        "        # Get other attributes\n",
        "        other_attrs = [attr for attr in attrs if attr not in default_attrs]\n",
        "        for attr in other_attrs:\n",
        "            assert hasattr(self._dataset, attr), 'Invalid attribute'\n",
        "            results[attr] = [\n",
        "                getattr(self._dataset, attr)[idx] for idx in results['indices']]\n",
        "\n",
        "        # Return results in order given by attrs\n",
        "        return tuple([results[attr] for attr in attrs])\n",
        "\n",
        "\n",
        "def create_index(dataset, method: str = 'LSH'):\n",
        "    return IndexWrapper(dataset, method=method)"
      ],
      "id": "4b7bb423"
    },
    {
      "cell_type": "code",
      "execution_count": 20,
      "metadata": {
        "id": "6534d729"
      },
      "outputs": [],
      "source": [
        "# Create IndexWrapper for training data\n",
        "if 'index_train' not in locals():\n",
        "    index_train = create_index(d_train)"
      ],
      "id": "6534d729"
    },
    {
      "cell_type": "markdown",
      "metadata": {
        "id": "d9634a77"
      },
      "source": [
        "## Exercise 2: Manage Candidate Pool\n",
        "Now that we have a similarity search index let's use it to limit the candidate pool we select unlabeled examples from. We don't need to look at all the unlabeled examples from the beginning. Instead, we could start with the nearest neighbors to our currently labeled examples and expand the pool. Using the baseline approach as a starting point, fill in the sections of the code labeled `YOUR CODE HERE`."
      ],
      "id": "d9634a77"
    },
    {
      "cell_type": "code",
      "execution_count": 21,
      "metadata": {
        "id": "0c47d19c"
      },
      "outputs": [],
      "source": [
        "def SEALS(\n",
        "    train, test, concept: str, rounds: Tuple[int],\n",
        "    npos: int = 5, nneg: int = 95, k: int = 100,\n",
        "    select: Callable = select_maxent, knn = None):\n",
        "\n",
        "    # Set initial values\n",
        "    labeled = create_seed(train.labels, train.embeddings_dimension, npos, nneg)\n",
        "    new_labeled = labeled\n",
        "    labels = train.labels[labeled]\n",
        "    scores = []\n",
        "    model = None\n",
        "    candidates = set(np.arange(len(train))) - set(labeled)\n",
        "\n",
        "    if knn is not None:\n",
        "        # YOUR CODE HERE\n",
        "        candidates = set()\n",
        "\n",
        "    # Visualize seed\n",
        "    visualize_urls(train.urls[labeled[np.where(labels == 1)]],\n",
        "                   message=f'Initial positive samples for {concept}')\n",
        "\n",
        "    # Main active learning loop\n",
        "    for budget in rounds:\n",
        "        if knn is not None:\n",
        "            # YOUR CODE HERE#\n",
        "            # perform knn search on new labelled eg.\n",
        "            result = knn.search(train.embeddings[new_labeled],\n",
        "                                k=k,\n",
        "                                attrs=['indices'])\n",
        "            # extract neighbours indices\n",
        "            neighbor = result[0][1:].flatten()\n",
        "            # update on teh indicies\n",
        "            candidates.update(neighbor)\n",
        "\n",
        "        # Train model using labeled samples and score\n",
        "        model = train_model(train.embeddings[labeled], labels)\n",
        "        scores.append(eval_model(model, test))\n",
        "\n",
        "        # Select points to label (MaxEnt for now)\n",
        "        new_labeled = select(model, train, list(candidates), budget)\n",
        "\n",
        "        # User labels selected points\n",
        "        new_labels = collect_labels(train, new_labeled, concept)\n",
        "\n",
        "        # Update arrays\n",
        "        labeled = np.concatenate((labeled, new_labeled))\n",
        "        labels = np.concatenate((labels, new_labels))\n",
        "        candidates -= set(new_labeled)\n",
        "\n",
        "    # Train and score final iteration of model\n",
        "    model = train_model(train.embeddings[labeled], labels)\n",
        "    scores.append(eval_model(model, test))\n",
        "    return model, scores"
      ],
      "id": "0c47d19c"
    },
    {
      "cell_type": "code",
      "execution_count": 22,
      "metadata": {
        "id": "b4ce9817",
        "scrolled": false,
        "colab": {
          "base_uri": "https://localhost:8080/",
          "height": 656
        },
        "outputId": "6ce61f38-b8fa-43ff-9237-1ff334e8e4c0"
      },
      "outputs": [
        {
          "output_type": "stream",
          "name": "stdout",
          "text": [
            "Finished labeling 5 images\n",
            "Total time: 0:37:46.610886\n"
          ]
        }
      ],
      "source": [
        "np.random.seed(400)  # for reproducibility\n",
        "start = datetime.now()\n",
        "model, scores = SEALS(\n",
        "    train=d_train, test=d_test, concept=concept, npos=5, nneg=300,\n",
        "    rounds=[5, 5, 5], select=select_maxent, knn=index_train)\n",
        "print(\"Total time: {}\".format(datetime.now() - start))"
      ],
      "id": "b4ce9817"
    },
    {
      "cell_type": "code",
      "execution_count": 24,
      "metadata": {
        "id": "1dcc53df",
        "colab": {
          "base_uri": "https://localhost:8080/",
          "height": 509
        },
        "outputId": "f0775d82-e21e-49ab-adc9-4ccd2c2d3041"
      },
      "outputs": [
        {
          "output_type": "stream",
          "name": "stderr",
          "text": [
            "WARNING:matplotlib.legend:No artists with labels found to put in legend.  Note that artists whose label start with an underscore are ignored when legend() is called with no argument.\n"
          ]
        },
        {
          "output_type": "display_data",
          "data": {
            "text/plain": [
              "<Figure size 640x480 with 1 Axes>"
            ],
            "image/png": "[encoded data removed]"
          },
          "metadata": {}
        }
      ],
      "source": [
        "visualize_scores(scores)"
      ],
      "id": "1dcc53df"
    },
    {
      "cell_type": "code",
      "execution_count": 23,
      "metadata": {
        "id": "283a65a0"
      },
      "outputs": [],
      "source": [],
      "id": "283a65a0"
    }
  ],
  "metadata": {
    "colab": {
      "machine_shape": "hm",
      "provenance": []
    },
    "kernelspec": {
      "display_name": "Python 3",
      "name": "python3"
    },
    "language_info": {
      "codemirror_mode": {
        "name": "ipython",
        "version": 3
      },
      "file_extension": ".py",
      "mimetype": "text/x-python",
      "name": "python",
      "nbconvert_exporter": "python",
      "pygments_lexer": "ipython3",
      "version": "3.8.3"
    },
    "latex_envs": {
      "LaTeX_envs_menu_present": true,
      "autoclose": false,
      "autocomplete": true,
      "bibliofile": "biblio.bib",
      "cite_by": "apalike",
      "current_citInitial": 1,
      "eqLabelWithNumbers": true,
      "eqNumInitial": 1,
      "hotkeys": {
        "equation": "Ctrl-E",
        "itemize": "Ctrl-I"
      },
      "labels_anchors": false,
      "latex_user_defs": false,
      "report_style_numbering": false,
      "user_envs_cfg": false
    },
    "toc": {
      "base_numbering": 1,
      "nav_menu": {},
      "number_sections": true,
      "sideBar": true,
      "skip_h1_title": false,
      "title_cell": "Table of Contents",
      "title_sidebar": "Contents",
      "toc_cell": false,
      "toc_position": {},
      "toc_section_display": true,
      "toc_window_display": false
    },
    "widgets": {
      "application/vnd.jupyter.widget-state+json": {
        "5d986a7b283441d5ae68df78d9df60bd": {
          "model_module": "@jupyter-widgets/controls",
          "model_name": "HBoxModel",
          "model_module_version": "1.5.0",
          "state": {
            "_dom_classes": [],
            "_model_module": "@jupyter-widgets/controls",
            "_model_module_version": "1.5.0",
            "_model_name": "HBoxModel",
            "_view_count": null,
            "_view_module": "@jupyter-widgets/controls",
            "_view_module_version": "1.5.0",
            "_view_name": "HBoxView",
            "box_style": "",
            "children": [
              "IPY_MODEL_1ed20348d6724334aea426fb22047ef9",
              "IPY_MODEL_bae8c47f11554e3dba5bb9b7bb0dec92",
              "IPY_MODEL_fd6494396414429094c09f19d7099cba"
            ],
            "layout": "IPY_MODEL_6edc375a856e43fdafbed693a7abe38d"
          }
        },
        "1ed20348d6724334aea426fb22047ef9": {
          "model_module": "@jupyter-widgets/controls",
          "model_name": "HTMLModel",
          "model_module_version": "1.5.0",
          "state": {
            "_dom_classes": [],
            "_model_module": "@jupyter-widgets/controls",
            "_model_module_version": "1.5.0",
            "_model_name": "HTMLModel",
            "_view_count": null,
            "_view_module": "@jupyter-widgets/controls",
            "_view_module_version": "1.5.0",
            "_view_name": "HTMLView",
            "description": "",
            "description_tooltip": null,
            "layout": "IPY_MODEL_e0cd74f9fc3144c78522b422e4dbb414",
            "placeholder": "​",
            "style": "IPY_MODEL_7b51bd910522447dbdfa05e5883f18d5",
            "value": "Loading embeddings: 100%"
          }
        },
        "bae8c47f11554e3dba5bb9b7bb0dec92": {
          "model_module": "@jupyter-widgets/controls",
          "model_name": "FloatProgressModel",
          "model_module_version": "1.5.0",
          "state": {
            "_dom_classes": [],
            "_model_module": "@jupyter-widgets/controls",
            "_model_module_version": "1.5.0",
            "_model_name": "FloatProgressModel",
            "_view_count": null,
            "_view_module": "@jupyter-widgets/controls",
            "_view_module_version": "1.5.0",
            "_view_name": "ProgressView",
            "bar_style": "success",
            "description": "",
            "description_tooltip": null,
            "layout": "IPY_MODEL_8e945660dbf14310ab7167445904b9e0",
            "max": 16,
            "min": 0,
            "orientation": "horizontal",
            "style": "IPY_MODEL_74df30f62e4e41748ba7ae6fd567ccd7",
            "value": 16
          }
        },
        "fd6494396414429094c09f19d7099cba": {
          "model_module": "@jupyter-widgets/controls",
          "model_name": "HTMLModel",
          "model_module_version": "1.5.0",
          "state": {
            "_dom_classes": [],
            "_model_module": "@jupyter-widgets/controls",
            "_model_module_version": "1.5.0",
            "_model_name": "HTMLModel",
            "_view_count": null,
            "_view_module": "@jupyter-widgets/controls",
            "_view_module_version": "1.5.0",
            "_view_name": "HTMLView",
            "description": "",
            "description_tooltip": null,
            "layout": "IPY_MODEL_fdb0c4903f3542a4a5de4a4c1f33d995",
            "placeholder": "​",
            "style": "IPY_MODEL_b15ac42412fd4ff8a872af7ef6d58147",
            "value": " 16/16 [00:20&lt;00:00,  1.61s/partition]"
          }
        },
        "6edc375a856e43fdafbed693a7abe38d": {
          "model_module": "@jupyter-widgets/base",
          "model_name": "LayoutModel",
          "model_module_version": "1.2.0",
          "state": {
            "_model_module": "@jupyter-widgets/base",
            "_model_module_version": "1.2.0",
            "_model_name": "LayoutModel",
            "_view_count": null,
            "_view_module": "@jupyter-widgets/base",
            "_view_module_version": "1.2.0",
            "_view_name": "LayoutView",
            "align_content": null,
            "align_items": null,
            "align_self": null,
            "border": null,
            "bottom": null,
            "display": null,
            "flex": null,
            "flex_flow": null,
            "grid_area": null,
            "grid_auto_columns": null,
            "grid_auto_flow": null,
            "grid_auto_rows": null,
            "grid_column": null,
            "grid_gap": null,
            "grid_row": null,
            "grid_template_areas": null,
            "grid_template_columns": null,
            "grid_template_rows": null,
            "height": null,
            "justify_content": null,
            "justify_items": null,
            "left": null,
            "margin": null,
            "max_height": null,
            "max_width": null,
            "min_height": null,
            "min_width": null,
            "object_fit": null,
            "object_position": null,
            "order": null,
            "overflow": null,
            "overflow_x": null,
            "overflow_y": null,
            "padding": null,
            "right": null,
            "top": null,
            "visibility": null,
            "width": null
          }
        },
        "e0cd74f9fc3144c78522b422e4dbb414": {
          "model_module": "@jupyter-widgets/base",
          "model_name": "LayoutModel",
          "model_module_version": "1.2.0",
          "state": {
            "_model_module": "@jupyter-widgets/base",
            "_model_module_version": "1.2.0",
            "_model_name": "LayoutModel",
            "_view_count": null,
            "_view_module": "@jupyter-widgets/base",
            "_view_module_version": "1.2.0",
            "_view_name": "LayoutView",
            "align_content": null,
            "align_items": null,
            "align_self": null,
            "border": null,
            "bottom": null,
            "display": null,
            "flex": null,
            "flex_flow": null,
            "grid_area": null,
            "grid_auto_columns": null,
            "grid_auto_flow": null,
            "grid_auto_rows": null,
            "grid_column": null,
            "grid_gap": null,
            "grid_row": null,
            "grid_template_areas": null,
            "grid_template_columns": null,
            "grid_template_rows": null,
            "height": null,
            "justify_content": null,
            "justify_items": null,
            "left": null,
            "margin": null,
            "max_height": null,
            "max_width": null,
            "min_height": null,
            "min_width": null,
            "object_fit": null,
            "object_position": null,
            "order": null,
            "overflow": null,
            "overflow_x": null,
            "overflow_y": null,
            "padding": null,
            "right": null,
            "top": null,
            "visibility": null,
            "width": null
          }
        },
        "7b51bd910522447dbdfa05e5883f18d5": {
          "model_module": "@jupyter-widgets/controls",
          "model_name": "DescriptionStyleModel",
          "model_module_version": "1.5.0",
          "state": {
            "_model_module": "@jupyter-widgets/controls",
            "_model_module_version": "1.5.0",
            "_model_name": "DescriptionStyleModel",
            "_view_count": null,
            "_view_module": "@jupyter-widgets/base",
            "_view_module_version": "1.2.0",
            "_view_name": "StyleView",
            "description_width": ""
          }
        },
        "8e945660dbf14310ab7167445904b9e0": {
          "model_module": "@jupyter-widgets/base",
          "model_name": "LayoutModel",
          "model_module_version": "1.2.0",
          "state": {
            "_model_module": "@jupyter-widgets/base",
            "_model_module_version": "1.2.0",
            "_model_name": "LayoutModel",
            "_view_count": null,
            "_view_module": "@jupyter-widgets/base",
            "_view_module_version": "1.2.0",
            "_view_name": "LayoutView",
            "align_content": null,
            "align_items": null,
            "align_self": null,
            "border": null,
            "bottom": null,
            "display": null,
            "flex": null,
            "flex_flow": null,
            "grid_area": null,
            "grid_auto_columns": null,
            "grid_auto_flow": null,
            "grid_auto_rows": null,
            "grid_column": null,
            "grid_gap": null,
            "grid_row": null,
            "grid_template_areas": null,
            "grid_template_columns": null,
            "grid_template_rows": null,
            "height": null,
            "justify_content": null,
            "justify_items": null,
            "left": null,
            "margin": null,
            "max_height": null,
            "max_width": null,
            "min_height": null,
            "min_width": null,
            "object_fit": null,
            "object_position": null,
            "order": null,
            "overflow": null,
            "overflow_x": null,
            "overflow_y": null,
            "padding": null,
            "right": null,
            "top": null,
            "visibility": null,
            "width": null
          }
        },
        "74df30f62e4e41748ba7ae6fd567ccd7": {
          "model_module": "@jupyter-widgets/controls",
          "model_name": "ProgressStyleModel",
          "model_module_version": "1.5.0",
          "state": {
            "_model_module": "@jupyter-widgets/controls",
            "_model_module_version": "1.5.0",
            "_model_name": "ProgressStyleModel",
            "_view_count": null,
            "_view_module": "@jupyter-widgets/base",
            "_view_module_version": "1.2.0",
            "_view_name": "StyleView",
            "bar_color": null,
            "description_width": ""
          }
        },
        "fdb0c4903f3542a4a5de4a4c1f33d995": {
          "model_module": "@jupyter-widgets/base",
          "model_name": "LayoutModel",
          "model_module_version": "1.2.0",
          "state": {
            "_model_module": "@jupyter-widgets/base",
            "_model_module_version": "1.2.0",
            "_model_name": "LayoutModel",
            "_view_count": null,
            "_view_module": "@jupyter-widgets/base",
            "_view_module_version": "1.2.0",
            "_view_name": "LayoutView",
            "align_content": null,
            "align_items": null,
            "align_self": null,
            "border": null,
            "bottom": null,
            "display": null,
            "flex": null,
            "flex_flow": null,
            "grid_area": null,
            "grid_auto_columns": null,
            "grid_auto_flow": null,
            "grid_auto_rows": null,
            "grid_column": null,
            "grid_gap": null,
            "grid_row": null,
            "grid_template_areas": null,
            "grid_template_columns": null,
            "grid_template_rows": null,
            "height": null,
            "justify_content": null,
            "justify_items": null,
            "left": null,
            "margin": null,
            "max_height": null,
            "max_width": null,
            "min_height": null,
            "min_width": null,
            "object_fit": null,
            "object_position": null,
            "order": null,
            "overflow": null,
            "overflow_x": null,
            "overflow_y": null,
            "padding": null,
            "right": null,
            "top": null,
            "visibility": null,
            "width": null
          }
        },
        "b15ac42412fd4ff8a872af7ef6d58147": {
          "model_module": "@jupyter-widgets/controls",
          "model_name": "DescriptionStyleModel",
          "model_module_version": "1.5.0",
          "state": {
            "_model_module": "@jupyter-widgets/controls",
            "_model_module_version": "1.5.0",
            "_model_name": "DescriptionStyleModel",
            "_view_count": null,
            "_view_module": "@jupyter-widgets/base",
            "_view_module_version": "1.2.0",
            "_view_name": "StyleView",
            "description_width": ""
          }
        },
        "83bddde86ad844e6830dd0f2f7714640": {
          "model_module": "@jupyter-widgets/controls",
          "model_name": "HBoxModel",
          "model_module_version": "1.5.0",
          "state": {
            "_dom_classes": [],
            "_model_module": "@jupyter-widgets/controls",
            "_model_module_version": "1.5.0",
            "_model_name": "HBoxModel",
            "_view_count": null,
            "_view_module": "@jupyter-widgets/controls",
            "_view_module_version": "1.5.0",
            "_view_name": "HBoxView",
            "box_style": "",
            "children": [
              "IPY_MODEL_9d68a1f4af5c4cc6874f099d2ab644d0",
              "IPY_MODEL_021334bcd81d4fa88a91ebef4f6465a8",
              "IPY_MODEL_0cc21d0344eb47f2a809ea424aaf8555"
            ],
            "layout": "IPY_MODEL_68021058de524c5bbda4b3fbc56c737e"
          }
        },
        "9d68a1f4af5c4cc6874f099d2ab644d0": {
          "model_module": "@jupyter-widgets/controls",
          "model_name": "HTMLModel",
          "model_module_version": "1.5.0",
          "state": {
            "_dom_classes": [],
            "_model_module": "@jupyter-widgets/controls",
            "_model_module_version": "1.5.0",
            "_model_name": "HTMLModel",
            "_view_count": null,
            "_view_module": "@jupyter-widgets/controls",
            "_view_module_version": "1.5.0",
            "_view_name": "HTMLView",
            "description": "",
            "description_tooltip": null,
            "layout": "IPY_MODEL_7a26260fc8ae4347aa306ce224381171",
            "placeholder": "​",
            "style": "IPY_MODEL_f7d683899d58418d827cdab3aa74b533",
            "value": "Loading embeddings: 100%"
          }
        },
        "021334bcd81d4fa88a91ebef4f6465a8": {
          "model_module": "@jupyter-widgets/controls",
          "model_name": "FloatProgressModel",
          "model_module_version": "1.5.0",
          "state": {
            "_dom_classes": [],
            "_model_module": "@jupyter-widgets/controls",
            "_model_module_version": "1.5.0",
            "_model_name": "FloatProgressModel",
            "_view_count": null,
            "_view_module": "@jupyter-widgets/controls",
            "_view_module_version": "1.5.0",
            "_view_name": "ProgressView",
            "bar_style": "success",
            "description": "",
            "description_tooltip": null,
            "layout": "IPY_MODEL_cdb7594ee94e4c058aa377fa8b9b27de",
            "max": 94,
            "min": 0,
            "orientation": "horizontal",
            "style": "IPY_MODEL_085f0a27a3384a52bfacc90752777a2c",
            "value": 94
          }
        },
        "0cc21d0344eb47f2a809ea424aaf8555": {
          "model_module": "@jupyter-widgets/controls",
          "model_name": "HTMLModel",
          "model_module_version": "1.5.0",
          "state": {
            "_dom_classes": [],
            "_model_module": "@jupyter-widgets/controls",
            "_model_module_version": "1.5.0",
            "_model_name": "HTMLModel",
            "_view_count": null,
            "_view_module": "@jupyter-widgets/controls",
            "_view_module_version": "1.5.0",
            "_view_name": "HTMLView",
            "description": "",
            "description_tooltip": null,
            "layout": "IPY_MODEL_1a1465cdab914049b0ff80c5bc170bbe",
            "placeholder": "​",
            "style": "IPY_MODEL_c524c717967b4bd493486cf3bda60607",
            "value": " 94/94 [08:12&lt;00:00,  5.98s/partition]"
          }
        },
        "68021058de524c5bbda4b3fbc56c737e": {
          "model_module": "@jupyter-widgets/base",
          "model_name": "LayoutModel",
          "model_module_version": "1.2.0",
          "state": {
            "_model_module": "@jupyter-widgets/base",
            "_model_module_version": "1.2.0",
            "_model_name": "LayoutModel",
            "_view_count": null,
            "_view_module": "@jupyter-widgets/base",
            "_view_module_version": "1.2.0",
            "_view_name": "LayoutView",
            "align_content": null,
            "align_items": null,
            "align_self": null,
            "border": null,
            "bottom": null,
            "display": null,
            "flex": null,
            "flex_flow": null,
            "grid_area": null,
            "grid_auto_columns": null,
            "grid_auto_flow": null,
            "grid_auto_rows": null,
            "grid_column": null,
            "grid_gap": null,
            "grid_row": null,
            "grid_template_areas": null,
            "grid_template_columns": null,
            "grid_template_rows": null,
            "height": null,
            "justify_content": null,
            "justify_items": null,
            "left": null,
            "margin": null,
            "max_height": null,
            "max_width": null,
            "min_height": null,
            "min_width": null,
            "object_fit": null,
            "object_position": null,
            "order": null,
            "overflow": null,
            "overflow_x": null,
            "overflow_y": null,
            "padding": null,
            "right": null,
            "top": null,
            "visibility": null,
            "width": null
          }
        },
        "7a26260fc8ae4347aa306ce224381171": {
          "model_module": "@jupyter-widgets/base",
          "model_name": "LayoutModel",
          "model_module_version": "1.2.0",
          "state": {
            "_model_module": "@jupyter-widgets/base",
            "_model_module_version": "1.2.0",
            "_model_name": "LayoutModel",
            "_view_count": null,
            "_view_module": "@jupyter-widgets/base",
            "_view_module_version": "1.2.0",
            "_view_name": "LayoutView",
            "align_content": null,
            "align_items": null,
            "align_self": null,
            "border": null,
            "bottom": null,
            "display": null,
            "flex": null,
            "flex_flow": null,
            "grid_area": null,
            "grid_auto_columns": null,
            "grid_auto_flow": null,
            "grid_auto_rows": null,
            "grid_column": null,
            "grid_gap": null,
            "grid_row": null,
            "grid_template_areas": null,
            "grid_template_columns": null,
            "grid_template_rows": null,
            "height": null,
            "justify_content": null,
            "justify_items": null,
            "left": null,
            "margin": null,
            "max_height": null,
            "max_width": null,
            "min_height": null,
            "min_width": null,
            "object_fit": null,
            "object_position": null,
            "order": null,
            "overflow": null,
            "overflow_x": null,
            "overflow_y": null,
            "padding": null,
            "right": null,
            "top": null,
            "visibility": null,
            "width": null
          }
        },
        "f7d683899d58418d827cdab3aa74b533": {
          "model_module": "@jupyter-widgets/controls",
          "model_name": "DescriptionStyleModel",
          "model_module_version": "1.5.0",
          "state": {
            "_model_module": "@jupyter-widgets/controls",
            "_model_module_version": "1.5.0",
            "_model_name": "DescriptionStyleModel",
            "_view_count": null,
            "_view_module": "@jupyter-widgets/base",
            "_view_module_version": "1.2.0",
            "_view_name": "StyleView",
            "description_width": ""
          }
        },
        "cdb7594ee94e4c058aa377fa8b9b27de": {
          "model_module": "@jupyter-widgets/base",
          "model_name": "LayoutModel",
          "model_module_version": "1.2.0",
          "state": {
            "_model_module": "@jupyter-widgets/base",
            "_model_module_version": "1.2.0",
            "_model_name": "LayoutModel",
            "_view_count": null,
            "_view_module": "@jupyter-widgets/base",
            "_view_module_version": "1.2.0",
            "_view_name": "LayoutView",
            "align_content": null,
            "align_items": null,
            "align_self": null,
            "border": null,
            "bottom": null,
            "display": null,
            "flex": null,
            "flex_flow": null,
            "grid_area": null,
            "grid_auto_columns": null,
            "grid_auto_flow": null,
            "grid_auto_rows": null,
            "grid_column": null,
            "grid_gap": null,
            "grid_row": null,
            "grid_template_areas": null,
            "grid_template_columns": null,
            "grid_template_rows": null,
            "height": null,
            "justify_content": null,
            "justify_items": null,
            "left": null,
            "margin": null,
            "max_height": null,
            "max_width": null,
            "min_height": null,
            "min_width": null,
            "object_fit": null,
            "object_position": null,
            "order": null,
            "overflow": null,
            "overflow_x": null,
            "overflow_y": null,
            "padding": null,
            "right": null,
            "top": null,
            "visibility": null,
            "width": null
          }
        },
        "085f0a27a3384a52bfacc90752777a2c": {
          "model_module": "@jupyter-widgets/controls",
          "model_name": "ProgressStyleModel",
          "model_module_version": "1.5.0",
          "state": {
            "_model_module": "@jupyter-widgets/controls",
            "_model_module_version": "1.5.0",
            "_model_name": "ProgressStyleModel",
            "_view_count": null,
            "_view_module": "@jupyter-widgets/base",
            "_view_module_version": "1.2.0",
            "_view_name": "StyleView",
            "bar_color": null,
            "description_width": ""
          }
        },
        "1a1465cdab914049b0ff80c5bc170bbe": {
          "model_module": "@jupyter-widgets/base",
          "model_name": "LayoutModel",
          "model_module_version": "1.2.0",
          "state": {
            "_model_module": "@jupyter-widgets/base",
            "_model_module_version": "1.2.0",
            "_model_name": "LayoutModel",
            "_view_count": null,
            "_view_module": "@jupyter-widgets/base",
            "_view_module_version": "1.2.0",
            "_view_name": "LayoutView",
            "align_content": null,
            "align_items": null,
            "align_self": null,
            "border": null,
            "bottom": null,
            "display": null,
            "flex": null,
            "flex_flow": null,
            "grid_area": null,
            "grid_auto_columns": null,
            "grid_auto_flow": null,
            "grid_auto_rows": null,
            "grid_column": null,
            "grid_gap": null,
            "grid_row": null,
            "grid_template_areas": null,
            "grid_template_columns": null,
            "grid_template_rows": null,
            "height": null,
            "justify_content": null,
            "justify_items": null,
            "left": null,
            "margin": null,
            "max_height": null,
            "max_width": null,
            "min_height": null,
            "min_width": null,
            "object_fit": null,
            "object_position": null,
            "order": null,
            "overflow": null,
            "overflow_x": null,
            "overflow_y": null,
            "padding": null,
            "right": null,
            "top": null,
            "visibility": null,
            "width": null
          }
        },
        "c524c717967b4bd493486cf3bda60607": {
          "model_module": "@jupyter-widgets/controls",
          "model_name": "DescriptionStyleModel",
          "model_module_version": "1.5.0",
          "state": {
            "_model_module": "@jupyter-widgets/controls",
            "_model_module_version": "1.5.0",
            "_model_name": "DescriptionStyleModel",
            "_view_count": null,
            "_view_module": "@jupyter-widgets/base",
            "_view_module_version": "1.2.0",
            "_view_name": "StyleView",
            "description_width": ""
          }
        }
      }
    }
  },
  "nbformat": 4,
  "nbformat_minor": 5
}