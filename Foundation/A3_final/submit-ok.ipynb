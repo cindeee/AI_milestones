{
 "cells": [
  {
   "cell_type": "code",
   "execution_count": 1,
   "id": "26dd6784",
   "metadata": {
    "execution": {
     "iopub.execute_input": "2023-12-20T12:54:24.422718Z",
     "iopub.status.busy": "2023-12-20T12:54:24.422327Z",
     "iopub.status.idle": "2023-12-20T12:54:30.011798Z",
     "shell.execute_reply": "2023-12-20T12:54:30.011042Z"
    },
    "papermill": {
     "duration": 5.599833,
     "end_time": "2023-12-20T12:54:30.014195",
     "exception": false,
     "start_time": "2023-12-20T12:54:24.414362",
     "status": "completed"
    },
    "tags": []
   },
   "outputs": [],
   "source": [
    "import os, glob\n",
    "import pandas as pd\n",
    "import numpy as np\n",
    "import matplotlib.pyplot as plt\n",
    "from torchvision import datasets, models, transforms\n",
    "import torch\n",
    "import torch.nn as nn\n",
    "import timm\n",
    "from torch.utils.data import Dataset\n",
    "\n",
    "from PIL import Image\n",
    "Image.MAX_IMAGE_PIXELS = 7000 * 7000"
   ]
  },
  {
   "cell_type": "code",
   "execution_count": 2,
   "id": "22dd40f1",
   "metadata": {
    "execution": {
     "iopub.execute_input": "2023-12-20T12:54:30.027489Z",
     "iopub.status.busy": "2023-12-20T12:54:30.027205Z",
     "iopub.status.idle": "2023-12-20T12:54:30.085693Z",
     "shell.execute_reply": "2023-12-20T12:54:30.084778Z"
    },
    "papermill": {
     "duration": 0.067564,
     "end_time": "2023-12-20T12:54:30.087930",
     "exception": false,
     "start_time": "2023-12-20T12:54:30.020366",
     "status": "completed"
    },
    "tags": []
   },
   "outputs": [
    {
     "name": "stdout",
     "output_type": "stream",
     "text": [
      "device=device(type='cuda', index=0)\n"
     ]
    }
   ],
   "source": [
    "device = torch.device(\"cuda:0\" if torch.cuda.is_available() else \"cpu\")\n",
    "print(f'{device=}')"
   ]
  },
  {
   "cell_type": "code",
   "execution_count": 3,
   "id": "844234b1",
   "metadata": {
    "execution": {
     "iopub.execute_input": "2023-12-20T12:54:30.100835Z",
     "iopub.status.busy": "2023-12-20T12:54:30.100559Z",
     "iopub.status.idle": "2023-12-20T12:54:30.107858Z",
     "shell.execute_reply": "2023-12-20T12:54:30.107032Z"
    },
    "papermill": {
     "duration": 0.015699,
     "end_time": "2023-12-20T12:54:30.109757",
     "exception": false,
     "start_time": "2023-12-20T12:54:30.094058",
     "status": "completed"
    },
    "tags": []
   },
   "outputs": [
    {
     "data": {
      "text/plain": [
       "{'HGSC': 0, 'LGSC': 1, 'EC': 2, 'CC': 3, 'MC': 4, 'other': 5}"
      ]
     },
     "execution_count": 3,
     "metadata": {},
     "output_type": "execute_result"
    }
   ],
   "source": [
    "class_names = ['HGSC', 'LGSC', 'EC', 'CC', 'MC','other']\n",
    "#{0: 'HGSC', 1: 'LGSC', 2: 'EC', 3: 'CC', 4: 'MC', 5: 'Other'}\n",
    "class_name_2_label = dict(zip(class_names, range(6)))\n",
    "class_name_2_label"
   ]
  },
  {
   "cell_type": "code",
   "execution_count": 4,
   "id": "9b2debc6",
   "metadata": {
    "execution": {
     "iopub.execute_input": "2023-12-20T12:54:30.122579Z",
     "iopub.status.busy": "2023-12-20T12:54:30.122318Z",
     "iopub.status.idle": "2023-12-20T12:55:07.868147Z",
     "shell.execute_reply": "2023-12-20T12:55:07.867323Z"
    },
    "papermill": {
     "duration": 37.754878,
     "end_time": "2023-12-20T12:55:07.870557",
     "exception": false,
     "start_time": "2023-12-20T12:54:30.115679",
     "status": "completed"
    },
    "tags": []
   },
   "outputs": [
    {
     "name": "stderr",
     "output_type": "stream",
     "text": [
      "/opt/conda/lib/python3.10/site-packages/scipy/__init__.py:146: UserWarning: A NumPy version >=1.16.5 and <1.23.0 is required for this version of SciPy (detected version 1.24.3\n",
      "  warnings.warn(f\"A NumPy version >={np_minversion} and <{np_maxversion}\"\n"
     ]
    }
   ],
   "source": [
    "from tensorflow.keras.models import load_model\n",
    "model = load_model('/kaggle/input/cute-16/vgg_model_16.h5')"
   ]
  },
  {
   "cell_type": "code",
   "execution_count": 5,
   "id": "a28ea44d",
   "metadata": {
    "execution": {
     "iopub.execute_input": "2023-12-20T12:55:07.884418Z",
     "iopub.status.busy": "2023-12-20T12:55:07.884125Z",
     "iopub.status.idle": "2023-12-20T12:55:07.907551Z",
     "shell.execute_reply": "2023-12-20T12:55:07.906651Z"
    },
    "papermill": {
     "duration": 0.032466,
     "end_time": "2023-12-20T12:55:07.909391",
     "exception": false,
     "start_time": "2023-12-20T12:55:07.876925",
     "status": "completed"
    },
    "tags": []
   },
   "outputs": [
    {
     "data": {
      "text/html": [
       "<div>\n",
       "<style scoped>\n",
       "    .dataframe tbody tr th:only-of-type {\n",
       "        vertical-align: middle;\n",
       "    }\n",
       "\n",
       "    .dataframe tbody tr th {\n",
       "        vertical-align: top;\n",
       "    }\n",
       "\n",
       "    .dataframe thead th {\n",
       "        text-align: right;\n",
       "    }\n",
       "</style>\n",
       "<table border=\"1\" class=\"dataframe\">\n",
       "  <thead>\n",
       "    <tr style=\"text-align: right;\">\n",
       "      <th></th>\n",
       "      <th>image_id</th>\n",
       "      <th>image_width</th>\n",
       "      <th>image_height</th>\n",
       "    </tr>\n",
       "  </thead>\n",
       "  <tbody>\n",
       "    <tr>\n",
       "      <th>0</th>\n",
       "      <td>41</td>\n",
       "      <td>28469</td>\n",
       "      <td>16987</td>\n",
       "    </tr>\n",
       "  </tbody>\n",
       "</table>\n",
       "</div>"
      ],
      "text/plain": [
       "   image_id  image_width  image_height\n",
       "0        41        28469         16987"
      ]
     },
     "execution_count": 5,
     "metadata": {},
     "output_type": "execute_result"
    }
   ],
   "source": [
    "df_test = pd.read_csv(\"/kaggle/input/UBC-OCEAN/test.csv\")\n",
    "df_test.head()"
   ]
  },
  {
   "cell_type": "code",
   "execution_count": 6,
   "id": "d5275f31",
   "metadata": {
    "execution": {
     "iopub.execute_input": "2023-12-20T12:55:07.922515Z",
     "iopub.status.busy": "2023-12-20T12:55:07.922252Z",
     "iopub.status.idle": "2023-12-20T12:55:07.935562Z",
     "shell.execute_reply": "2023-12-20T12:55:07.934821Z"
    },
    "papermill": {
     "duration": 0.022032,
     "end_time": "2023-12-20T12:55:07.937508",
     "exception": false,
     "start_time": "2023-12-20T12:55:07.915476",
     "status": "completed"
    },
    "tags": []
   },
   "outputs": [],
   "source": [
    "df_test_tma = df_test.query(\"image_width <= 5000 and image_height <= 5000\").copy()\n",
    "# df_test_tma = df_train.query(\"is_tma\").copy()\n",
    "\n",
    "df_test_not_tma = df_test.query(\"not ( image_width <= 5000 and image_height <= 5000 )\").copy()\n",
    "# df_test_not_tma = df_train.query(\"not is_tma\").copy()"
   ]
  },
  {
   "cell_type": "code",
   "execution_count": 7,
   "id": "01e51d13",
   "metadata": {
    "execution": {
     "iopub.execute_input": "2023-12-20T12:55:07.951699Z",
     "iopub.status.busy": "2023-12-20T12:55:07.951247Z",
     "iopub.status.idle": "2023-12-20T12:55:07.964003Z",
     "shell.execute_reply": "2023-12-20T12:55:07.963211Z"
    },
    "papermill": {
     "duration": 0.021765,
     "end_time": "2023-12-20T12:55:07.965790",
     "exception": false,
     "start_time": "2023-12-20T12:55:07.944025",
     "status": "completed"
    },
    "tags": []
   },
   "outputs": [
    {
     "data": {
      "text/html": [
       "<div>\n",
       "<style scoped>\n",
       "    .dataframe tbody tr th:only-of-type {\n",
       "        vertical-align: middle;\n",
       "    }\n",
       "\n",
       "    .dataframe tbody tr th {\n",
       "        vertical-align: top;\n",
       "    }\n",
       "\n",
       "    .dataframe thead th {\n",
       "        text-align: right;\n",
       "    }\n",
       "</style>\n",
       "<table border=\"1\" class=\"dataframe\">\n",
       "  <thead>\n",
       "    <tr style=\"text-align: right;\">\n",
       "      <th></th>\n",
       "      <th>image_id</th>\n",
       "      <th>image_width</th>\n",
       "      <th>image_height</th>\n",
       "      <th>path</th>\n",
       "      <th>thumb_path</th>\n",
       "    </tr>\n",
       "  </thead>\n",
       "  <tbody>\n",
       "  </tbody>\n",
       "</table>\n",
       "</div>"
      ],
      "text/plain": [
       "Empty DataFrame\n",
       "Columns: [image_id, image_width, image_height, path, thumb_path]\n",
       "Index: []"
      ]
     },
     "execution_count": 7,
     "metadata": {},
     "output_type": "execute_result"
    }
   ],
   "source": [
    "train_or_test = \"test\"\n",
    "#train_or_test = \"train\"\n",
    "df_test_tma[\"path\"] = df_test_tma[\"image_id\"].apply(lambda image_id: f\"/kaggle/input/UBC-OCEAN/{train_or_test}_images/{image_id}.png\")\n",
    "df_test_tma[\"thumb_path\"] = df_test_tma[\"image_id\"].apply(lambda image_id: f\"/kaggle/input/UBC-OCEAN/{train_or_test}_thumbnails/{image_id}_thumbnail.png\")\n",
    "df_test_not_tma[\"path\"] = df_test_not_tma[\"image_id\"].apply(lambda image_id: f\"/kaggle/input/UBC-OCEAN/{train_or_test}_images/{image_id}.png\")\n",
    "df_test_not_tma[\"thumb_path\"] = df_test_not_tma[\"image_id\"].apply(lambda image_id: f\"/kaggle/input/UBC-OCEAN/{train_or_test}_thumbnails/{image_id}_thumbnail.png\")\n",
    "df_test_tma"
   ]
  },
  {
   "cell_type": "code",
   "execution_count": 8,
   "id": "6cac24bd",
   "metadata": {
    "execution": {
     "iopub.execute_input": "2023-12-20T12:55:07.979330Z",
     "iopub.status.busy": "2023-12-20T12:55:07.979034Z",
     "iopub.status.idle": "2023-12-20T12:55:07.988469Z",
     "shell.execute_reply": "2023-12-20T12:55:07.987638Z"
    },
    "papermill": {
     "duration": 0.018398,
     "end_time": "2023-12-20T12:55:07.990360",
     "exception": false,
     "start_time": "2023-12-20T12:55:07.971962",
     "status": "completed"
    },
    "tags": []
   },
   "outputs": [
    {
     "data": {
      "text/html": [
       "<div>\n",
       "<style scoped>\n",
       "    .dataframe tbody tr th:only-of-type {\n",
       "        vertical-align: middle;\n",
       "    }\n",
       "\n",
       "    .dataframe tbody tr th {\n",
       "        vertical-align: top;\n",
       "    }\n",
       "\n",
       "    .dataframe thead th {\n",
       "        text-align: right;\n",
       "    }\n",
       "</style>\n",
       "<table border=\"1\" class=\"dataframe\">\n",
       "  <thead>\n",
       "    <tr style=\"text-align: right;\">\n",
       "      <th></th>\n",
       "      <th>image_id</th>\n",
       "      <th>image_width</th>\n",
       "      <th>image_height</th>\n",
       "      <th>path</th>\n",
       "      <th>thumb_path</th>\n",
       "      <th>label</th>\n",
       "    </tr>\n",
       "  </thead>\n",
       "  <tbody>\n",
       "    <tr>\n",
       "      <th>0</th>\n",
       "      <td>41</td>\n",
       "      <td>28469</td>\n",
       "      <td>16987</td>\n",
       "      <td>/kaggle/input/UBC-OCEAN/test_images/41.png</td>\n",
       "      <td>/kaggle/input/UBC-OCEAN/test_thumbnails/41_thu...</td>\n",
       "      <td>HGSC</td>\n",
       "    </tr>\n",
       "  </tbody>\n",
       "</table>\n",
       "</div>"
      ],
      "text/plain": [
       "   image_id  image_width  image_height  \\\n",
       "0        41        28469         16987   \n",
       "\n",
       "                                         path  \\\n",
       "0  /kaggle/input/UBC-OCEAN/test_images/41.png   \n",
       "\n",
       "                                          thumb_path label  \n",
       "0  /kaggle/input/UBC-OCEAN/test_thumbnails/41_thu...  HGSC  "
      ]
     },
     "execution_count": 8,
     "metadata": {},
     "output_type": "execute_result"
    }
   ],
   "source": [
    "df_test_not_tma[\"label\"] = \"HGSC\"\n",
    "df_test_not_tma"
   ]
  },
  {
   "cell_type": "code",
   "execution_count": 9,
   "id": "7f73af45",
   "metadata": {
    "execution": {
     "iopub.execute_input": "2023-12-20T12:55:08.004451Z",
     "iopub.status.busy": "2023-12-20T12:55:08.004191Z",
     "iopub.status.idle": "2023-12-20T12:55:08.010504Z",
     "shell.execute_reply": "2023-12-20T12:55:08.009713Z"
    },
    "papermill": {
     "duration": 0.015165,
     "end_time": "2023-12-20T12:55:08.012246",
     "exception": false,
     "start_time": "2023-12-20T12:55:07.997081",
     "status": "completed"
    },
    "tags": []
   },
   "outputs": [],
   "source": [
    "class UBCDatasetInfer(Dataset):\n",
    "    def __init__(self, df, transforms=None):\n",
    "        self.df = df\n",
    "        self.transforms = transforms\n",
    "    \n",
    "    def __len__(self):\n",
    "        return len(self.df)\n",
    "    \n",
    "    def __getitem__(self, idx: int) -> tuple:\n",
    "        img_path = self.df.iloc[idx][\"path\"]\n",
    "        \n",
    "        try:\n",
    "            tile = Image.open(img_path)\n",
    "        except:\n",
    "            tile = Image.fromarray(np.zeros((1000, 1000, 3)).astype(np.uint8))\n",
    "        \n",
    "        if self.transforms:\n",
    "            tile = self.transforms(tile)\n",
    "\n",
    "        # return tile, label\n",
    "        return tile"
   ]
  },
  {
   "cell_type": "code",
   "execution_count": 10,
   "id": "d24973d2",
   "metadata": {
    "execution": {
     "iopub.execute_input": "2023-12-20T12:55:08.026039Z",
     "iopub.status.busy": "2023-12-20T12:55:08.025798Z",
     "iopub.status.idle": "2023-12-20T12:55:08.030760Z",
     "shell.execute_reply": "2023-12-20T12:55:08.029899Z"
    },
    "papermill": {
     "duration": 0.01389,
     "end_time": "2023-12-20T12:55:08.032567",
     "exception": false,
     "start_time": "2023-12-20T12:55:08.018677",
     "status": "completed"
    },
    "tags": []
   },
   "outputs": [],
   "source": [
    "def prepare_loader(\n",
    "    df, batch_size=4, transforms=None, shuffle=True,\n",
    "    num_workers=4\n",
    "):    \n",
    "    dataset = UBCDatasetInfer(df, transforms=transforms)\n",
    "    \n",
    "    loader = torch.utils.data.DataLoader(\n",
    "        dataset, batch_size=batch_size, shuffle=shuffle, num_workers=num_workers\n",
    "    )\n",
    "    \n",
    "    return loader"
   ]
  },
  {
   "cell_type": "code",
   "execution_count": 11,
   "id": "2665452e",
   "metadata": {
    "execution": {
     "iopub.execute_input": "2023-12-20T12:55:08.046463Z",
     "iopub.status.busy": "2023-12-20T12:55:08.046184Z",
     "iopub.status.idle": "2023-12-20T12:55:08.050886Z",
     "shell.execute_reply": "2023-12-20T12:55:08.050132Z"
    },
    "papermill": {
     "duration": 0.013836,
     "end_time": "2023-12-20T12:55:08.052765",
     "exception": false,
     "start_time": "2023-12-20T12:55:08.038929",
     "status": "completed"
    },
    "tags": []
   },
   "outputs": [],
   "source": [
    "from torchvision import transforms as T\n",
    "TMA_TRANSFORM = T.Compose([\n",
    "    T.Resize((256, 256), antialias=True),  # 将图像大小调整为 (256, 256)\n",
    "    T.ToTensor(),\n",
    "    T.Normalize([0.485, 0.456, 0.406], [0.229, 0.224, 0.225]),\n",
    "])\n"
   ]
  },
  {
   "cell_type": "code",
   "execution_count": 12,
   "id": "cce109e0",
   "metadata": {
    "execution": {
     "iopub.execute_input": "2023-12-20T12:55:08.066512Z",
     "iopub.status.busy": "2023-12-20T12:55:08.066247Z",
     "iopub.status.idle": "2023-12-20T12:55:08.070579Z",
     "shell.execute_reply": "2023-12-20T12:55:08.069791Z"
    },
    "papermill": {
     "duration": 0.013297,
     "end_time": "2023-12-20T12:55:08.072417",
     "exception": false,
     "start_time": "2023-12-20T12:55:08.059120",
     "status": "completed"
    },
    "tags": []
   },
   "outputs": [],
   "source": [
    "batch_size=1\n",
    "test_tma_loader = prepare_loader(\n",
    "    df_test_tma, batch_size=batch_size, transforms=TMA_TRANSFORM, shuffle=False,\n",
    "    num_workers=0\n",
    ")"
   ]
  },
  {
   "cell_type": "code",
   "execution_count": 13,
   "id": "1bf3c2f8",
   "metadata": {
    "execution": {
     "iopub.execute_input": "2023-12-20T12:55:08.085982Z",
     "iopub.status.busy": "2023-12-20T12:55:08.085707Z",
     "iopub.status.idle": "2023-12-20T12:55:08.089823Z",
     "shell.execute_reply": "2023-12-20T12:55:08.089099Z"
    },
    "papermill": {
     "duration": 0.013017,
     "end_time": "2023-12-20T12:55:08.091726",
     "exception": false,
     "start_time": "2023-12-20T12:55:08.078709",
     "status": "completed"
    },
    "tags": []
   },
   "outputs": [],
   "source": [
    "batch_size=1\n",
    "test_not_tma_loader = prepare_loader(\n",
    "    df_test_not_tma, batch_size=batch_size, transforms=TMA_TRANSFORM, shuffle=False,\n",
    "    num_workers=0\n",
    ")"
   ]
  },
  {
   "cell_type": "code",
   "execution_count": 14,
   "id": "c57ecae8",
   "metadata": {
    "execution": {
     "iopub.execute_input": "2023-12-20T12:55:08.105453Z",
     "iopub.status.busy": "2023-12-20T12:55:08.105207Z",
     "iopub.status.idle": "2023-12-20T12:55:08.133203Z",
     "shell.execute_reply": "2023-12-20T12:55:08.132224Z"
    },
    "papermill": {
     "duration": 0.03696,
     "end_time": "2023-12-20T12:55:08.135102",
     "exception": false,
     "start_time": "2023-12-20T12:55:08.098142",
     "status": "completed"
    },
    "tags": []
   },
   "outputs": [
    {
     "name": "stdout",
     "output_type": "stream",
     "text": [
      "An error occurred: need at least one array to concatenate\n"
     ]
    }
   ],
   "source": [
    "import numpy as np\n",
    "\n",
    "batch_size = 1\n",
    "numpy_imgs = []\n",
    "\n",
    "try:\n",
    "    for imgs in test_tma_loader:\n",
    "        imgs = imgs.permute(0, 2, 3, 1)  # 调整维度顺序\n",
    "        numpy_imgs.append(imgs.numpy())\n",
    "\n",
    "    # 合并 NumPy 数组以匹配 Keras 模型的输入形状\n",
    "    numpy_imgs = np.vstack(numpy_imgs)\n",
    "\n",
    "    # 进行预测\n",
    "    predictions = model.predict(numpy_imgs)\n",
    "    y_pred = np.argmax(predictions, axis=1)\n",
    "    labels = [class_names[pred_] for pred_ in y_pred]\n",
    "\n",
    "    # 将预测结果添加到测试数据的DataFrame中\n",
    "    df_test_tma[\"label\"] = labels\n",
    "except Exception as e:\n",
    "    print(\"An error occurred:\", str(e))"
   ]
  },
  {
   "cell_type": "code",
   "execution_count": 15,
   "id": "c6801ab6",
   "metadata": {
    "execution": {
     "iopub.execute_input": "2023-12-20T12:55:08.149527Z",
     "iopub.status.busy": "2023-12-20T12:55:08.149229Z",
     "iopub.status.idle": "2023-12-20T12:55:13.207678Z",
     "shell.execute_reply": "2023-12-20T12:55:13.206910Z"
    },
    "papermill": {
     "duration": 5.068341,
     "end_time": "2023-12-20T12:55:13.209893",
     "exception": false,
     "start_time": "2023-12-20T12:55:08.141552",
     "status": "completed"
    },
    "tags": []
   },
   "outputs": [
    {
     "name": "stdout",
     "output_type": "stream",
     "text": [
      "1/1 [==============================] - 5s 5s/step\n"
     ]
    }
   ],
   "source": [
    "batch_size = 1\n",
    "numpy_imgs = []\n",
    "\n",
    "try:\n",
    "    for imgs in test_not_tma_loader:\n",
    "        imgs = imgs.permute(0, 2, 3, 1)  # 调整维度顺序\n",
    "        numpy_imgs.append(imgs.numpy())\n",
    "\n",
    "    # 合并 NumPy 数组以匹配 Keras 模型的输入形状\n",
    "    numpy_imgs = np.vstack(numpy_imgs)\n",
    "\n",
    "    # 进行预测\n",
    "    predictions = model.predict(numpy_imgs)\n",
    "    y_pred = np.argmax(predictions, axis=1)\n",
    "    labels = [class_names[pred_] for pred_ in y_pred]\n",
    "\n",
    "    # 将预测结果添加到测试数据的DataFrame中\n",
    "    df_test_not_tma[\"label\"] = labels\n",
    "except Exception as e:\n",
    "    print(\"An error occurred:\", str(e))"
   ]
  },
  {
   "cell_type": "code",
   "execution_count": 16,
   "id": "1d8d86ed",
   "metadata": {
    "execution": {
     "iopub.execute_input": "2023-12-20T12:55:13.226849Z",
     "iopub.status.busy": "2023-12-20T12:55:13.226566Z",
     "iopub.status.idle": "2023-12-20T12:55:13.246190Z",
     "shell.execute_reply": "2023-12-20T12:55:13.245300Z"
    },
    "papermill": {
     "duration": 0.030433,
     "end_time": "2023-12-20T12:55:13.248265",
     "exception": false,
     "start_time": "2023-12-20T12:55:13.217832",
     "status": "completed"
    },
    "tags": []
   },
   "outputs": [
    {
     "data": {
      "text/html": [
       "<div>\n",
       "<style scoped>\n",
       "    .dataframe tbody tr th:only-of-type {\n",
       "        vertical-align: middle;\n",
       "    }\n",
       "\n",
       "    .dataframe tbody tr th {\n",
       "        vertical-align: top;\n",
       "    }\n",
       "\n",
       "    .dataframe thead th {\n",
       "        text-align: right;\n",
       "    }\n",
       "</style>\n",
       "<table border=\"1\" class=\"dataframe\">\n",
       "  <thead>\n",
       "    <tr style=\"text-align: right;\">\n",
       "      <th></th>\n",
       "      <th>image_id</th>\n",
       "      <th>image_width</th>\n",
       "      <th>image_height</th>\n",
       "      <th>path</th>\n",
       "      <th>thumb_path</th>\n",
       "      <th>label</th>\n",
       "    </tr>\n",
       "  </thead>\n",
       "  <tbody>\n",
       "    <tr>\n",
       "      <th>0</th>\n",
       "      <td>41</td>\n",
       "      <td>28469</td>\n",
       "      <td>16987</td>\n",
       "      <td>/kaggle/input/UBC-OCEAN/test_images/41.png</td>\n",
       "      <td>/kaggle/input/UBC-OCEAN/test_thumbnails/41_thu...</td>\n",
       "      <td>HGSC</td>\n",
       "    </tr>\n",
       "  </tbody>\n",
       "</table>\n",
       "</div>"
      ],
      "text/plain": [
       "   image_id  image_width  image_height  \\\n",
       "0        41        28469         16987   \n",
       "\n",
       "                                         path  \\\n",
       "0  /kaggle/input/UBC-OCEAN/test_images/41.png   \n",
       "\n",
       "                                          thumb_path label  \n",
       "0  /kaggle/input/UBC-OCEAN/test_thumbnails/41_thu...  HGSC  "
      ]
     },
     "execution_count": 16,
     "metadata": {},
     "output_type": "execute_result"
    }
   ],
   "source": [
    "df_sub = pd.concat([df_test_tma, df_test_not_tma]).sort_index()\n",
    "df_sub.head(300)"
   ]
  },
  {
   "cell_type": "code",
   "execution_count": 17,
   "id": "4359c8f0",
   "metadata": {
    "execution": {
     "iopub.execute_input": "2023-12-20T12:55:13.264233Z",
     "iopub.status.busy": "2023-12-20T12:55:13.263349Z",
     "iopub.status.idle": "2023-12-20T12:55:13.275118Z",
     "shell.execute_reply": "2023-12-20T12:55:13.274383Z"
    },
    "papermill": {
     "duration": 0.021664,
     "end_time": "2023-12-20T12:55:13.277160",
     "exception": false,
     "start_time": "2023-12-20T12:55:13.255496",
     "status": "completed"
    },
    "tags": []
   },
   "outputs": [
    {
     "data": {
      "text/html": [
       "<div>\n",
       "<style scoped>\n",
       "    .dataframe tbody tr th:only-of-type {\n",
       "        vertical-align: middle;\n",
       "    }\n",
       "\n",
       "    .dataframe tbody tr th {\n",
       "        vertical-align: top;\n",
       "    }\n",
       "\n",
       "    .dataframe thead th {\n",
       "        text-align: right;\n",
       "    }\n",
       "</style>\n",
       "<table border=\"1\" class=\"dataframe\">\n",
       "  <thead>\n",
       "    <tr style=\"text-align: right;\">\n",
       "      <th></th>\n",
       "      <th>image_id</th>\n",
       "      <th>label</th>\n",
       "    </tr>\n",
       "  </thead>\n",
       "  <tbody>\n",
       "    <tr>\n",
       "      <th>0</th>\n",
       "      <td>41</td>\n",
       "      <td>HGSC</td>\n",
       "    </tr>\n",
       "  </tbody>\n",
       "</table>\n",
       "</div>"
      ],
      "text/plain": [
       "   image_id label\n",
       "0        41  HGSC"
      ]
     },
     "metadata": {},
     "output_type": "display_data"
    }
   ],
   "source": [
    "display(df_sub[[\"image_id\", \"label\"]])\n",
    "df_sub[[\"image_id\", \"label\"]].to_csv(\"submission.csv\", index=False)"
   ]
  },
  {
   "cell_type": "code",
   "execution_count": null,
   "id": "09bd18fd",
   "metadata": {
    "papermill": {
     "duration": 0.007219,
     "end_time": "2023-12-20T12:55:13.291809",
     "exception": false,
     "start_time": "2023-12-20T12:55:13.284590",
     "status": "completed"
    },
    "tags": []
   },
   "outputs": [],
   "source": []
  },
  {
   "cell_type": "code",
   "execution_count": null,
   "id": "88a65b0a",
   "metadata": {
    "papermill": {
     "duration": 0.007132,
     "end_time": "2023-12-20T12:55:13.306618",
     "exception": false,
     "start_time": "2023-12-20T12:55:13.299486",
     "status": "completed"
    },
    "tags": []
   },
   "outputs": [],
   "source": []
  },
  {
   "cell_type": "code",
   "execution_count": null,
   "id": "105091d0",
   "metadata": {
    "papermill": {
     "duration": 0.006852,
     "end_time": "2023-12-20T12:55:13.320886",
     "exception": false,
     "start_time": "2023-12-20T12:55:13.314034",
     "status": "completed"
    },
    "tags": []
   },
   "outputs": [],
   "source": []
  }
 ],
 "metadata": {
  "kaggle": {
   "accelerator": "gpu",
   "dataSources": [
    {
     "databundleVersionId": 6924515,
     "sourceId": 45867,
     "sourceType": "competition"
    },
    {
     "datasetId": 4156702,
     "sourceId": 7189327,
     "sourceType": "datasetVersion"
    },
    {
     "sourceId": 152374987,
     "sourceType": "kernelVersion"
    }
   ],
   "dockerImageVersionId": 30627,
   "isGpuEnabled": true,
   "isInternetEnabled": false,
   "language": "python",
   "sourceType": "notebook"
  },
  "kernelspec": {
   "display_name": "Python 3",
   "language": "python",
   "name": "python3"
  },
  "language_info": {
   "codemirror_mode": {
    "name": "ipython",
    "version": 3
   },
   "file_extension": ".py",
   "mimetype": "text/x-python",
   "name": "python",
   "nbconvert_exporter": "python",
   "pygments_lexer": "ipython3",
   "version": "3.10.12"
  },
  "papermill": {
   "default_parameters": {},
   "duration": 55.448012,
   "end_time": "2023-12-20T12:55:16.602410",
   "environment_variables": {},
   "exception": null,
   "input_path": "__notebook__.ipynb",
   "output_path": "__notebook__.ipynb",
   "parameters": {},
   "start_time": "2023-12-20T12:54:21.154398",
   "version": "2.4.0"
  }
 },
 "nbformat": 4,
 "nbformat_minor": 5
}
