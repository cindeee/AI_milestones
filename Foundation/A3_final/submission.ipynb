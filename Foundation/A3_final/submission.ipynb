{
 "cells": [
  {
   "cell_type": "code",
   "execution_count": 1,
   "id": "70f8d637",
   "metadata": {
    "_cell_guid": "b1076dfc-b9ad-4769-8c92-a6c4dae69d19",
    "_uuid": "8f2839f25d086af736a60e9eeb907d3b93b6e0e5",
    "execution": {
     "iopub.execute_input": "2023-12-04T12:11:08.751318Z",
     "iopub.status.busy": "2023-12-04T12:11:08.750485Z",
     "iopub.status.idle": "2023-12-04T12:11:09.099546Z",
     "shell.execute_reply": "2023-12-04T12:11:09.098471Z"
    },
    "papermill": {
     "duration": 0.3595,
     "end_time": "2023-12-04T12:11:09.102242",
     "exception": false,
     "start_time": "2023-12-04T12:11:08.742742",
     "status": "completed"
    },
    "tags": []
   },
   "outputs": [],
   "source": [
    "# This Python 3 environment comes with many helpful analytics libraries installed\n",
    "# It is defined by the kaggle/python Docker image: https://github.com/kaggle/docker-python\n",
    "# For example, here's several helpful packages to load\n",
    "\n",
    "import numpy as np # linear algebra\n",
    "import pandas as pd # data processing, CSV file I/O (e.g. pd.read_csv)\n",
    "\n",
    "# Input data files are available in the read-only \"../input/\" directory\n",
    "# For example, running this (by clicking run or pressing Shift+Enter) will list all files under the input directory\n",
    "\n",
    "import os\n",
    "#for dirname, _, filenames in os.walk('/kaggle/input'):\n",
    " #   for filename in filenames:\n",
    "  #      print(os.path.join(dirname, filename))\n",
    "\n",
    "# You can write up to 20GB to the current directory (/kaggle/working/) that gets preserved as output when you create a version using \"Save & Run All\" \n",
    "# You can also write temporary files to /kaggle/temp/, but they won't be saved outside of the current session"
   ]
  },
  {
   "cell_type": "code",
   "execution_count": 2,
   "id": "e7c74d85",
   "metadata": {
    "execution": {
     "iopub.execute_input": "2023-12-04T12:11:09.114846Z",
     "iopub.status.busy": "2023-12-04T12:11:09.114257Z",
     "iopub.status.idle": "2023-12-04T12:11:20.796865Z",
     "shell.execute_reply": "2023-12-04T12:11:20.796158Z"
    },
    "papermill": {
     "duration": 11.690471,
     "end_time": "2023-12-04T12:11:20.799340",
     "exception": false,
     "start_time": "2023-12-04T12:11:09.108869",
     "status": "completed"
    },
    "tags": []
   },
   "outputs": [
    {
     "name": "stdout",
     "output_type": "stream",
     "text": [
      "Looking in links: file:///kaggle/input/torchstain\r\n",
      "Processing /kaggle/input/torchstain/torchstain-1.3.0-py3-none-any.whl\r\n",
      "Requirement already satisfied: numpy in /opt/conda/lib/python3.10/site-packages (from torchstain) (1.24.3)\r\n",
      "Installing collected packages: torchstain\r\n",
      "Successfully installed torchstain-1.3.0\r\n",
      "torchstain package successfully imported!\n"
     ]
    }
   ],
   "source": [
    "!pip install torchstain --no-index --find-links=file:///kaggle/input/torchstain\n",
    "import torchstain\n",
    "print(\"torchstain package successfully imported!\")"
   ]
  },
  {
   "cell_type": "code",
   "execution_count": 3,
   "id": "85eb8933",
   "metadata": {
    "execution": {
     "iopub.execute_input": "2023-12-04T12:11:20.810068Z",
     "iopub.status.busy": "2023-12-04T12:11:20.809646Z",
     "iopub.status.idle": "2023-12-04T12:11:57.029316Z",
     "shell.execute_reply": "2023-12-04T12:11:57.028086Z"
    },
    "papermill": {
     "duration": 36.228104,
     "end_time": "2023-12-04T12:11:57.032018",
     "exception": false,
     "start_time": "2023-12-04T12:11:20.803914",
     "status": "completed"
    },
    "tags": []
   },
   "outputs": [],
   "source": [
    "from tensorflow.keras.models import load_model\n",
    "#CNN_model = load_model('/kaggle/input/model12/CNN_model.h5')\n",
    "#VGG_model = load_model('/kaggle/input/model21/vgg_model.h5')\n",
    "VGG_model_16 = load_model('/kaggle/input/cute-16/vgg_model_16.h5')\n",
    "import joblib\n",
    "target = joblib.load('/kaggle/input/preprocessing-done/target.joblib')"
   ]
  },
  {
   "cell_type": "code",
   "execution_count": 4,
   "id": "b8deb120",
   "metadata": {
    "execution": {
     "iopub.execute_input": "2023-12-04T12:11:57.043558Z",
     "iopub.status.busy": "2023-12-04T12:11:57.043214Z",
     "iopub.status.idle": "2023-12-04T12:11:57.068703Z",
     "shell.execute_reply": "2023-12-04T12:11:57.067825Z"
    },
    "papermill": {
     "duration": 0.034103,
     "end_time": "2023-12-04T12:11:57.071358",
     "exception": false,
     "start_time": "2023-12-04T12:11:57.037255",
     "status": "completed"
    },
    "tags": []
   },
   "outputs": [
    {
     "data": {
      "text/html": [
       "<div>\n",
       "<style scoped>\n",
       "    .dataframe tbody tr th:only-of-type {\n",
       "        vertical-align: middle;\n",
       "    }\n",
       "\n",
       "    .dataframe tbody tr th {\n",
       "        vertical-align: top;\n",
       "    }\n",
       "\n",
       "    .dataframe thead th {\n",
       "        text-align: right;\n",
       "    }\n",
       "</style>\n",
       "<table border=\"1\" class=\"dataframe\">\n",
       "  <thead>\n",
       "    <tr style=\"text-align: right;\">\n",
       "      <th></th>\n",
       "      <th>image_id</th>\n",
       "      <th>image_width</th>\n",
       "      <th>image_height</th>\n",
       "    </tr>\n",
       "  </thead>\n",
       "  <tbody>\n",
       "    <tr>\n",
       "      <th>0</th>\n",
       "      <td>41</td>\n",
       "      <td>28469</td>\n",
       "      <td>16987</td>\n",
       "    </tr>\n",
       "  </tbody>\n",
       "</table>\n",
       "</div>"
      ],
      "text/plain": [
       "   image_id  image_width  image_height\n",
       "0        41        28469         16987"
      ]
     },
     "execution_count": 4,
     "metadata": {},
     "output_type": "execute_result"
    }
   ],
   "source": [
    "import pandas as pd\n",
    "test_csv_path = \"/kaggle/input/UBC-OCEAN/test.csv\"\n",
    "test_df = pd.read_csv(test_csv_path)\n",
    "test_df"
   ]
  },
  {
   "cell_type": "code",
   "execution_count": 5,
   "id": "84383275",
   "metadata": {
    "execution": {
     "iopub.execute_input": "2023-12-04T12:11:57.082038Z",
     "iopub.status.busy": "2023-12-04T12:11:57.081687Z",
     "iopub.status.idle": "2023-12-04T12:11:57.092620Z",
     "shell.execute_reply": "2023-12-04T12:11:57.091708Z"
    },
    "papermill": {
     "duration": 0.018198,
     "end_time": "2023-12-04T12:11:57.094566",
     "exception": false,
     "start_time": "2023-12-04T12:11:57.076368",
     "status": "completed"
    },
    "tags": []
   },
   "outputs": [
    {
     "data": {
      "text/html": [
       "<div>\n",
       "<style scoped>\n",
       "    .dataframe tbody tr th:only-of-type {\n",
       "        vertical-align: middle;\n",
       "    }\n",
       "\n",
       "    .dataframe tbody tr th {\n",
       "        vertical-align: top;\n",
       "    }\n",
       "\n",
       "    .dataframe thead th {\n",
       "        text-align: right;\n",
       "    }\n",
       "</style>\n",
       "<table border=\"1\" class=\"dataframe\">\n",
       "  <thead>\n",
       "    <tr style=\"text-align: right;\">\n",
       "      <th></th>\n",
       "      <th>image_id</th>\n",
       "      <th>image_width</th>\n",
       "      <th>image_height</th>\n",
       "      <th>is_tma</th>\n",
       "    </tr>\n",
       "  </thead>\n",
       "  <tbody>\n",
       "    <tr>\n",
       "      <th>0</th>\n",
       "      <td>41</td>\n",
       "      <td>28469</td>\n",
       "      <td>16987</td>\n",
       "      <td>False</td>\n",
       "    </tr>\n",
       "  </tbody>\n",
       "</table>\n",
       "</div>"
      ],
      "text/plain": [
       "   image_id  image_width  image_height  is_tma\n",
       "0        41        28469         16987   False"
      ]
     },
     "execution_count": 5,
     "metadata": {},
     "output_type": "execute_result"
    }
   ],
   "source": [
    "test_df['is_tma']=((test_df['image_width'] < 5000) & (test_df['image_height'] < 5000))\n",
    "test_df"
   ]
  },
  {
   "cell_type": "code",
   "execution_count": 6,
   "id": "77effb9b",
   "metadata": {
    "execution": {
     "iopub.execute_input": "2023-12-04T12:11:57.105281Z",
     "iopub.status.busy": "2023-12-04T12:11:57.105008Z",
     "iopub.status.idle": "2023-12-04T12:11:57.120559Z",
     "shell.execute_reply": "2023-12-04T12:11:57.119219Z"
    },
    "papermill": {
     "duration": 0.023205,
     "end_time": "2023-12-04T12:11:57.122833",
     "exception": false,
     "start_time": "2023-12-04T12:11:57.099628",
     "status": "completed"
    },
    "tags": []
   },
   "outputs": [
    {
     "data": {
      "text/html": [
       "<div>\n",
       "<style scoped>\n",
       "    .dataframe tbody tr th:only-of-type {\n",
       "        vertical-align: middle;\n",
       "    }\n",
       "\n",
       "    .dataframe tbody tr th {\n",
       "        vertical-align: top;\n",
       "    }\n",
       "\n",
       "    .dataframe thead th {\n",
       "        text-align: right;\n",
       "    }\n",
       "</style>\n",
       "<table border=\"1\" class=\"dataframe\">\n",
       "  <thead>\n",
       "    <tr style=\"text-align: right;\">\n",
       "      <th></th>\n",
       "      <th>image_id</th>\n",
       "      <th>image_width</th>\n",
       "      <th>image_height</th>\n",
       "      <th>is_tma</th>\n",
       "    </tr>\n",
       "  </thead>\n",
       "  <tbody>\n",
       "    <tr>\n",
       "      <th>0</th>\n",
       "      <td>41</td>\n",
       "      <td>28469</td>\n",
       "      <td>16987</td>\n",
       "      <td>0</td>\n",
       "    </tr>\n",
       "  </tbody>\n",
       "</table>\n",
       "</div>"
      ],
      "text/plain": [
       "   image_id  image_width  image_height  is_tma\n",
       "0        41        28469         16987       0"
      ]
     },
     "execution_count": 6,
     "metadata": {},
     "output_type": "execute_result"
    }
   ],
   "source": [
    "test_df['is_tma']=test_df['is_tma'].astype(\"int8\")\n",
    "test_df['image_id']=test_df['image_id'].astype(\"int32\")\n",
    "test_df['image_width']=test_df['image_width'].astype(\"int32\")\n",
    "test_df['image_height']=test_df['image_height'].astype(\"int32\")\n",
    "test_df"
   ]
  },
  {
   "cell_type": "code",
   "execution_count": 7,
   "id": "5537e4e4",
   "metadata": {
    "execution": {
     "iopub.execute_input": "2023-12-04T12:11:57.134022Z",
     "iopub.status.busy": "2023-12-04T12:11:57.133634Z",
     "iopub.status.idle": "2023-12-04T12:11:57.168375Z",
     "shell.execute_reply": "2023-12-04T12:11:57.167030Z"
    },
    "papermill": {
     "duration": 0.043413,
     "end_time": "2023-12-04T12:11:57.171119",
     "exception": false,
     "start_time": "2023-12-04T12:11:57.127706",
     "status": "completed"
    },
    "tags": []
   },
   "outputs": [],
   "source": [
    "from PIL import Image \n",
    "import numpy as np\n",
    "Image.MAX_IMAGE_PIXELS = 10000000000\n",
    "# Define patch size and overlap (if needed)  \n",
    "patch_size = (512,512)# 提取图块大小 Adjust this according to your requirements\n",
    "overlap = 20  # 相邻图块之间的重叠 Adjust this if you want overlapping patches\n",
    "resize_size = (256, 256)  # New size for the resized image\n",
    "def slice(test_df):\n",
    "    image_data = []\n",
    "    img_ids=[] #imageid方便后面majority voting\n",
    "    empty_img=0\n",
    "    for img_id,  tma in zip(test_df['image_id'], test_df['is_tma']):\n",
    "        #print(img_id, label,  tma)\n",
    "        if tma==0:\n",
    "            img_name = str(img_id)+\"_thumbnail.png\"\n",
    "            large_image = Image.open(\"/kaggle/input/UBC-OCEAN/test_thumbnails/\"+img_name)\n",
    "            for y in range(0, large_image.height, patch_size[0] - overlap): # (0,2523,192)\n",
    "                for x in range(0, large_image.width, patch_size[1] - overlap):  # (0,3000,192)  224-32=192\n",
    "                    patch = large_image.crop((x, y, x+patch_size[1], y+patch_size[0]))\n",
    "                    resized_patch = patch.resize(resize_size)\n",
    "                    image = np.array(resized_patch)\n",
    "                    #image = np.array(patch)\n",
    "                    if np.sum(image)==0:\n",
    "                        empty_img+=1\n",
    "                    elif (np.sum(image[0:,0:50])==0) or (np.sum(image[0:,50:])==0) or (np.sum(image[0:,100:])==0):\n",
    "                        empty_img+=1\n",
    "                    elif (np.sum(image[0:50,0:])==0) or (np.sum(image[50:,0:])==0) or (np.sum(image[100:,0:])==0):\n",
    "                        empty_img+=1\n",
    "                    elif (np.sum(image[0:50,0:50])==0) or (np.sum(image[0:50,50:])==0):\n",
    "                        empty_img+=1\n",
    "                    elif (np.sum(image[50:100,0:50])==0) or (np.sum(image[50:100,50:])==0):\n",
    "                        empty_img+=1\n",
    "                    elif (np.sum(image[50:,0:100])==0) or (np.sum(image[80:,80:])==0):\n",
    "                        empty_img+=1\n",
    "                    elif (np.sum(image[0:50,75:])==0) or (np.sum(image[50:,75:])==0):\n",
    "                        empty_img+=1\n",
    "                    elif (np.sum(image[0:40,80:])==0) or (np.sum(image[80:,80:])==0):\n",
    "                        empty_img+=1\n",
    "                    elif (np.sum(image[0:35,0:])==0) or (np.sum(image[80:,0:])==0):\n",
    "                        empty_img+=1\n",
    "                    elif (np.sum(image[0:25,0:50])==0) or (np.sum(image[0:25,100:])==0):\n",
    "                        empty_img+=1\n",
    "                    elif (np.sum(image[0:20,0:25])==0) or (np.sum(image[0:20,25:50])==0) or (np.sum(image[0:20,50:80])==0) or (np.sum(image[0:20,90:])==0):\n",
    "                        empty_img+=1\n",
    "                    elif (np.sum(image[0:25,0:25])==0) or (np.sum(image[0:25,100:])==0) or (np.sum(image[100:,0:25])==0) or (np.sum(image[100:,100:])==0):\n",
    "                        empty_img+=1\n",
    "                    elif (np.sum(image[0:15,0:])==0) or (np.sum(image[115:,0:])==0):\n",
    "                        empty_img+=1\n",
    "                    elif (np.sum(image[0:,0:15])==0) or (np.sum(image[0:,115:])==0):\n",
    "                        empty_img+=1\n",
    "                    elif (np.sum(image[0:20,0:20])==0) or (np.sum(image[0:20,110:])==0) or (np.sum(image[110:,0:20])==0) or (np.sum(image[110:,110:])==0):\n",
    "                        empty_img+=1\n",
    "                    elif (np.sum(image[0:10,0:10])==0) or (np.sum(image[0:10,115:])==0) or (np.sum(image[0:10,40:60])==0) or (np.sum(image[0:10,80:100])==0):\n",
    "                        empty_img+=1\n",
    "                    elif (np.sum(image[40:50,0:10])==0) or (np.sum(image[110:,80:100])==0) or (np.sum(image[70:85,70:90])==0) or (np.sum(image[50:60,110:])==0):\n",
    "                        empty_img+=1\n",
    "\n",
    "                    else:\n",
    "                        image_data.append(image)\n",
    "                        img_ids.append(img_id)\n",
    "        elif tma==1:\n",
    "            img_name = str(img_id)+\".png\"\n",
    "            large_image = Image.open(\"/kaggle/input/UBC-OCEAN/test_images/\"+img_name)\n",
    "            for y in range(0, large_image.height, patch_size[0] - overlap): # (0,2523,192)\n",
    "                for x in range(0, large_image.width, patch_size[1] - overlap):  # (0,3000,192)  224-32=192\n",
    "                    patch = large_image.crop((x, y, x+patch_size[1], y+patch_size[0]))\n",
    "                    resized_patch = patch.resize(resize_size)\n",
    "                    image = np.array(resized_patch)\n",
    "                    if np.sum(image)==0:\n",
    "                        empty_img+=1\n",
    "                    elif (np.sum(image[0:,0:50])==0) or (np.sum(image[0:,50:])==0) or (np.sum(image[0:,100:])==0):\n",
    "                        empty_img+=1\n",
    "                    elif (np.sum(image[0:50,0:])==0) or (np.sum(image[50:,0:])==0) or (np.sum(image[100:,0:])==0):\n",
    "                        empty_img+=1\n",
    "                    elif (np.sum(image[0:50,0:50])==0) or (np.sum(image[0:50,50:])==0):\n",
    "                        empty_img+=1\n",
    "                    elif (np.sum(image[50:100,0:50])==0) or (np.sum(image[50:100,50:])==0):\n",
    "                        empty_img+=1\n",
    "                    elif (np.sum(image[50:,0:100])==0) or (np.sum(image[80:,80:])==0):\n",
    "                        empty_img+=1\n",
    "                    elif (np.sum(image[0:50,75:])==0) or (np.sum(image[50:,75:])==0):\n",
    "                        empty_img+=1\n",
    "                    elif (np.sum(image[0:40,80:])==0) or (np.sum(image[80:,80:])==0):\n",
    "                        empty_img+=1\n",
    "                    elif (np.sum(image[0:35,0:])==0) or (np.sum(image[80:,0:])==0):\n",
    "                        empty_img+=1\n",
    "                    elif (np.sum(image[0:25,0:50])==0) or (np.sum(image[0:25,100:])==0):\n",
    "                        empty_img+=1\n",
    "                    elif (np.sum(image[0:20,0:25])==0) or (np.sum(image[0:20,25:50])==0) or (np.sum(image[0:20,50:80])==0) or (np.sum(image[0:20,90:])==0):\n",
    "                        empty_img+=1\n",
    "                    elif (np.sum(image[0:25,0:25])==0) or (np.sum(image[0:25,100:])==0) or (np.sum(image[100:,0:25])==0) or (np.sum(image[100:,100:])==0):\n",
    "                        empty_img+=1\n",
    "                    elif (np.sum(image[0:15,0:])==0) or (np.sum(image[115:,0:])==0):\n",
    "                        empty_img+=1\n",
    "                    elif (np.sum(image[0:,0:15])==0) or (np.sum(image[0:,115:])==0):\n",
    "                        empty_img+=1\n",
    "                    elif (np.sum(image[0:20,0:20])==0) or (np.sum(image[0:20,110:])==0) or (np.sum(image[110:,0:20])==0) or (np.sum(image[110:,110:])==0):\n",
    "                        empty_img+=1\n",
    "                    elif (np.sum(image[0:10,0:10])==0) or (np.sum(image[0:10,115:])==0) or (np.sum(image[0:10,40:60])==0) or (np.sum(image[0:10,80:100])==0):\n",
    "                        empty_img+=1\n",
    "                    elif (np.sum(image[40:50,0:10])==0) or (np.sum(image[110:,80:100])==0) or (np.sum(image[70:85,70:90])==0) or (np.sum(image[50:60,110:])==0):\n",
    "                        empty_img+=1\n",
    "\n",
    "\n",
    "                    else:\n",
    "                        image_data.append(image)\n",
    "                        img_ids.append(img_id)\n",
    "    img_ids = np.array(img_ids)\n",
    "    return image_data,img_ids"
   ]
  },
  {
   "cell_type": "code",
   "execution_count": 8,
   "id": "f87395d9",
   "metadata": {
    "execution": {
     "iopub.execute_input": "2023-12-04T12:11:57.182560Z",
     "iopub.status.busy": "2023-12-04T12:11:57.182195Z",
     "iopub.status.idle": "2023-12-04T12:12:00.876686Z",
     "shell.execute_reply": "2023-12-04T12:12:00.875440Z"
    },
    "papermill": {
     "duration": 3.703353,
     "end_time": "2023-12-04T12:12:00.879650",
     "exception": false,
     "start_time": "2023-12-04T12:11:57.176297",
     "status": "completed"
    },
    "tags": []
   },
   "outputs": [],
   "source": [
    "import cv2\n",
    "import torchstain\n",
    "import torch\n",
    "from torchvision import transforms\n",
    "import time\n",
    "def transform(image_data):\n",
    "    transformed_image = []\n",
    "\n",
    "    for i in range(0, len(image_data)):\n",
    "        #print(i)\n",
    "        to_transform = cv2.cvtColor(image_data[i], cv2.COLOR_BGR2RGB)\n",
    "\n",
    "        T = transforms.Compose([\n",
    "            transforms.ToTensor(),\n",
    "            transforms.Lambda(lambda x: x * 255)\n",
    "        ])\n",
    "\n",
    "        normalizer = torchstain.normalizers.MacenkoNormalizer(backend='torch')\n",
    "\n",
    "        try:\n",
    "            normalizer.fit(T(target))\n",
    "            t_to_transform = T(to_transform)\n",
    "            norm, H, E = normalizer.normalize(I=t_to_transform, stains=True)\n",
    "            transformed_image.append(norm)\n",
    "        except (IndexError, torch.linalg.LinAlgError) as e:\n",
    "            print(f\"Error processing image at index {i}: {e}\")\n",
    "            # If an error occurs, append the original image\n",
    "            transformed_image.append(to_transform)\n",
    "    return transformed_image"
   ]
  },
  {
   "cell_type": "code",
   "execution_count": 9,
   "id": "59525e02",
   "metadata": {
    "execution": {
     "iopub.execute_input": "2023-12-04T12:12:00.891579Z",
     "iopub.status.busy": "2023-12-04T12:12:00.890590Z",
     "iopub.status.idle": "2023-12-04T12:12:00.898358Z",
     "shell.execute_reply": "2023-12-04T12:12:00.897352Z"
    },
    "papermill": {
     "duration": 0.01609,
     "end_time": "2023-12-04T12:12:00.900879",
     "exception": false,
     "start_time": "2023-12-04T12:12:00.884789",
     "status": "completed"
    },
    "tags": []
   },
   "outputs": [],
   "source": [
    "def normalize(transformed_image):\n",
    "    normalized_image=[]\n",
    "    for i in range(0,len(transformed_image) ):\n",
    "\n",
    "        # Your image data\n",
    "        image = np.array(transformed_image[i])  # convert torch.Size([256, 256, 3]) to np array\n",
    "\n",
    "        # Define ImageNet mean and standard deviation values for each channel\n",
    "        imagenet_mean = np.array([0.485, 0.456, 0.406])\n",
    "        imagenet_std = np.array([0.229, 0.224, 0.225])\n",
    "\n",
    "        # Step 1: Convert to float32\n",
    "        image_data_float = image.astype(np.float16)\n",
    "\n",
    "        # Step 2: Normalize to [0, 1]\n",
    "        image_data_normalized2 = image_data_float / 255.0\n",
    "\n",
    "        # Step 3: Subtract mean\n",
    "        image_data_normalized2 -= imagenet_mean\n",
    "\n",
    "        # Step 4: Divide by standard deviation\n",
    "        image_data_normalized2 /= imagenet_std\n",
    "\n",
    "        # Clip values to be within the range [-1, 1]\n",
    "        image_data_normalized2 = np.clip(image_data_normalized2, -1, 1)\n",
    "        normalized_image.append(image_data_normalized2)\n",
    "    return normalized_image"
   ]
  },
  {
   "cell_type": "code",
   "execution_count": 10,
   "id": "94abcb26",
   "metadata": {
    "execution": {
     "iopub.execute_input": "2023-12-04T12:12:00.912057Z",
     "iopub.status.busy": "2023-12-04T12:12:00.911701Z",
     "iopub.status.idle": "2023-12-04T12:12:00.918615Z",
     "shell.execute_reply": "2023-12-04T12:12:00.917376Z"
    },
    "papermill": {
     "duration": 0.014287,
     "end_time": "2023-12-04T12:12:00.920405",
     "exception": false,
     "start_time": "2023-12-04T12:12:00.906118",
     "status": "completed"
    },
    "tags": []
   },
   "outputs": [],
   "source": [
    "from collections import Counter\n",
    "\n",
    "def find_majority_label(image_ids, labels):\n",
    "    id_label_map = {}  # 创建一个空的字典来存储image_id和对应的label\n",
    "\n",
    "    # 遍历image_ids和labels列表\n",
    "    for image_id, label in zip(image_ids, labels):\n",
    "        if image_id in id_label_map:\n",
    "            id_label_map[image_id].append(label)\n",
    "        else:\n",
    "            id_label_map[image_id] = [label]\n",
    "\n",
    "    majority_labels = {}  # 创建一个空的字典来存储每个唯一image_id的多数投票label\n",
    "\n",
    "    # 对字典中的每个唯一image_id的label列表进行多数投票\n",
    "    for image_id, label_list in id_label_map.items():\n",
    "        label_counts = Counter(label_list)\n",
    "        majority_label = label_counts.most_common(1)[0][0]\n",
    "        majority_labels[image_id] = majority_label\n",
    "\n",
    "    return majority_labels"
   ]
  },
  {
   "cell_type": "code",
   "execution_count": 11,
   "id": "1946cd9f",
   "metadata": {
    "execution": {
     "iopub.execute_input": "2023-12-04T12:12:00.931537Z",
     "iopub.status.busy": "2023-12-04T12:12:00.931191Z",
     "iopub.status.idle": "2023-12-04T12:12:05.278450Z",
     "shell.execute_reply": "2023-12-04T12:12:05.277294Z"
    },
    "papermill": {
     "duration": 4.354752,
     "end_time": "2023-12-04T12:12:05.280392",
     "exception": false,
     "start_time": "2023-12-04T12:12:00.925640",
     "status": "completed"
    },
    "tags": []
   },
   "outputs": [
    {
     "name": "stdout",
     "output_type": "stream",
     "text": [
      "1/1 [==============================] - 3s 3s/step\n"
     ]
    },
    {
     "data": {
      "text/plain": [
       "['HGSC']"
      ]
     },
     "execution_count": 11,
     "metadata": {},
     "output_type": "execute_result"
    }
   ],
   "source": [
    "import pandas as pd\n",
    "from collections import Counter\n",
    "import numpy as np\n",
    "import tensorflow as tf\n",
    "\n",
    "tf.data.experimental.enable_debug_mode()\n",
    "tf.config.run_functions_eagerly(True)\n",
    "predicted_labels = []\n",
    "for i in range(len(test_df)):\n",
    "    image_data, img_ids = slice(test_df.iloc[[i]])\n",
    "    if image_data==[]:\n",
    "        predicted_label='HGSC'\n",
    "    else:\n",
    "        transformed_image = transform(image_data)\n",
    "        normalized_image = normalize(transformed_image)\n",
    "        del transformed_image\n",
    "        x = np.array(normalized_image) \n",
    "        del normalized_image\n",
    "        predictions = VGG_model_16.predict(x)\n",
    "        del x\n",
    "        y_pred = np.argmax(predictions, axis=1)\n",
    "        del predictions\n",
    "        y_votingpred = find_majority_label(img_ids, y_pred)\n",
    "        unique_img_ids = id  \n",
    "        label = list(y_votingpred.values())[0]\n",
    "        shortform_to_label = {0: 'HGSC', 1: 'LGSC', 2: 'EC', 3: 'CC', 4: 'MC', 5: 'Other'}\n",
    "        predicted_label = shortform_to_label[label]\n",
    "    #print(predicted_label)\n",
    "    del image_data,img_ids\n",
    "    predicted_labels.append(predicted_label)\n",
    "predicted_labels"
   ]
  },
  {
   "cell_type": "code",
   "execution_count": 12,
   "id": "7df17f90",
   "metadata": {
    "execution": {
     "iopub.execute_input": "2023-12-04T12:12:05.292187Z",
     "iopub.status.busy": "2023-12-04T12:12:05.291155Z",
     "iopub.status.idle": "2023-12-04T12:12:05.298071Z",
     "shell.execute_reply": "2023-12-04T12:12:05.297156Z"
    },
    "papermill": {
     "duration": 0.014454,
     "end_time": "2023-12-04T12:12:05.299766",
     "exception": false,
     "start_time": "2023-12-04T12:12:05.285312",
     "status": "completed"
    },
    "tags": []
   },
   "outputs": [
    {
     "data": {
      "text/plain": [
       "\"import pandas as pd\\nfrom collections import Counter\\nimport numpy as np\\nimport tensorflow as tf\\n\\ntf.data.experimental.enable_debug_mode()\\ntf.config.run_functions_eagerly(True)\\npredicted_labels = []\\nfor i in range(len(test_df)):\\n    image_data, img_ids = slice(test_df.iloc[[i]])\\n    if image_data==[]:\\n        predicted_label='HGSC'\\n    else:\\n        transformed_image = transform(image_data)\\n        normalized_image = normalize(transformed_image)\\n        x = np.array(normalized_image) \\n        predictions = VGG_model_16.predict(x)\\n        y_pred = np.argmax(predictions, axis=1)\\n        y_votingpred = find_majority_label(img_ids, y_pred)\\n        unique_img_ids = id  \\n        label = list(y_votingpred.values())[0]\\n        shortform_to_label = {0: 'HGSC', 1: 'LGSC', 2: 'EC', 3: 'CC', 4: 'MC', 5: 'Other'}\\n        predicted_label = shortform_to_label[label]\\n        del transformed_image,normalized_image,predictions,x\\n    #print(predicted_label)\\n    del image_data,img_ids\\n    predicted_labels.append(predicted_label)\\npredicted_labels\""
      ]
     },
     "execution_count": 12,
     "metadata": {},
     "output_type": "execute_result"
    }
   ],
   "source": [
    "'''import pandas as pd\n",
    "from collections import Counter\n",
    "import numpy as np\n",
    "import tensorflow as tf\n",
    "\n",
    "tf.data.experimental.enable_debug_mode()\n",
    "tf.config.run_functions_eagerly(True)\n",
    "predicted_labels = []\n",
    "for i in range(len(test_df)):\n",
    "    image_data, img_ids = slice(test_df.iloc[[i]])\n",
    "    if image_data==[]:\n",
    "        predicted_label='HGSC'\n",
    "    else:\n",
    "        transformed_image = transform(image_data)\n",
    "        normalized_image = normalize(transformed_image)\n",
    "        x = np.array(normalized_image) \n",
    "        predictions = VGG_model_16.predict(x)\n",
    "        y_pred = np.argmax(predictions, axis=1)\n",
    "        y_votingpred = find_majority_label(img_ids, y_pred)\n",
    "        unique_img_ids = id  \n",
    "        label = list(y_votingpred.values())[0]\n",
    "        shortform_to_label = {0: 'HGSC', 1: 'LGSC', 2: 'EC', 3: 'CC', 4: 'MC', 5: 'Other'}\n",
    "        predicted_label = shortform_to_label[label]\n",
    "        del transformed_image,normalized_image,predictions,x\n",
    "    #print(predicted_label)\n",
    "    del image_data,img_ids\n",
    "    predicted_labels.append(predicted_label)\n",
    "predicted_labels'''"
   ]
  },
  {
   "cell_type": "code",
   "execution_count": 13,
   "id": "5bbf0734",
   "metadata": {
    "execution": {
     "iopub.execute_input": "2023-12-04T12:12:05.310917Z",
     "iopub.status.busy": "2023-12-04T12:12:05.310226Z",
     "iopub.status.idle": "2023-12-04T12:12:05.321751Z",
     "shell.execute_reply": "2023-12-04T12:12:05.320377Z"
    },
    "papermill": {
     "duration": 0.019528,
     "end_time": "2023-12-04T12:12:05.323989",
     "exception": false,
     "start_time": "2023-12-04T12:12:05.304461",
     "status": "completed"
    },
    "tags": []
   },
   "outputs": [
    {
     "data": {
      "text/html": [
       "<div>\n",
       "<style scoped>\n",
       "    .dataframe tbody tr th:only-of-type {\n",
       "        vertical-align: middle;\n",
       "    }\n",
       "\n",
       "    .dataframe tbody tr th {\n",
       "        vertical-align: top;\n",
       "    }\n",
       "\n",
       "    .dataframe thead th {\n",
       "        text-align: right;\n",
       "    }\n",
       "</style>\n",
       "<table border=\"1\" class=\"dataframe\">\n",
       "  <thead>\n",
       "    <tr style=\"text-align: right;\">\n",
       "      <th></th>\n",
       "      <th>image_id</th>\n",
       "      <th>label</th>\n",
       "    </tr>\n",
       "  </thead>\n",
       "  <tbody>\n",
       "    <tr>\n",
       "      <th>0</th>\n",
       "      <td>41</td>\n",
       "      <td>HGSC</td>\n",
       "    </tr>\n",
       "  </tbody>\n",
       "</table>\n",
       "</div>"
      ],
      "text/plain": [
       "   image_id label\n",
       "0        41  HGSC"
      ]
     },
     "execution_count": 13,
     "metadata": {},
     "output_type": "execute_result"
    }
   ],
   "source": [
    "submission_data = {'image_id': test_df['image_id'], 'label': predicted_labels}\n",
    "submission_df = pd.DataFrame(submission_data)\n",
    "submission_df"
   ]
  },
  {
   "cell_type": "code",
   "execution_count": 14,
   "id": "85b1d841",
   "metadata": {
    "execution": {
     "iopub.execute_input": "2023-12-04T12:12:05.338019Z",
     "iopub.status.busy": "2023-12-04T12:12:05.337236Z",
     "iopub.status.idle": "2023-12-04T12:12:05.347715Z",
     "shell.execute_reply": "2023-12-04T12:12:05.346543Z"
    },
    "papermill": {
     "duration": 0.020378,
     "end_time": "2023-12-04T12:12:05.350463",
     "exception": false,
     "start_time": "2023-12-04T12:12:05.330085",
     "status": "completed"
    },
    "tags": []
   },
   "outputs": [],
   "source": [
    "submission_df.to_csv('submission.csv', index=False) "
   ]
  },
  {
   "cell_type": "code",
   "execution_count": null,
   "id": "b6f7891f",
   "metadata": {
    "papermill": {
     "duration": 0.00471,
     "end_time": "2023-12-04T12:12:05.360647",
     "exception": false,
     "start_time": "2023-12-04T12:12:05.355937",
     "status": "completed"
    },
    "tags": []
   },
   "outputs": [],
   "source": []
  }
 ],
 "metadata": {
  "kaggle": {
   "accelerator": "none",
   "dataSources": [
    {
     "databundleVersionId": 6924515,
     "sourceId": 45867,
     "sourceType": "competition"
    },
    {
     "sourceId": 152198900,
     "sourceType": "kernelVersion"
    },
    {
     "sourceId": 152254010,
     "sourceType": "kernelVersion"
    },
    {
     "sourceId": 152286657,
     "sourceType": "kernelVersion"
    },
    {
     "sourceId": 152374987,
     "sourceType": "kernelVersion"
    },
    {
     "sourceId": 152646407,
     "sourceType": "kernelVersion"
    }
   ],
   "dockerImageVersionId": 30587,
   "isGpuEnabled": false,
   "isInternetEnabled": false,
   "language": "python",
   "sourceType": "notebook"
  },
  "kernelspec": {
   "display_name": "Python 3",
   "language": "python",
   "name": "python3"
  },
  "language_info": {
   "codemirror_mode": {
    "name": "ipython",
    "version": 3
   },
   "file_extension": ".py",
   "mimetype": "text/x-python",
   "name": "python",
   "nbconvert_exporter": "python",
   "pygments_lexer": "ipython3",
   "version": "3.10.12"
  },
  "papermill": {
   "default_parameters": {},
   "duration": 62.285695,
   "end_time": "2023-12-04T12:12:08.291056",
   "environment_variables": {},
   "exception": null,
   "input_path": "__notebook__.ipynb",
   "output_path": "__notebook__.ipynb",
   "parameters": {},
   "start_time": "2023-12-04T12:11:06.005361",
   "version": "2.4.0"
  }
 },
 "nbformat": 4,
 "nbformat_minor": 5
}
